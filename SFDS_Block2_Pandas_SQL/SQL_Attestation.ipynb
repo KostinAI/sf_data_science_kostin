{
 "cells": [
  {
   "cell_type": "markdown",
   "metadata": {},
   "source": [
    "Задание 4\n",
    "Напишите запрос, который выведет количество фильмов в каждом жанре для случаев, когда в жанре представлено три или больше фильмов.\n",
    "Столбцы к выводу ― genre_name (имя жанра) и movies_count (количество фильмов).\n",
    "\n",
    "select\n",
    "    g.name genre_name,\n",
    "    count(*) as movies_count\n",
    "from sqlprotest.genres g\n",
    "    left join sqlprotest.movie_genres mg on g.id = mg.genre_id\n",
    "    left join sqlprotest.movies m on mg.movie_id = m.id\n",
    "group by 1\n",
    "having count(*) >=3"
   ]
  },
  {
   "cell_type": "markdown",
   "metadata": {},
   "source": [
    "Задание 8\n",
    "Напишите запрос, с помощью которого можно выбрать фильмы, не относящиеся к жанру 'Криминал'.\n",
    "Выведите все столбцы таблицы movies. Результат должен быть отсортирован по названию фильмов по возрастанию.\n",
    "\n",
    "select\n",
    "    m.ID,\n",
    "    m.Name,\n",
    "    m.Rating,\n",
    "    m.Year\n",
    "from sqlprotest.genres g\n",
    "    left join sqlprotest.movie_genres mg on g.id = mg.genre_id\n",
    "    left join sqlprotest.movies m on mg.movie_id = m.id\n",
    "where g.name != 'Криминал'\n",
    "order by 2"
   ]
  },
  {
   "cell_type": "markdown",
   "metadata": {},
   "source": [
    "Задание 9\n",
    "1 point possible (graded)\n",
    "Напишите запрос, который покажет три фильма, у которых есть рейтинг.\n",
    "Отсортируйте выборку по возрастанию года выхода фильма.\n",
    "Выведите все поля таблицы movies.\n",
    "\n",
    "select *\n",
    "from sqlprotest.movies m\n",
    "order by m.year\n",
    "limit 3"
   ]
  },
  {
   "cell_type": "markdown",
   "metadata": {},
   "source": [
    "Задание 11\n",
    "1 point possible (graded)\n",
    "Напишите запрос, с помощью которого можно вычислить средний рейтинг фильмов в каждом жанре.\n",
    "Выведите два столбца: genre_name (название жанра) и average_rating (средний рейтинг).\n",
    "\n",
    "select\n",
    "    g.name genre_name,\n",
    "    avg(m.rating) average_rating\n",
    "from sqlprotest.genres g\n",
    "    left join sqlprotest.movie_genres mg on g.id = mg.genre_id\n",
    "    left join sqlprotest.movies m on mg.movie_id = m.id\n",
    "group by 1"
   ]
  },
  {
   "cell_type": "markdown",
   "metadata": {},
   "source": [
    "Задание 12\n",
    "1 point possible (graded)\n",
    "Напишите запрос, чтобы вывести все названия фильмов и их рейтинги.\n",
    "Если рейтинга нет, отобразите 0 для такого фильма.\n",
    "\n",
    "select\n",
    "    m.name,\n",
    "    coalesce(m.rating, 0) rating\n",
    "from sqlprotest.movies m "
   ]
  }
 ],
 "metadata": {
  "language_info": {
   "name": "python"
  },
  "orig_nbformat": 4
 },
 "nbformat": 4,
 "nbformat_minor": 2
}
