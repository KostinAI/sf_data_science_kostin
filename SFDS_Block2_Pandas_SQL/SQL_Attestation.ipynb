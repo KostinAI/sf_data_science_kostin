{
 "cells": [
  {
   "cell_type": "markdown",
   "metadata": {},
   "source": [
    "### Новое SQL"
   ]
  },
  {
   "cell_type": "markdown",
   "metadata": {},
   "source": [
    "Задание 1\n",
    "Реляционная БД - это\n",
    "Связанная информация представленная в виде двумерных  таблиц"
   ]
  },
  {
   "cell_type": "markdown",
   "metadata": {},
   "source": [
    "Задание 2\n",
    "Оператор SE:ECT относится к\n",
    "→ Мы будем изучать только DML-операторы (для манипуляций с данными), а конкретнее — оператор SELECT, который позволяет выбрать из БД интересующие нас данные."
   ]
  },
  {
   "cell_type": "markdown",
   "metadata": {},
   "source": [
    "Задание 3\n",
    "Верно: В - таблицы муви и жанры связаны как многие ко многим\n",
    "С - таблицы мувис связана с муви_жанры как один ко многим\n",
    "G - в таблице муви_жанры атрибуд id является первичным ключом\n",
    "Е\n",
    "\n",
    "Неверно: А, D, F"
   ]
  },
  {
   "cell_type": "markdown",
   "metadata": {},
   "source": [
    "Задание 4\n",
    "Напишите запрос, который выведет количество фильмов в каждом жанре для случаев, когда в жанре представлено три или больше фильмов.\n",
    "Столбцы к выводу ― genre_name (имя жанра) и movies_count (количество фильмов).\n",
    "Результат отсортируйте по второму полю по убыванию.\n",
    "\n",
    "select\n",
    "    g.name genre_name,\n",
    "    count(*) as movies_count\n",
    "from sqlprotest.genres g\n",
    "    left join sqlprotest.movie_genres mg on g.id = mg.genre_id\n",
    "    left join sqlprotest.movies m on mg.movie_id = m.id\n",
    "group by 1\n",
    "having count(*) >=3\n",
    "order by 2 desc"
   ]
  },
  {
   "cell_type": "markdown",
   "metadata": {},
   "source": [
    "Задание 5\n",
    "Допустим, у нас есть две таблицы с одинаковыми полями (хранят один и тот же вид информации): A {name, description} и B {name, description}.\n",
    "Какой запрос позволит вывести все поля из этих двух объединённых таблиц без дубликатов?\n",
    "\n",
    "select *\n",
    "from A\n",
    "union\n",
    "select *\n",
    "from B"
   ]
  },
  {
   "cell_type": "markdown",
   "metadata": {},
   "source": [
    "задание 6\n",
    "таблице t1 присвоен алиас F1"
   ]
  },
  {
   "cell_type": "markdown",
   "metadata": {},
   "source": [
    "Задание 7 \n",
    "Is null"
   ]
  },
  {
   "cell_type": "markdown",
   "metadata": {},
   "source": [
    "Задание 8\n",
    "Напишите запрос, с помощью которого можно выбрать фильмы, не относящиеся к жанру 'Криминал'.\n",
    "Выведите все столбцы таблицы movies. Результат должен быть отсортирован по названию фильмов по возрастанию.\n",
    "\n",
    "SELECT *\n",
    "FROM sqlprotest.movies\n",
    "EXCEPT\n",
    "SELECT m.id,\n",
    "    m.name,\n",
    "    m.year,    \n",
    "    m.rating\n",
    "FROM sqlprotest.movies m\n",
    "    JOIN sqlprotest.movie_genres mg ON m.id = mg.movie_id\n",
    "WHERE mg.genre_id=5\n",
    "ORDER BY 2"
   ]
  },
  {
   "cell_type": "markdown",
   "metadata": {},
   "source": [
    "Задание 9\n",
    "Напишите запрос, который покажет три фильма, у которых есть рейтинг.\n",
    "Отсортируйте выборку по возрастанию года выхода фильма.\n",
    "Выведите все поля таблицы movies.\n",
    "\n",
    "select *\n",
    "from sqlprotest.movies m\n",
    "where m.rating is not null\n",
    "order by m.year\n",
    "limit 3"
   ]
  },
  {
   "cell_type": "markdown",
   "metadata": {},
   "source": [
    "Задание 10\n",
    "К агрегатным функциям относятся \n",
    "min max count..."
   ]
  },
  {
   "cell_type": "markdown",
   "metadata": {},
   "source": [
    "Задание 11\n",
    "Напишите запрос, с помощью которого можно вычислить средний рейтинг фильмов в каждом жанре.\n",
    "Выведите два столбца: genre_name (название жанра) и average_rating (средний рейтинг).\n",
    "\n",
    "Результат отсортируйте по второму полю по убыванию.\n",
    "\n",
    "select\n",
    "    g.name genre_name,\n",
    "    avg(m.rating) average_rating\n",
    "from sqlprotest.genres g\n",
    "    left join sqlprotest.movie_genres mg on g.id = mg.genre_id\n",
    "    left join sqlprotest.movies m on mg.movie_id = m.id\n",
    "group by 1\n",
    "order by 2 desc"
   ]
  },
  {
   "cell_type": "markdown",
   "metadata": {},
   "source": [
    "Задание 12\n",
    "Напишите запрос, чтобы вывести все названия фильмов и их рейтинги.\n",
    "Если рейтинга нет, отобразите 0 для такого фильма. Отсортировать по названию фильма по возрастанию.\n",
    "\n",
    "select\n",
    "    m.name,\n",
    "    coalesce(m.rating, 0) rating\n",
    "from sqlprotest.movies m\n",
    "order by 1"
   ]
  }
 ],
 "metadata": {
  "language_info": {
   "name": "python"
  },
  "orig_nbformat": 4
 },
 "nbformat": 4,
 "nbformat_minor": 2
}
