{
 "cells": [
  {
   "cell_type": "markdown",
   "metadata": {},
   "source": [
    "## 1. Введение. Знакомство с датасетом"
   ]
  },
  {
   "cell_type": "markdown",
   "metadata": {},
   "source": [
    "⚡ В качестве итогового задания проекта вы подготовите текстовый Google-документ, в котором по каждой встречающейся вам в этом модуле задаче приведёте ваш ответ в формате:\n",
    "\n",
    "номер задания;\n",
    "код с пояснениями;\n",
    "результат запроса (в виде таблицы);\n",
    "общий вывод в конце по результатам анализа рынка труда."
   ]
  },
  {
   "cell_type": "markdown",
   "metadata": {},
   "source": [
    "## 2. Предварительный анализ данных"
   ]
  },
  {
   "cell_type": "markdown",
   "metadata": {},
   "source": [
    "Задание 2.1\n",
    "Рассчитайте максимальный возраст (max_age) кандидата в таблице.\n",
    "\n",
    "select\n",
    "    max(c.age) max_age\n",
    "from hh.candidate c\n",
    "\n",
    "max_age\n",
    "100"
   ]
  },
  {
   "cell_type": "markdown",
   "metadata": {},
   "source": [
    "Задание 2.2\n",
    "Теперь давайте рассчитаем минимальный возраст (min_age) кандидата в таблице.\n",
    "\n",
    "select\n",
    "    min(c.age) min_age\n",
    "from hh.candidate c\n",
    "\n",
    "min_age\n",
    "14"
   ]
  },
  {
   "cell_type": "markdown",
   "metadata": {},
   "source": [
    "Задание 2.3\n",
    "Попробуем «почистить» данные. Напишите запрос, который позволит посчитать, сколько (cnt) человек какого возраста (age) у нас есть.\n",
    "Отсортируйте результат по возрасту в обратном порядке.\n",
    "\n",
    "select\n",
    "    c.age,\n",
    "    count(c.id)\n",
    "from hh.candidate c\n",
    "group by 1\n",
    "order by 1 desc\n",
    "\n",
    "Вывод: выполнен подсчет кандидатов и их сортировка по возрасту. 100 среди значений возраста встречается только один раз, в то время как остальные данные похожи на правду. Значит, при необходимости анализировать возраст в дальнейших подсчётах лучше отбрасывать это число."
   ]
  },
  {
   "cell_type": "markdown",
   "metadata": {},
   "source": [
    "Задание 2.4\n",
    "По данным Росстата, средний возраст занятых в экономике России составляет 39.7 лет. Мы округлим это значение до 40. Найдите количество кандидатов, которые старше данного возраста. Не забудьте отфильтровать «ошибочный» возраст 100.\n",
    "\n",
    "select\n",
    "    count(c.id) \"Количество человек старше 40\"\n",
    "from hh.candidate c\n",
    "where c.age != 100 and c.age>40"
   ]
  },
  {
   "cell_type": "markdown",
   "metadata": {},
   "source": [
    "## 3. Глобальный анализ показателей"
   ]
  },
  {
   "cell_type": "markdown",
   "metadata": {},
   "source": [
    "Задание 3.1\n",
    "Для начала напишите запрос, который позволит узнать, сколько (cnt) у нас кандидатов из каждого города (city).\n",
    "Отсортируйте результат по количеству в обратном порядке.\n",
    "\n",
    "select \n",
    "    city_tbl.title city,\n",
    "    count(cand_tbl.id) cnt\n",
    "from hh.candidate cand_tbl\n",
    "    join hh.city city_tbl on cand_tbl.city_id = city_tbl.id\n",
    "group by 1\n",
    "order by 2 desc"
   ]
  },
  {
   "cell_type": "markdown",
   "metadata": {},
   "source": [
    "Задание 3.2\n",
    "Москва бросается в глаза как, пожалуй, самый активный рынок труда. Напишите запрос, который позволит понять, каких кандидатов из Москвы устроит «проектная работа».\n",
    "Формат выборки: gender, age, desirable_occupation, city, employment_type.\n",
    "Отсортируйте результат по id кандидата.\n",
    "\n",
    "select\n",
    "    cand_data.gender,\n",
    "    cand_data.age,\n",
    "    cand_data.desirable_occupation,\n",
    "    city_data.title city,\n",
    "    cand_data.employment_type\n",
    "from hh.candidate cand_data\n",
    "    join hh.city city_data on cand_data.city_id = city_data.id\n",
    "where city_data.title = 'Москва' and cand_data.employment_type like '%проектная работа%'\n",
    "--group by 4,1\n",
    "order by cand_data.id"
   ]
  },
  {
   "cell_type": "markdown",
   "metadata": {},
   "source": [
    "Задание 3.3\n",
    "Данных оказалось многовато. Отфильтруйте только самые популярные IT-профессии — разработчик, аналитик, программист.\n",
    "Обратите внимание, что данные названия могут быть написаны как с большой, так и с маленькой буквы.\n",
    "Отсортируйте результат по городу и id кандидата.\n",
    "\n",
    "select\n",
    "    cand_data.gender,\n",
    "    cand_data.age,\n",
    "    cand_data.desirable_occupation,\n",
    "    city_data.title city,\n",
    "    cand_data.employment_type\n",
    "from hh.candidate cand_data\n",
    "    join hh.city city_data on cand_data.city_id = city_data.id\n",
    "where\n",
    "    city_data.title = 'Москва'\n",
    "    and cand_data.employment_type like '%проектная работа%'\n",
    "    and (lower(cand_data.desirable_occupation) like '%азработчик%'\n",
    "    or lower(cand_data.desirable_occupation) like '%налитик%'\n",
    "    or lower(cand_data.desirable_occupation) like '%рограммист%')\n",
    "order by\n",
    "    city_data.title,\n",
    "    cand_data.id\n",
    "\n",
    "вариант с ilike\n",
    "select\n",
    "    cand_data.gender,\n",
    "    cand_data.age,\n",
    "    cand_data.desirable_occupation,\n",
    "    city_data.title city,\n",
    "    cand_data.employment_type\n",
    "from hh.candidate cand_data\n",
    "    join hh.city city_data on cand_data.city_id = city_data.id\n",
    "where\n",
    "    city_data.title = 'Москва'\n",
    "    and cand_data.employment_type like '%проектная работа%'\n",
    "    and (cand_data.desirable_occupation ilike '%разработчик%'\n",
    "    or cand_data.desirable_occupation ilike '%аналитик%'\n",
    "    or cand_data.desirable_occupation ilike '%программист%')\n",
    "order by\n",
    "    city_data.title,\n",
    "    cand_data.id"
   ]
  },
  {
   "cell_type": "markdown",
   "metadata": {},
   "source": [
    "Задание 3.4\n",
    "Для общей информации попробуйте выбрать номера и города кандидатов, у которых занимаемая должность совпадает с желаемой. Формат выборки: id, city.\n",
    "Отсортируйте результат по городу и id кандидата.\n",
    "\n",
    "select\n",
    "    cand_data.id,\n",
    "    city_data.title city\n",
    "from hh.candidate cand_data\n",
    "    join hh.city city_data on cand_data.city_id = city_data.id\n",
    "where\n",
    "    cand_data.current_occupation = cand_data.desirable_occupation\n",
    "order by\n",
    "    city_data.title,\n",
    "    cand_data.id"
   ]
  },
  {
   "cell_type": "markdown",
   "metadata": {},
   "source": [
    "Задание 3.5\n",
    "Определите количество кандидатов пенсионного возраста. Пенсионный возраст для мужчин наступает в 65 лет, для женщин — в 60 лет.\n",
    "\n",
    "select\n",
    "    count(*)\n",
    "from hh.candidate cand_data\n",
    "where\n",
    "    cand_data.age != 100\n",
    "    and cand_data.gender = 'M' and cand_data.age >= 65\n",
    "    or cand_data.gender = 'F' and cand_data.age >= 60"
   ]
  },
  {
   "cell_type": "markdown",
   "metadata": {},
   "source": [
    "## 4. Анализ кандидатов для заказчиков"
   ]
  },
  {
   "cell_type": "markdown",
   "metadata": {},
   "source": [
    "Задание 4.1\n",
    "Для добывающей компании нам необходимо подобрать кандидатов из Новосибирска, Омска, Томска и Тюмени, которые готовы работать вахтовым методом.\n",
    "Формат выборки: gender, age, desirable_occupation, city, employment_type, timetable_type.\n",
    "Отсортируйте результат по городу и номеру кандидата.\n",
    "\n",
    "select\n",
    "    cand_data.gender,\n",
    "    cand_data.age,\n",
    "    cand_data.desirable_occupation,\n",
    "    city_data.title as city,\n",
    "    cand_data.employment_type,\n",
    "    tt.title timetable_type\n",
    "from hh.candidate as cand_data\n",
    "    join hh.city city_data on cand_data.city_id = city_data.id\n",
    "    join hh.candidate_timetable_type as ctt on ctt.candidate_id = cand_data.id\n",
    "    join hh.timetable_type as tt on tt.id = ctt.timetable_id\n",
    "where\n",
    "    (city_data.title in ('Новосибирск', 'Омск', 'Томск', 'Тюмень'))\n",
    "    and tt.title = 'вахтовый метод'\n",
    "order by\n",
    "    city_data.title,\n",
    "    cand_data.id\n"
   ]
  },
  {
   "cell_type": "markdown",
   "metadata": {},
   "source": [
    "Задание 4.2\n",
    "Для заказчиков из Санкт-Петербурга нам необходимо собрать список из 10 желаемых профессий кандидатов из того же города от 16 до 21 года (в выборку включается 16 и 21, сортировка производится по возрасту) с указанием их возраста, а также добавить строку Total с общим количеством таких кандидатов. \n",
    "\n",
    "(select\n",
    "    cand_data.desirable_occupation,\n",
    "    cand_data.age\n",
    "from hh.candidate as cand_data\n",
    "    join hh.city city_data on cand_data.city_id = city_data.id\n",
    "where\n",
    "    city_data.title = 'Санкт-Петербург'\n",
    "    and age between 16 and 21\n",
    "order by 2\n",
    "limit 10)\n",
    "\n",
    "union all\n",
    "\n",
    "(select \n",
    "    'Total',\n",
    "    count(*)\n",
    "from hh.candidate as cand_data\n",
    "    join hh.city city_data on cand_data.city_id = city_data.id\n",
    "where\n",
    "    city_data.title = 'Санкт-Петербург'\n",
    "    and age between 16 and 21)"
   ]
  }
 ],
 "metadata": {
  "language_info": {
   "name": "python"
  },
  "orig_nbformat": 4
 },
 "nbformat": 4,
 "nbformat_minor": 2
}
