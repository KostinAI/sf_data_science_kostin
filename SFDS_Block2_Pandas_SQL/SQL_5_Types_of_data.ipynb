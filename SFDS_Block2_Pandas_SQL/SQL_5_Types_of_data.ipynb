{
 "cells": [
  {
   "cell_type": "markdown",
   "metadata": {},
   "source": [
    "## 2. Типы данных в PostgreSQL"
   ]
  },
  {
   "cell_type": "markdown",
   "metadata": {},
   "source": [
    "SQL — это язык со строгой типизацией, в котором каждый элемент данных имеет некоторый тип, определяющий его поведение и допустимое использование.\n",
    "\n",
    "числовые типы — для хранения чисел (целых и дробных);\n",
    "типы даты/времени — для хранения даты, времени, часовых поясов;\n",
    "символьные типы — для хранения символов или строк;\n",
    "логический тип — для хранения значений типа «истина», «ложь»."
   ]
  },
  {
   "cell_type": "markdown",
   "metadata": {},
   "source": [
    "## 3. Даты: основные типы"
   ]
  },
  {
   "cell_type": "markdown",
   "metadata": {},
   "source": [
    "Timestamp — наиболее распространённый тип данных, так как он содержит и дату, и время, а также используется в любых логах событий, временных рядах и в большинстве системных таблиц.\n",
    "\n",
    "SELECT NOW()\n",
    "select CURRENT_TIMESTAMP\n",
    "\n",
    "Timestamp with time zone позволяет хранить сведения о часовом поясе, что может быть удобно при анализе географически распределённых временных данных для единообразия хранения.\n",
    "\n",
    "show timezone\n",
    "\n",
    "select now() at time zone 'Europe/Moscow'"
   ]
  },
  {
   "cell_type": "markdown",
   "metadata": {},
   "source": [
    "Задание 3.1\n",
    "Напишите запрос, который выведет текущие время и дату в часовом поясе Лос-Анджелеса (\"America/Los_Angeles\").\n",
    "Столбец в выдаче — now (время и дата в нужном часовом поясе).\n",
    "\n",
    "select now() at time zone 'America/Los_Angeles'"
   ]
  },
  {
   "cell_type": "markdown",
   "metadata": {},
   "source": [
    "Для получения текущей даты можно использовать\n",
    "select now()::date\n",
    "или \n",
    "select CURRENT_DATE"
   ]
  },
  {
   "cell_type": "markdown",
   "metadata": {},
   "source": [
    "Задание 3.2\n",
    "Предположим, у нас есть дата и время какого-то события и мы хотим посмотреть, к какой дате оно относится для Москвы и для UTC.\n",
    "Используйте подзапрос\n",
    "with x as \n",
    "(\n",
    "select '2018-12-31 21:00:00+00'::timestamp with time zone ts\n",
    ")\n",
    "и выведите дату в ts в Московском часовом поясе и в поясе UTC. Столбцы в выдаче: dt_msk (дата в московском часовом поясе), dt_utc (дата в UTC).\n",
    "\n",
    "\n",
    "with x as \n",
    "(\n",
    "select '2018-12-31 21:00:00+00'::timestamp with time zone ts\n",
    ")\n",
    "select\n",
    "  (ts at time zone 'Europe/Moscow')::date dt_msk,\n",
    "        (ts)::date dt_utc\n",
    "from x"
   ]
  },
  {
   "cell_type": "markdown",
   "metadata": {},
   "source": [
    "Interval — тип данных, позволяющий хранить разницу между двумя временными метками. "
   ]
  },
  {
   "cell_type": "markdown",
   "metadata": {},
   "source": [
    "## 4. Функции и операторы для работы с датами"
   ]
  },
  {
   "cell_type": "markdown",
   "metadata": {},
   "source": [
    "                                    Функция extract() получает из значений даты/времени такие поля, как год или час.\n",
    "\n",
    "SELECT EXTRACT(DAY FROM TIMESTAMP '2001-02-16 20:38:40');\n",
    "SELECT EXTRACT(DAY FROM INTERVAL '40 days 1 minute');\n",
    "\n",
    "SELECT EXTRACT(HOUR FROM TIMESTAMP '2001-02-16 20:38:40');\n",
    "\n",
    "SELECT EXTRACT(MONTH FROM TIMESTAMP '2001-02-16 20:38:40');\n",
    "\n",
    "SELECT EXTRACT(YEAR FROM TIMESTAMP '2001-02-16 20:38:40');\n",
    "\n",
    "SELECT EXTRACT(ISOYEAR FROM DATE '2006-01-01');\n",
    "\n",
    "SELECT EXTRACT(ISOYEAR FROM DATE '2006-01-02');\n",
    "\n",
    "SELECT EXTRACT(WEEK FROM TIMESTAMP '2001-02-16 20:38:40');\n",
    "\n",
    "SELECT EXTRACT(CENTURY FROM TIMESTAMP '2000-12-16 12:21:13');\n",
    "SELECT EXTRACT(CENTURY FROM TIMESTAMP '2001-02-16 20:38:40');\n",
    "\n",
    "SELECT EXTRACT(DECADE FROM TIMESTAMP '2001-02-16 20:38:40');\n",
    "\n",
    "SELECT EXTRACT(EPOCH FROM TIMESTAMP WITH TIME ZONE '2001-02-16 20:38:40.12-08');\n",
    "SELECT EXTRACT(EPOCH FROM INTERVAL '5 days 3 hours');\n",
    "\n",
    "SELECT to_timestamp(982384720.12);\n",
    "\n",
    "SELECT EXTRACT(DOW FROM TIMESTAMP '2001-02-16 20:38:40');\n",
    "\n",
    "SELECT EXTRACT(DOY FROM TIMESTAMP '2001-02-16 20:38:40');"
   ]
  },
  {
   "cell_type": "markdown",
   "metadata": {},
   "source": [
    "Задание 4.1\n",
    "Напишите запрос, который выведет год, месяц и количество доставок.\n",
    "Отсортируйте по году и по месяцу в порядке возрастания.\n",
    "Столбцы в выдаче: year_n (номер года), month_n (номер месяца), qty (количество доставок).\n",
    "\n",
    "select \n",
    "    extract(year from s.ship_date) year_n,\n",
    "    extract(month from s.ship_date) month_n,\n",
    "    count(s.ship_id) qty\n",
    "from sql.shipment s\n",
    "group by 1,2\n",
    "order by 1,2"
   ]
  },
  {
   "cell_type": "markdown",
   "metadata": {},
   "source": [
    "                            Функция to_char() нужна для форматирования даты времени и интервалов в нужный текст."
   ]
  },
  {
   "cell_type": "markdown",
   "metadata": {},
   "source": [
    "Функция\t                        Тип результата\tОписание\t                     Пример\n",
    "to_char(timestamp[date],text)\ttext\t        преобразует время в текст\t    to_char(current_timestamp, 'HH12:MI:SS')\n",
    "to_char(interval, text)\t        text\t        преобразует интервал в текст\tto_char(interval '15h 2m 12s', 'HH24:MI:SS')"
   ]
  },
  {
   "cell_type": "markdown",
   "metadata": {},
   "source": [
    "Код форматирования\t        Описание\n",
    "HH24\t                    час (00-23)\n",
    "MI\t                        минута (00-59)\n",
    "SS\t                        секунда (00-59)\n",
    "MS\t                        миллисекунда (000-999)\n",
    "SSSS\t                    число секунд с начала суток (0-86399)\n",
    "YYYY\t                    год (4 или более цифр)\n",
    "YY\t                        последние две цифры года\n",
    "month\t                    полное название месяца в нижнем регистре (дополненное пробелами до девяти символов)\n",
    "MM\t                        номер месяца (01-12)\n",
    "day\t                        полное название дня недели в нижнем регистре, дополненное пробелами до девяти символов\n",
    "DDD\t                        номер дня в году (001-366)\n",
    "DD\t                        день месяца (01-31)\n",
    "ID\t                        номер дня недели по ISO 8601, считая с понедельника (1) до воскресенья (7)\n",
    "WW                         \tномер недели в году (1-53); первая неделя начинается в первый день года"
   ]
  },
  {
   "cell_type": "markdown",
   "metadata": {},
   "source": [
    "select to_char(now(),'\"Hello! Today is\" DAY yyyy-Mon-dd')"
   ]
  },
  {
   "cell_type": "markdown",
   "metadata": {},
   "source": [
    "Задание 4.2\n",
    "Давайте выведем текст текущего времени для сервиса точного времени.\n",
    "Напишите запрос, который выводит текст \"Точное время x часов y минут z секунд\" (текст в кавычки заключать не нужно), где x, y, z — часы, минуты и секунды соответственно, при условии, что сообщение нужно вывести для московского часового пояса.\n",
    "Время введите в 24-часовом формате. Столбцы в выдаче: msg (сообщение).\n",
    "\n",
    "select to_char(now() at time zone 'Europe/Moscow','Точное время HH24 часов MI минут SS секунд') msg"
   ]
  },
  {
   "cell_type": "markdown",
   "metadata": {},
   "source": [
    "                        Функция date_trunc() позволяет отсечь заданное время, дату или дату со временем до нужной точности.\n",
    "\n",
    "select date_trunc('minute',now())\n",
    "\n",
    "Для получения разной степени точности вместо minute можно использовать следующие параметры:\n",
    "microseconds;\n",
    "milliseconds;\n",
    "second;\n",
    "minute;\n",
    "hour;\n",
    "day;\n",
    "week;\n",
    "month;\n",
    "quarter;\n",
    "year;\n",
    "decade;\n",
    "century;\n",
    "millennium."
   ]
  },
  {
   "cell_type": "markdown",
   "metadata": {},
   "source": [
    "Задание 4.3\n",
    "Напишите запрос, который выведет дату доставки, округлённую до квартала, и общую массу доставок.\n",
    "Отсортируйте по кварталу в порядке возрастания.\n",
    "Столбцы в выдаче: q (начало квартала, тип date), total_weight (сумма масс доставок за квартал).\n",
    "\n",
    "select \n",
    "    date_trunc('quarter', s.ship_date)::date q,\n",
    "    sum(s.weight) total_weight\n",
    "from sql.shipment s\n",
    "group by 1\n",
    "order by 1"
   ]
  },
  {
   "cell_type": "markdown",
   "metadata": {},
   "source": [
    "                                                            МАТЕМАТИЧЕСКИЕ ОПЕРАТОРЫ\n",
    "\n",
    "select '2019-01-01'::date + 10\n",
    "select '2019-01-01'::date + 500\n",
    "select '2019-02-10'::date - '2017-03-01'::date"
   ]
  },
  {
   "cell_type": "markdown",
   "metadata": {},
   "source": [
    "Задание 4.4\n",
    "Напишите запрос, который выведет разницу между последним и первым днём доставки по каждому городу.\n",
    "Отсортируйте по первому и второму столбцам. Столбцы в выдаче: city_name (название города) и days_active (время от первой до последней доставки в днях).\n",
    "\n",
    "select \n",
    "    c.city_name,\n",
    "    max(s.ship_date)-min(s.ship_date) days_active\n",
    "from sql.shipment s\n",
    "    join sql.city c on s.city_id = c.city_id\n",
    "group by 1\n",
    "order by 1, 2"
   ]
  },
  {
   "cell_type": "markdown",
   "metadata": {},
   "source": [
    "## 5. Строковые данные: основные типы"
   ]
  },
  {
   "cell_type": "markdown",
   "metadata": {},
   "source": [
    "CHARACTER - Cтрока фиксированной длины, дополненная пробелами.\n",
    "\n",
    "CHARACTER VARYING - Строка ограниченной переменной длины.\n",
    "\n",
    "TEXT - Cтрока неограниченной длины"
   ]
  },
  {
   "cell_type": "markdown",
   "metadata": {},
   "source": [
    "## 6. Функции и операторы для работы со строками"
   ]
  },
  {
   "cell_type": "markdown",
   "metadata": {},
   "source": [
    "Важно! Результатом соединения любых типов строковых данных будет тип text.\n",
    "\n",
    "select 'select * from '||t.table_schema||'.'||t.table_name||';' query\n",
    "from information_schema.tables t\n",
    "where table_schema = 'shipping'\n",
    "\n",
    "Важно! Если вы соединяете любую строку и NULL, то результатом будет NULL. Поэтому, если вы формируете какой-то текст на основе поля, в котором присутствует NULL, используйте оператор coalesce."
   ]
  },
  {
   "cell_type": "markdown",
   "metadata": {},
   "source": [
    "Задание 6.1\n",
    "Составим текстовый шаблон сообщения о доставке по конкретному водителю для наших клиентов.\n",
    "Напишите SQL-запрос, который выведет следующее сообщение для каждого водителя по форме:\n",
    "Ваш заказ доставит водитель #Имя Фамилия#. Его контактный номер: #Номер#, где #Имя Фамилия# и #Номер# взяты из справочника водителей.\n",
    "Если номер не указан, то выведите прочерк (-). Для номеров рекомендуем использовать coalesce.\n",
    "Пример из таблицы для наглядности: Ваш заказ доставит водитель Adel Al-Alawi. Его контактный номер: (901) 947-4433\n",
    "Столбец к выдаче — msg (текст сообщения).\n",
    "\n",
    "Вариант 1:\n",
    "select 'Ваш заказ доставит водитель '||d.first_name||' '||d.last_name||'. Его контактный номер: '||coalesce(d.phone) msg\n",
    "from sql.driver d\n",
    "where d.phone is not null\n",
    "union all\n",
    "select 'Ваш заказ доставит водитель '||dd.first_name||' '||dd.last_name||'. Его контактный номер: -' msg\n",
    "from sql.driver dd\n",
    "where dd.phone is null\n",
    "\n",
    "Вариант 2:\n",
    "SELECT \n",
    "        'Ваш заказ доставит водитель '||d.first_name||' '||d.last_name||'. '||'Его контактный номер: '||coalesce(d.phone, '-') msg\n",
    "FROM sql.driver d"
   ]
  },
  {
   "cell_type": "markdown",
   "metadata": {},
   "source": [
    "Функции upper(your_text) и lower(your_text) переводят каждый символ вашего текста в верхний и нижний регистр соответственно.\n",
    "\n",
    "select upper('Abc') s1 ,lower('xYz') s2"
   ]
  },
  {
   "cell_type": "markdown",
   "metadata": {},
   "source": [
    "Задание 6.2\n",
    "Cоставим справочник названий клиентов, у которых более десяти доставок. Данные сохраним в нижнем регистре, чтобы передавать их в другие системы (например, для обзвона), которые не чувствительны к регистру.\n",
    "Напишите запрос, который выводит все id названий клиентов, у которых более десяти доставок, в нижнем регистре. Отсортируйте результат по cust_id в порядке возрастания. Столбцы в выдаче: cust_id (id клиента) и cust_name (название клиента в нижнем регистре).\n",
    "\n",
    "select \n",
    "    c.cust_id cust_id,\n",
    "    lower(c.cust_name) cust_name\n",
    "from sql.customer c\n",
    "    join sql.shipment s on c.cust_id = s.cust_id\n",
    "group by 1\n",
    "having count(s.ship_id) > 10\n",
    "order by 1"
   ]
  },
  {
   "cell_type": "markdown",
   "metadata": {},
   "source": [
    "С помощью функции replace() можно заменять символы в строках.\n",
    "replace(string text, from text, to text)\n",
    "\n",
    "select replace('малако','а','о')\n",
    "\n",
    "Например, сделаем из строки \"Hello, world!\" строку \"Hello!\".\n",
    "select replace('Hello, world!',', world','')"
   ]
  },
  {
   "cell_type": "markdown",
   "metadata": {},
   "source": [
    "Задание 6.3\n",
    "Составим справочник utm-меток, для того чтобы передавать город и штат прямо в адресной строке. (Если вы не знаете, что такое utm-метка, почитайте статью на Вики. К программе курса это не относится, но знать полезно.)\n",
    "Напишите SQL-запрос, который выведет список сочетаний из справочника следующего вида: название_штата__название_города, где названия штата и города взяты из справочника городов и переведены в нижний регистр.\n",
    "Столбец к выдаче — utm (форматированный штат-город).\n",
    "Отсортируйте полученный справочник по алфавиту.\n",
    "Обратите внимание! Все пробелы в названиях городов и штатов замените символом '_' (одно нижнее подчёркивание), а для разделения названий города и штата используйте '__' (два последовательных нижних подчёркивания).\n",
    "Пример из таблицы для наглядности: new_jersey__union_city\n",
    "\n",
    "select \n",
    "    replace(lower(c.state), ' ', '_')||'__'||replace(lower(c.city_name),' ', '_') utm\n",
    "from sql.city c\n",
    "order by 1"
   ]
  },
  {
   "cell_type": "markdown",
   "metadata": {},
   "source": [
    "LEFT() И RIGHT()\n",
    "\n",
    "with t as\n",
    "(\n",
    "select 'Один два три'::text sample_string\n",
    ")\n",
    "select \n",
    " left(t.sample_string,4) one,\n",
    " right(left(t.sample_string,8),3) two,\n",
    " right(t.sample_string,3) three\n",
    "from t\n",
    "\n",
    "select left('0123456789', - 2), right('0123456789', - 2)"
   ]
  },
  {
   "cell_type": "markdown",
   "metadata": {},
   "source": [
    "Задание 6.4\n",
    "Представим, что к вам пришёл разработчик, который хочет сократить поле state в таблице city до четырёх символов, и попросил проверить, останутся ли значения в нём уникальными.\n",
    "Чтобы ответить на этот вопрос, напишите SQL-запрос, который выведет первые четыре символа названия штата, и количество уникальных названий штатов, которому они соотвествуют. Оставьте только те, которые относятся к двум и более штатам.\n",
    "Добавьте сортировку по первому столбцу. Столбцы в выдаче: code (четыре первых буквы штата), qty (количество уникальных названий штата, начинаюшихся на эти буквы).\n",
    "\n",
    "select\n",
    "    left(c.state, 4) code,\n",
    "    count(distinct c.state) qty\n",
    "from sql.city c\n",
    "group by 1\n",
    "having count(distinct c.state) >=2\n",
    "order by 1"
   ]
  },
  {
   "cell_type": "markdown",
   "metadata": {},
   "source": [
    "Функция format() используется для составления форматированного текста с подстановками. То же самое можно сделать через конкатенацию строк, но это неудобно и громоздко.\n",
    "\n",
    "format(formatstr text [, argument1 text,argument2 text...])\n",
    "\n",
    "select format('Hello, %s!', d.first_name) from shipping.driver d\n",
    "\n",
    "Если в вашем шаблоне присутствует одинарная кавычка, то для удобства можно вместо одинарных кавычек использовать $$ (два знака доллара):\n",
    "select $$ some_string with quotes ' $$"
   ]
  },
  {
   "cell_type": "markdown",
   "metadata": {},
   "source": [
    "Задание 6.5\n",
    "Давайте подготовим географическую сводку для каждого города.\n",
    "Напишите SQL-запрос, который выведет описание региона в следующем формате: [city_name] is located in [state]. There's [population] people living there. Its area is [area] (обратите внимание, точку в конце ставить не нужно).\n",
    "Отсортируйте по названию города в алфавитном порядке.\n",
    "Столбец к выдаче — str (сводка).\n",
    "Пример: Abilene is located in Texas. There's 115930 people living there. Its area is 105.10\n",
    "\n",
    "select \n",
    "    format($$%s is located in %s. There's %s people living there. Its area is %s$$, c.city_name, c.state, c.population, c.area) str\n",
    "from sql.city c\n",
    "order by c.city_name"
   ]
  }
 ],
 "metadata": {
  "language_info": {
   "name": "python"
  },
  "orig_nbformat": 4
 },
 "nbformat": 4,
 "nbformat_minor": 2
}
