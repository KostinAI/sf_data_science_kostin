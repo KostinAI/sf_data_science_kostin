{
 "cells": [
  {
   "cell_type": "markdown",
   "metadata": {},
   "source": [
    "## 1. Знакомимся с данными"
   ]
  },
  {
   "cell_type": "markdown",
   "metadata": {},
   "source": [
    "Агрегатные функции помогают вычислять сводные значения для группы строк."
   ]
  },
  {
   "cell_type": "markdown",
   "metadata": {},
   "source": [
    "## 2. Убираем повторяющиеся значения"
   ]
  },
  {
   "cell_type": "markdown",
   "metadata": {},
   "source": [
    "Чтобы получить уникальные значения из столбца, воспользуемся ключевым словом DISTINCT.\n",
    "\n",
    "SELECT DISTINCT\n",
    "    type1,\n",
    "    type2\n",
    "FROM sql.pokemon"
   ]
  },
  {
   "cell_type": "markdown",
   "metadata": {},
   "source": [
    "## 3. Агрегатные функции"
   ]
  },
  {
   "cell_type": "markdown",
   "metadata": {},
   "source": [
    "COUNT считает строки, а звёздочка (*) в аргументе функции означает, что считаются все строки, которые возвращает запрос.\n",
    "Если в аргументе функции указать название столбца, функция обработает только строки с непустым значением.\n",
    "\n",
    "SELECT\n",
    "    COUNT(*)\n",
    "FROM sql.pokemon"
   ]
  },
  {
   "cell_type": "markdown",
   "metadata": {},
   "source": [
    "### Задание 3.1\n",
    "Сколько покемонов имеет дополнительный тип?\n",
    "\n",
    "SELECT\n",
    "    COUNT(type2)\n",
    "FROM sql.pokemon"
   ]
  },
  {
   "cell_type": "markdown",
   "metadata": {},
   "source": [
    "SELECT\n",
    "    COUNT(DISTINCT type1)\n",
    "FROM sql.pokemon"
   ]
  },
  {
   "cell_type": "markdown",
   "metadata": {},
   "source": [
    "Основные агреагтные функции:\n",
    "\n",
    "COUNT — вычисляет число непустых строк;\n",
    "SUM — вычисляет сумму;\n",
    "AVG — вычисляет среднее;\n",
    "MAX — вычисляет максимум;\n",
    "MIN — вычисляет минимум."
   ]
  },
  {
   "cell_type": "markdown",
   "metadata": {},
   "source": [
    "### Задание 3.3\n",
    "Найдите максимальное значение атаки среди всех покемонов.\n",
    "\n",
    "SELECT\n",
    "    max(attack)\n",
    "FROM sql.pokemon\n",
    "\n",
    "### Задание 3.4\n",
    "Какое среднее количество очков здоровья у покемонов-драконов (то есть тех, у кого основной тип — Dragon)?\n",
    "Введите целое число, округлив в сторону уменьшения.\n",
    "\n",
    "SELECT\n",
    "    avg(hp)\n",
    "FROM sql.pokemon\n",
    "where type1 = 'Dragon'\n"
   ]
  },
  {
   "cell_type": "markdown",
   "metadata": {},
   "source": [
    "Несколько агг. функций\n",
    "\n",
    "SELECT\n",
    "    COUNT(*) AS \"всего травяных покемонов\",\n",
    "    COUNT(type2) AS \"покемонов с дополнительным типом\",\n",
    "    AVG(attack) AS \"средняя атака\",\n",
    "    AVG(defense) AS \"средняя защита\"\n",
    "FROM sql.pokemon\n",
    "WHERE type1 = 'Grass'"
   ]
  },
  {
   "cell_type": "markdown",
   "metadata": {},
   "source": [
    "### Задание 3.5\n",
    "Напишите запрос, который выведет:\n",
    "\n",
    "количество покемонов (столбец pokemon_count);\n",
    "среднюю скорость (столбец avg_speed);\n",
    "максимальное и минимальное число очков здоровья (столбцы max_hp и min_hp) для электрических (Electric) покемонов, имеющих дополнительный тип и показатели атаки или защиты больше 50.\n",
    "\n",
    "SELECT\n",
    "    COUNT(id) as \"pokemon_count\",\n",
    "    AVG(speed) AS \"avg_speed\",\n",
    "    max(hp) AS \"max_hp\",\n",
    "    min(hp) AS \"min_hp\"\n",
    "FROM sql.pokemon\n",
    "WHERE\n",
    "    type1 = 'Electric'\n",
    "    and type2 is not null\n",
    "    and (attack> 50 or defense>50)"
   ]
  },
  {
   "cell_type": "markdown",
   "metadata": {},
   "source": [
    "## 4. Группировка"
   ]
  },
  {
   "cell_type": "markdown",
   "metadata": {},
   "source": [
    "GROUP BY используется для определения групп выходных строк, к которым могут применяться агрегатные функции.\n",
    "\n",
    "SELECT\n",
    "    type1 AS pokemon_type,\n",
    "    COUNT(*) AS pokemon_count\n",
    "FROM sql.pokemon\n",
    "GROUP BY type1\n",
    "ORDER BY type1\n",
    "\n",
    "Представим ТОП существующих типов покемонов.\n",
    "\n",
    "SELECT\n",
    "    type1 AS pokemon_type,\n",
    "    COUNT(*) AS pokemon_count\n",
    "FROM sql.pokemon\n",
    "GROUP BY pokemon_type\n",
    "ORDER BY COUNT(*) DESC"
   ]
  },
  {
   "cell_type": "markdown",
   "metadata": {},
   "source": [
    "### Задание 4.1\n",
    "Напишите запрос, который выведет:\n",
    "\n",
    "число различных дополнительных типов (столбец additional_types_count);\n",
    "среднее число очков здоровья (столбец avg_hp);\n",
    "сумму показателей атаки (столбец attack_sum) в разбивке по основным типам (столбец primary_type).\n",
    "Отсортируйте результат по числу дополнительных типов в порядке убывания, при равенстве — по основному типу в алфавитном порядке.\n",
    "Столбцы к выводу (обратите внимание на порядок!): primary_type, additional_types_count, avg_hp, attack_sum.\n",
    "\n",
    "SELECT\n",
    "    type1 as primary_type,\n",
    "    count(DISTINCT type2) as additional_types_count,\n",
    "    avg(hp) as avg_hp,\n",
    "    sum(attack) as attack_sum\n",
    "FROM sql.pokemon\n",
    "group by primary_type\n",
    "order by additional_types_count desc, primary_type"
   ]
  },
  {
   "cell_type": "markdown",
   "metadata": {},
   "source": [
    "Мы можем осуществлять группировку по нескольким столбцам.\n",
    "\n",
    "SELECT\n",
    "    type1 AS primary_type,\n",
    "    type2 AS additional_type,\n",
    "    COUNT(*) AS pokemon_count\n",
    "FROM sql.pokemon\n",
    "GROUP BY 1, 2\n",
    "ORDER BY 1, 2 NULLS FIRST"
   ]
  },
  {
   "cell_type": "markdown",
   "metadata": {},
   "source": [
    "## 5. Фильтрация агрегированных строк"
   ]
  },
  {
   "cell_type": "markdown",
   "metadata": {},
   "source": [
    "для фильтрации уже агрегированных данных применяется ключевое слово HAVING."
   ]
  },
  {
   "cell_type": "markdown",
   "metadata": {},
   "source": [
    "Выведем типы покемонов и их средний показатель атаки, при этом оставим только тех, у кого средняя атака больше 90.\n",
    "\n",
    "SELECT\n",
    "    type1 AS primary_type,\n",
    "    AVG(attack) AS avg_attack\n",
    "FROM sql.pokemon\n",
    "GROUP BY primary_type \n",
    "HAVING AVG(attack) > 90\n",
    "order by avg(attack)"
   ]
  },
  {
   "cell_type": "markdown",
   "metadata": {},
   "source": [
    "В общем виде синтаксис оператора SELECT, с учётом имеющихся на данный момент знаний, представляем следующим образом:\n",
    "\n",
    "SELECT [ALL | DISTINCT] список_столбцов|*\n",
    "FROM список_имён_таблиц\n",
    "[WHERE условие_поиска]\n",
    "[GROUP BY список_имён_столбцов]\n",
    "[HAVING условие_поиска]\n",
    "[ORDER BY имя_столбца [ASC | DESC],…]"
   ]
  },
  {
   "cell_type": "markdown",
   "metadata": {},
   "source": [
    "### Задание 5.1\n",
    "Напишите запрос, который выведет основной и дополнительный типы покемонов (столбцы primary_type и additional_type) для тех типов, у которых средний показатель атаки больше 100 и максимальный показатель очков здоровья меньше 80.\n",
    "\n",
    "SELECT\n",
    "    type1 primary_type,\n",
    "    type2 additional_type\n",
    "FROM sql.pokemon\n",
    "GROUP BY primary_type, additional_type\n",
    "HAVING AVG(attack) > 100 and max(hp) < 80\n",
    "\n",
    "### Задание 5.2\n",
    "Напишите запрос, который выводит столбцы с основным типом (primary_type) и числом покемонов этого типа (pokemon_count) для тех покемонов, чьё имя (name) начинается с S.\n",
    "Оставьте только типы, у которых средний показатель защиты больше 80.\n",
    "Выведите только ТОП-3 типов по числу покемонов в них.\n",
    "\n",
    "SELECT\n",
    "    type1 as primary_type,\n",
    "    count(*) as pokemon_count\n",
    "FROM sql.pokemon\n",
    "where Name like 'S%'\n",
    "GROUP BY primary_type\n",
    "HAVING AVG(defense) > 80\n",
    "order by pokemon_count desc\n",
    "limit 3"
   ]
  },
  {
   "cell_type": "markdown",
   "metadata": {},
   "source": [
    "## 6. Итоги\n",
    "\n",
    "И в довершение итогов напомним структуру запроса, который мы можем составить с учётом новых знаний:\n",
    "\n",
    "SELECT\n",
    "    столбец1 AS новое_название,\n",
    "    столбец2,\n",
    "    АГРЕГАТ(столбец3)\n",
    "FROM таблица\n",
    "WHERE (условие1 OR условие2)\n",
    "    AND условие3\n",
    "GROUP BY столбец1, столбец2\n",
    "HAVING АГРЕГАТ(столбец3) > 5\n",
    "ORDER BY сортировка1, сортировка2\n",
    "OFFSET 1 LIMIT 2"
   ]
  },
  {
   "cell_type": "markdown",
   "metadata": {},
   "source": [
    "### Задание 6.1\n",
    "Сколько различных значений показателей атаки есть у покемонов с типом Water (основным или дополнительным)?\n",
    "\n",
    "SELECT\n",
    "    count(distinct attack) as attack_count\n",
    "FROM sql.pokemon\n",
    "where type1 = 'Water' or type2 = 'Water'\n",
    "\n",
    "### Задание 6.2\n",
    "Напишите запрос, который выведет основной и дополнительный типы покемонов и средние значения по каждому показателю (столбцы avg_hp, avg_attack, avg_defense, avg_speed).\n",
    "Оставьте только те пары типов, у которых сумма этих четырёх показателей более 400.\n",
    "\n",
    "SELECT\n",
    "    type1 as primary_type,\n",
    "    type2 as second_type,\n",
    "    avg(hp) as avg_hp,\n",
    "    avg(attack) as avg_attack,\n",
    "    avg(defense) as avg_defense,\n",
    "    avg(speed) as avg_speed\n",
    "FROM sql.pokemon\n",
    "GROUP BY primary_type, second_type\n",
    "HAVING avg(hp) + avg(attack) + avg(defense) + avg(speed) >400\n",
    "\n",
    "### Задание 6.3\n",
    "Напишите запрос, который выведет столбцы с основным типом покемона и общим количеством покемонов этого типа.\n",
    "Учитывайте только тех покемонов, у которых или показатель атаки, или показатель защиты принимает значение между 50 и 100 включительно.\n",
    "Оставьте только те типы покемонов, у которых максимальный показатель здоровья не больше 125.\n",
    "Выведите только тот тип, который находится на пятом месте по количеству покемонов.\n",
    "\n",
    "SELECT\n",
    "    type1 as primary_type,\n",
    "    count(*) pokemon_count\n",
    "FROM sql.pokemon\n",
    "where attack between 50 and 100 or defense between 50 and 100\n",
    "GROUP BY primary_type\n",
    "HAVING max(hp) <= 125\n",
    "order by pokemon_count desc\n",
    "offset 4 limit 1"
   ]
  }
 ],
 "metadata": {
  "language_info": {
   "name": "python"
  },
  "orig_nbformat": 4
 },
 "nbformat": 4,
 "nbformat_minor": 2
}
