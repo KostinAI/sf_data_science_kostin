{
 "cells": [
  {
   "cell_type": "markdown",
   "metadata": {},
   "source": [
    "## 1. Что такое базы данных?\n",
    "\n",
    "База данных — это организованная структура для хранения, изменения и обработки взаимосвязанной информации.\n",
    "Базы данных можно разделить на два вида:\n",
    "Реляционные. В таких БД данные хранятся в виде связанных таблиц. В этом курсе мы сфокусируемся именно на реляционных БД.\n",
    "Нереляционные. Такие БД имеют специфическую структуру: например, данные хранятся в формате ключ-значение или в виде дерева."
   ]
  },
  {
   "cell_type": "markdown",
   "metadata": {},
   "source": [
    "СИСТЕМЫ УПРАВЛЕНИЯ БАЗАМИ ДАННЫХ\n",
    "Система управления базами данных, или СУБД (от англ. DataBase Management System, DBMS) — это комплекс программных средств, необходимых для создания структуры новой базы, её наполнения, редактирования содержимого и отображения информации."
   ]
  },
  {
   "cell_type": "markdown",
   "metadata": {},
   "source": [
    "## 2. Что такое SQL?\n",
    "\n",
    "Как вы уже знаете, для взаимодействия с базами данных через СУБД часто используется язык SQL (Structured Query Language). Он применяется для создания, модификации и управления данными."
   ]
  },
  {
   "cell_type": "markdown",
   "metadata": {},
   "source": [
    "ВИДЫ ОПЕРАТОРОВ SQL\n",
    "\n",
    "- операторы определения данных (Data Definition Language, DDL) — с их помощью создаются и изменяются объекты в БД (сама БД, таблицы, функции, процедуры, пользователи и т. д.);\n",
    "- операторы манипуляции данными (Data Manipulation Language, DML) — с их помощью проводятся манипуляции с данными в таблицах;\n",
    "- операторы определения доступа к данным (Data Control Language, DCL) — с их помощью, как следует из названия, создаются и изменяются разрешения на определённые - операции с объектами в БД;\n",
    "- операторы управления транзакциями (Transaction Control Language, TCL) — с их помощью осуществляется комплекс определённых действий, причём так, что либо все эти действия выполняются успешно, либо ни одно из них не выполняется вообще."
   ]
  },
  {
   "cell_type": "markdown",
   "metadata": {},
   "source": [
    "## 3. Что такое Metabase?\n",
    "\n",
    "Metabase — это бесплатный и удобный инструмент для первичного анализа данных с возможностью передавать запросы.\n"
   ]
  },
  {
   "cell_type": "markdown",
   "metadata": {},
   "source": [
    "## 1. Получаем все данные из таблицы"
   ]
  },
  {
   "cell_type": "markdown",
   "metadata": {},
   "source": [
    "SELECT movie_title, year, rating\n",
    "FROM sql.kinopoisk"
   ]
  },
  {
   "cell_type": "markdown",
   "metadata": {},
   "source": [
    "Задание 1.2\n",
    "\n",
    "Напишите запрос, который выведет из таблицы kinopoisk следующие столбцы:\n",
    "имя режиссёра (director),\n",
    "название фильма (movie_title),\n",
    "разница между максимально возможным рейтингом (10) и рейтингом этого фильма.\n",
    "\n",
    "SELECT\n",
    "    director,\n",
    "    movie_title,\n",
    "    10-rating\n",
    "FROM sql.kinopoisk"
   ]
  },
  {
   "cell_type": "markdown",
   "metadata": {},
   "source": [
    "ЧТО МЫ ВИДИМ?\n",
    "\n",
    "SELECT\n",
    "    director,\n",
    "    movie_title,\n",
    "    10 - rating AS difference\n",
    "FROM sql.kinopoisk\n",
    "\n",
    "Новое имя является просто псевдонимом, или алиасом - имя, назначенное источнику данных в запросе при использовании выражения в качестве источника данных или для упрощения ввода и прочтения инструкции SQL.\n",
    "\n",
    "Обратите внимание! Если в алиасе используется кириллица или пробелы, необходимо заключать его в двойные кавычки: 10 - rating AS \"разница\" или movie_title AS \"Movie Title\"."
   ]
  },
  {
   "cell_type": "markdown",
   "metadata": {},
   "source": [
    "ПРОСТЫЕ ОПЕРАЦИИ С ДАННЫМИ"
   ]
  },
  {
   "cell_type": "markdown",
   "metadata": {},
   "source": [
    "Задание 1.3\n",
    "Напишите запрос, который выведет столбцы с именем режиссёра, названием фильма, рейтингом по 100-балльной шкале (столбец rating_100).\n",
    "Рейтинг по 100-балльной шкале определите как оценку по 10-балльной, умноженную на 10.\n",
    "\n",
    "SELECT\n",
    "    director,\n",
    "    movie_title,\n",
    "    rating*10 AS rating_100\n",
    "FROM sql.kinopoisk"
   ]
  },
  {
   "cell_type": "markdown",
   "metadata": {},
   "source": [
    "## 2. Фильтруем строки"
   ]
  },
  {
   "cell_type": "markdown",
   "metadata": {},
   "source": [
    "WHERE\n",
    "\n",
    "SELECT\n",
    "    position,\n",
    "    movie_title,\n",
    "    year,\n",
    "    director\n",
    "FROM sql.kinopoisk\n",
    "WHERE year < 1984\n",
    "\n",
    "SELECT *\n",
    "FROM sql.kinopoisk\n",
    "WHERE year <> 2000"
   ]
  },
  {
   "cell_type": "markdown",
   "metadata": {},
   "source": [
    "Задание 2.1\n",
    "\n",
    "Напишите запрос, чтобы вывести все столбцы для фильмов, которые вышли в прокат в 1999 году.\n",
    "\n",
    "SELECT *\n",
    "FROM sql.kinopoisk\n",
    "WHERE year = 1999"
   ]
  },
  {
   "cell_type": "markdown",
   "metadata": {},
   "source": [
    "AND И OR\n",
    "\n",
    "SELECT *\n",
    "FROM sql.kinopoisk\n",
    "WHERE year >= 1975\n",
    "AND year <= 1985"
   ]
  },
  {
   "cell_type": "markdown",
   "metadata": {},
   "source": [
    "BETWEEN\n",
    "\n",
    "SELECT *\n",
    "FROM sql.kinopoisk\n",
    "WHERE year BETWEEN 1975 AND 1985"
   ]
  },
  {
   "cell_type": "markdown",
   "metadata": {},
   "source": [
    "Задание 2.2\n",
    "\n",
    "Напишите запрос, который выведет столбцы с именем режиссёра и названием фильмов, у которых рейтинг больше или равен 8.5. Сколько в представленном списке фильмов, имеющих рейтинг от 8.7 до 8.8 включительно?\n",
    "\n",
    "SELECT director, movie_title\n",
    "FROM sql.kinopoisk\n",
    "WHERE rating >= 8.5\n",
    "\n",
    "SELECT director, movie_title\n",
    "FROM sql.kinopoisk\n",
    "WHERE rating between 8.7 and 8.8"
   ]
  },
  {
   "cell_type": "markdown",
   "metadata": {},
   "source": [
    "NOT\n",
    "\n",
    "SELECT\n",
    "    year,\n",
    "    movie_title,\n",
    "    director\n",
    "FROM sql.kinopoisk\n",
    "WHERE (rating > 8.5 AND year < 2000)\n",
    "    OR year >= 2000"
   ]
  },
  {
   "cell_type": "markdown",
   "metadata": {},
   "source": [
    "IN\n",
    "\n",
    "column IN (value1, value2, value3) Эта запись аналогична следующей: column = value1 OR column = value2 OR column = value3 "
   ]
  },
  {
   "cell_type": "markdown",
   "metadata": {},
   "source": [
    "Задание 2.4\n",
    "\n",
    "Напишите запрос, который выводит названия фильмов, вышедших в прокат в 2000, 1985 и 1939 годах.\n",
    "\n",
    "SELECT\n",
    "    movie_title\n",
    "FROM sql.kinopoisk\n",
    "WHERE year in (2000, 1985, 1939)"
   ]
  },
  {
   "cell_type": "markdown",
   "metadata": {},
   "source": [
    "SELECT *\n",
    "FROM sql.kinopoisk\n",
    "WHERE director = 'Леонид Гайдай'"
   ]
  },
  {
   "cell_type": "markdown",
   "metadata": {},
   "source": [
    "LIKE\n",
    "\n",
    "SELECT *\n",
    "FROM sql.kinopoisk\n",
    "WHERE movie_title LIKE '%а%б%' "
   ]
  },
  {
   "cell_type": "markdown",
   "metadata": {},
   "source": [
    "Задание 2.5\n",
    "\n",
    "Напишите запрос, чтобы вывести название и год выпуска в прокат тех фильмов, которые были сняты режиссёром по имени Дэвид (то есть значение в поле director начинается с 'Дэвид') и имеют рейтинг больше 8.\n",
    "\n",
    "SELECT\n",
    "    movie_title,\n",
    "    year\n",
    "FROM sql.kinopoisk\n",
    "WHERE director like 'Дэвид%'\n",
    "and rating >=8"
   ]
  },
  {
   "cell_type": "markdown",
   "metadata": {},
   "source": [
    "NULL\n",
    "\n",
    "SELECT *\n",
    "FROM sql.kinopoisk\n",
    "WHERE overview is NULL"
   ]
  },
  {
   "cell_type": "markdown",
   "metadata": {},
   "source": [
    "## 3. Сортировка"
   ]
  },
  {
   "cell_type": "code",
   "execution_count": null,
   "metadata": {},
   "outputs": [],
   "source": [
    "ORDER BY\n",
    "\n",
    "Задание 3.1\n",
    "Напишите запрос, который выведет из таблицы kinopoisk все столбцы, и отсортируйте строки по возрастанию рейтинга фильма.\n",
    "\n",
    "SELECT *\n",
    "FROM sql.kinopoisk\n",
    "ORDER BY rating"
   ]
  },
  {
   "cell_type": "markdown",
   "metadata": {},
   "source": [
    "SELECT *\n",
    "FROM sql.kinopoisk\n",
    "ORDER BY rating ASC\n",
    "\n",
    "Здесь ASC — явное указание порядка сортировки по возрастанию (англ. ascending).\n",
    "Для обратного порядка используется ключевое слово DESC (англ. descending)."
   ]
  },
  {
   "cell_type": "markdown",
   "metadata": {},
   "source": [
    "SELECT\n",
    "    movie_title,\n",
    "    director,\n",
    "    screenwriter,\n",
    "    year\n",
    "FROM sql.kinopoisk\n",
    "WHERE country = 'СССР'\n",
    "ORDER BY rating DESC"
   ]
  },
  {
   "cell_type": "markdown",
   "metadata": {},
   "source": [
    "Задание 3.2\n",
    "Напишите запрос, который выведет столбцы с названием фильма, его описанием и годом выхода в прокат. Оставьте только те фильмы, у которых рейтинг не ниже 8.2 и страна производства — не США.\n",
    "Отсортируйте вывод по году выхода фильма в порядке убывания.\n",
    "\n",
    "SELECT\n",
    "    movie_title,\n",
    "    overview,\n",
    "    year\n",
    "FROM sql.kinopoisk\n",
    "WHERE rating >=8.2\n",
    "and country != 'США'\n",
    "ORDER BY year DESC"
   ]
  },
  {
   "cell_type": "markdown",
   "metadata": {},
   "source": [
    "Также в ORDER BY можно указывать, где должны идти пустые значения — в начале или в конце.\n",
    "Такая настройка порядка вывода задаётся с помощью ключевых слов NULLS FIRST / NULLS LAST\n",
    "\n",
    "SELECT\n",
    "    movie_title,\n",
    "    rating,\n",
    "    overview,\n",
    "    year\n",
    "FROM sql.kinopoisk\n",
    "ORDER BY overview NULLS FIRST"
   ]
  },
  {
   "cell_type": "markdown",
   "metadata": {},
   "source": [
    "Задание 3.3\n",
    "Напишите запрос, чтобы вывести названия всех фильмов (столбец Название фильма), у которых рейтинг выше 8.3 и страна производства — Франция.\n",
    "Отсортируйте по рейтингу в порядке убывания, далее — по году выхода в прокат (также в порядке убывания).\n",
    "\n",
    "SELECT\n",
    "    movie_title\n",
    "FROM sql.kinopoisk\n",
    "WHERE rating > 8.3\n",
    "    AND country = 'Франция'\n",
    "ORDER BY rating DESC,\n",
    "    year DESC"
   ]
  },
  {
   "cell_type": "markdown",
   "metadata": {},
   "source": [
    "Для упрощения работы с ORDER BY можно использовать не названия столбцов, а их номера из вывода.\n",
    "SELECT\n",
    "    director,\n",
    "    movie_title,\n",
    "    year\n",
    "FROM sql.kinopoisk\n",
    "ORDER BY 1, 3 DESC"
   ]
  },
  {
   "cell_type": "markdown",
   "metadata": {},
   "source": [
    "## 4. Ограничение вывода"
   ]
  },
  {
   "cell_type": "markdown",
   "metadata": {},
   "source": [
    "LIMIT - вывод ТОПа по какому-то показателю.\n",
    "\n",
    "SELECT *\n",
    "FROM sql.kinopoisk\n",
    "LIMIT 10\n",
    "\n",
    "SELECT\n",
    "    movie_title,\n",
    "    rating\n",
    "FROM sql.kinopoisk \n",
    "ORDER BY rating DESC\n",
    "LIMIT 5"
   ]
  },
  {
   "cell_type": "markdown",
   "metadata": {},
   "source": [
    "Задание 4.1\n",
    "Напишите запрос, который выводит ТОП-20 самых старых (определяем по году выхода в прокат) фильмов из таблицы kinopoisk.\n",
    "Выведите столбцы Режиссёр, Название фильма, Актёры.\n",
    "\n",
    "SELECT\n",
    "    director,\n",
    "    movie_title,\n",
    "    actors\n",
    "FROM sql.kinopoisk \n",
    "ORDER BY year ASC\n",
    "LIMIT 20"
   ]
  },
  {
   "cell_type": "markdown",
   "metadata": {},
   "source": [
    "OFFSET «обрезает» указанное число первых строк.\n",
    "\n",
    "SELECT\n",
    "    movie_title,\n",
    "    rating \n",
    "FROM sql.kinopoisk\n",
    "ORDER BY rating DESC\n",
    "OFFSET 3 LIMIT 5"
   ]
  },
  {
   "cell_type": "markdown",
   "metadata": {},
   "source": [
    "Задание 4.2\n",
    "Напишите запрос, чтобы вывести названия фильмов, которые вышли в прокат после 1990 года и были сняты не в России. Из этого списка оставьте только те фильмы, которые занимают с 20 по 47 места в рейтинге.\n",
    "Отсортируйте результат по убыванию рейтинга фильмов.\n",
    "\n",
    "SELECT\n",
    "    movie_title \n",
    "FROM sql.kinopoisk\n",
    "WHERE year > 1990\n",
    "    and country != 'Россия'\n",
    "ORDER BY rating desc\n",
    "OFFSET 19 LIMIT 28"
   ]
  },
  {
   "cell_type": "markdown",
   "metadata": {},
   "source": [
    "## 5. Итоги"
   ]
  },
  {
   "cell_type": "markdown",
   "metadata": {},
   "source": [
    "структурa простого запроса:\n",
    "\n",
    "SELECT\n",
    "    столбец1 AS новое_название,\n",
    "    столбец2,\n",
    "    столбец3\n",
    "FROM таблица\n",
    "WHERE (условие1 OR условие2)\n",
    "    AND условие3\n",
    "ORDER BY сортировка1, сортировка2\n",
    "OFFSET 1 LIMIT 2"
   ]
  },
  {
   "cell_type": "markdown",
   "metadata": {},
   "source": [
    "Задание 5.1\n",
    "Какой режиссёр снял самый старый фильм в списке?\n",
    "\n",
    "SELECT\n",
    "    director \n",
    "FROM sql.kinopoisk\n",
    "ORDER BY year asc\n",
    "\n",
    "\n",
    "Задание 5.2\n",
    "В каком году был выпущен фильм, который занимает 111 строку в списке, отсортированном по рейтингу в порядке убывания?\n",
    "При равенстве рейтинга отсортируйте по названию фильма в алфавитном порядке.\n",
    "\n",
    "SELECT\n",
    "    year,\n",
    "    position\n",
    "FROM sql.kinopoisk\n",
    "ORDER BY rating desc, movie_title\n",
    "offset 110\n",
    "\n",
    "\n",
    "Задание 5.3\n",
    "Напишите запрос, который выводит столбцы «Название фильма» (movie_title), «Режиссёр» (director), «Сценарист» (screenwriter), «Актёры» (actors). Оставьте только те фильмы, у которых:\n",
    "рейтинг между 8 и 8.5 (включительно) ИЛИ год выхода в прокат до 1990;\n",
    "есть описание;\n",
    "название начинается не с буквы 'Т';\n",
    "название состоит ровно из 12 символов.\n",
    "Оставьте только ТОП-7 по рейтингу.\n",
    "\n",
    "SELECT\n",
    "    movie_title,\n",
    "    director,\n",
    "    screenwriter,\n",
    "    actors\n",
    "FROM sql.kinopoisk\n",
    "WHERE (rating BETWEEN 8 AND 8.5 OR year < 1990)\n",
    "    AND overview IS NOT NULL\n",
    "    AND movie_title NOT LIKE 'Т%'\n",
    "    AND movie_title LIKE '____________'\n",
    "ORDER BY rating DESC\n",
    "LIMIT 7"
   ]
  }
 ],
 "metadata": {
  "language_info": {
   "name": "python"
  },
  "orig_nbformat": 4
 },
 "nbformat": 4,
 "nbformat_minor": 2
}
