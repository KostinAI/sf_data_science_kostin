{
 "cells": [
  {
   "cell_type": "markdown",
   "metadata": {},
   "source": [
    "## 1. Знакомимся с данными"
   ]
  },
  {
   "cell_type": "markdown",
   "metadata": {},
   "source": [
    "Задание 1.1\n",
    "Сколько различных полных названий команд в таблице teams?\n",
    "select\n",
    "    count(distinct long_name)\n",
    "from sql.teams\n",
    "\n",
    "Сколько в таблице teams команд с коротким названием VAL?\n",
    "select\n",
    "    count(short_name)\n",
    "from sql.teams\n",
    "where short_name like 'VAL%'\n",
    "\n",
    "Информацию о скольких матчах содержит таблица matches?\n",
    "select\n",
    "    count(*)\n",
    "from sql.matches\n",
    "\n",
    "Данные за какие сезоны даны в таблице matches?\n",
    "Ответ введите в формате 2019/2020.\n",
    "select\n",
    "    distinct season\n",
    "from sql.matches\n",
    "order by season desc\n",
    "\n",
    "Задание 1.2\n",
    "Напишите запрос, который выведет сезон (season), общее количество забитых мячей домашними (total_home_goals) и гостевыми (total_away_goals) командами.\n",
    "Отсортируйте по столбцу с сезоном в порядке возрастания.\n",
    "select\n",
    "    season,\n",
    "    sum (home_team_goals) as total_home_goals,\n",
    "    sum (away_team_goals) as total_away_goals\n",
    "from sql.matches\n",
    "group by season\n",
    "order by season asc"
   ]
  },
  {
   "cell_type": "markdown",
   "metadata": {},
   "source": [
    "## 2. Соединение таблиц по ключу"
   ]
  },
  {
   "cell_type": "markdown",
   "metadata": {},
   "source": [
    " декартовым произведением таблиц.\n",
    "SELECT *\n",
    "FROM\n",
    "    sql.teams,\n",
    "    sql.matches"
   ]
  },
  {
   "cell_type": "markdown",
   "metadata": {},
   "source": [
    "Ключ — это поле (столбец) в таблице, которое позволяет однозначно идентифицировать запись (строку).\n",
    "\n",
    "SELECT *\n",
    "FROM\n",
    "    sql.teams,\n",
    "    sql.matches\n",
    "WHERE home_team_api_id = api_id\n",
    "\n",
    "Ключи бывают двух основных типов:\n",
    "Primary — первичный ключ — служит для идентификации текущей таблицы и, как правило, идёт первым в списке столбцов. Всегда уникален: повторяющихся значений в основной таблице быть не может.\n",
    "Foreign — внешний ключ — представляет собой ссылку на другую таблицу.\n",
    "\n",
    "SELECT \n",
    "    long_name, \n",
    "    home_team_goals,\n",
    "    away_team_goals\n",
    "FROM\n",
    "    sql.teams,\n",
    "    sql.matches\n",
    "WHERE home_team_api_id = api_id\n",
    "\n",
    "\n",
    "Задание 2.2\n",
    "Напишите запрос, который выведет таблицу с результатами матчей away, содержащую:\n",
    "\n",
    "названия гостевых команд (long_name);\n",
    "количество забитых мячей домашней команды (home_team_goals);\n",
    "количество забитых мячей гостевой команды (away_team_goals).\n",
    "\n",
    "SELECT \n",
    "    long_name, \n",
    "    home_team_goals,\n",
    "    away_team_goals\n",
    "FROM\n",
    "    sql.teams,\n",
    "    sql.matches\n",
    "where away_team_api_id = api_id"
   ]
  },
  {
   "cell_type": "markdown",
   "metadata": {},
   "source": [
    "## 3. Знакомимся с JOIN"
   ]
  },
  {
   "cell_type": "markdown",
   "metadata": {},
   "source": [
    "Синтаксис:\n",
    "\n",
    "SELECT\n",
    "        столбец1,\n",
    "\tстолбец2,\n",
    "\t...\n",
    "FROM\n",
    "\tтаблица1\n",
    "JOIN таблица2 ON условие\n",
    "JOIN таблица3 ON условие\n",
    "\n",
    "Пример:\n",
    "SELECT \n",
    "    long_name,\n",
    "    home_team_goals,\n",
    "    away_team_goals\n",
    "FROM    \n",
    "    sql.teams\n",
    "JOIN sql.matches on home_team_api_id = api_id"
   ]
  },
  {
   "cell_type": "markdown",
   "metadata": {},
   "source": [
    "Задание 3.2\n",
    "Напишите запрос, который выведет два столбца: id матча (match_id) и id домашней команды (team_id), — а затем отсортируйте по id матча в порядке возрастания значений.\n",
    "\n",
    "SELECT\n",
    "    matches.id as match_id,\n",
    "    teams.id as team_id\n",
    "FROM \n",
    "    sql.teams\n",
    "join sql.matches on home_team_api_id = api_id\n",
    "order by matches.id asc"
   ]
  },
  {
   "cell_type": "markdown",
   "metadata": {},
   "source": [
    "SELECT\n",
    "    h.long_name \"домашняя команда\",\n",
    "    m.home_team_goals \"голы домашней команды\",\n",
    "    m.away_team_goals \"голы гостевой команды\",\n",
    "    a.long_name \"гостевая команда\" \n",
    "FROM\n",
    "    sql.matches m\n",
    "    JOIN sql.teams h ON m.home_team_api_id = h.api_id\n",
    "    JOIN sql.teams a ON m.away_team_api_id = a.api_id"
   ]
  },
  {
   "cell_type": "markdown",
   "metadata": {},
   "source": [
    "Задание 3.3\n",
    "Напишите запрос, который выведет столбцы: id матча, короткое название домашней команды (home_short), короткое название гостевой команды (away_short).\n",
    "Отсортируйте запрос по возрастанию id матча.\n",
    "\n",
    "SELECT \n",
    "    m.id,\n",
    "    h.short_name \"домашняя команда\",\n",
    "    a.short_name \"гостевая команда\" \n",
    "FROM\n",
    "    sql.matches m\n",
    "    JOIN sql.teams h ON m.home_team_api_id = h.api_id\n",
    "    JOIN sql.teams a ON m.away_team_api_id = a.api_id\n",
    "order by id asc"
   ]
  },
  {
   "cell_type": "markdown",
   "metadata": {},
   "source": [
    "## 4. Фильтрация и агрегатные функции"
   ]
  },
  {
   "cell_type": "markdown",
   "metadata": {},
   "source": [
    "SELECT \n",
    "    m.id\n",
    "FROM\n",
    "    sql.teams t\n",
    "    JOIN sql.matches m ON m.away_team_api_id = t.api_id\n",
    "WHERE long_name = 'Arsenal'"
   ]
  },
  {
   "cell_type": "markdown",
   "metadata": {},
   "source": [
    "Задание 4.1\n",
    "Напишите запрос, который выведет полное название команды (long_name), количество голов домашней команды (home_goal) и количество голов гостевой команды (away_goal) в матчах, где домашней командой были команды с коротким названием ‘GEN’.\n",
    "Отсортируйте запрос по id матча в порядке возрастания.\n",
    "\n",
    "SELECT \n",
    "    t.long_name,\n",
    "    sum(m.home_team_goals) as home_goal,\n",
    "    sum(m.away_team_goals) as away_goal\n",
    "FROM\n",
    "    sql.teams t\n",
    "    JOIN sql.matches m ON m.home_team_api_id = t.api_id\n",
    "WHERE t.short_name = 'GEN'\n",
    "group by t.long_name, m.id\n",
    "order by m.id asc"
   ]
  },
  {
   "cell_type": "markdown",
   "metadata": {},
   "source": [
    "Задание 4.2\n",
    "Напишите запрос, чтобы вывести id матчей, короткое название домашней команды (home_short), короткое название гостевой команды (away_short) для матчей сезона 2011/2012, в которых участвовала команда с названием Liverpool.\n",
    "Отсортируйте по id матча в порядке возрастания.\n",
    "\n",
    "SELECT\n",
    "    m.id,\n",
    "    t.short_name home_short,\n",
    "    t1.short_name away_short\n",
    "FROM\n",
    "    sql.matches m\n",
    "JOIN sql.teams t ON m.home_team_api_id = t.api_id\n",
    "JOIN sql.teams t1 ON m.away_team_api_id = t1.api_id\n",
    "WHERE\n",
    "    m.season = '2011/2012'\n",
    "    and (t.long_name = 'Liverpool' or t1.long_name = 'Liverpool')\n",
    "ORDER BY m.id"
   ]
  },
  {
   "cell_type": "markdown",
   "metadata": {},
   "source": [
    "АГРЕГАЦИЯ ДАННЫХ\n",
    "Например, мы можем вывести сумму голов по командам для матчей, где команда выступала в гостях.\n",
    "\n",
    "SELECT\n",
    "    t.long_name,\n",
    "    SUM(m.home_team_goals) + SUM(m.away_team_goals) match_goals\n",
    "FROM\n",
    "    sql.matches m\n",
    "    JOIN sql.teams t ON m.away_team_api_id = t.api_id \n",
    "GROUP BY t.id"
   ]
  },
  {
   "cell_type": "markdown",
   "metadata": {},
   "source": [
    "Поставим задачу — вывести таблицу с суммарным количеством забитых голов в матчах по командам и сезонам для команд, в которых суммарное количество голов в матчах сезона больше 100.\n",
    "\n",
    "SELECT\n",
    "    m.season,\n",
    "    t.long_name,\n",
    "    SUM(m.home_team_goals) + SUM(m.away_team_goals) total_goals\n",
    "FROM sql.matches m\n",
    "JOIN sql.teams t ON t.api_id = m.home_team_api_id OR t.api_id = m.away_team_api_id\n",
    "GROUP BY m.season, t.id\n",
    "HAVING SUM(m.home_team_goals) + SUM(m.away_team_goals) > 100"
   ]
  },
  {
   "cell_type": "markdown",
   "metadata": {},
   "source": [
    "Задание 4.3\n",
    "Напишите запрос, с помощью которого можно вывести список полных названий команд, сыгравших в гостях 150 и более матчей.\n",
    "Отсортируйте список по названию команды.\n",
    "\n",
    "SELECT \n",
    "    t.long_name\n",
    "FROM\n",
    "    sql.teams t\n",
    "    JOIN sql.matches m ON m.away_team_api_id = t.api_id\n",
    "group by t.id\n",
    "HAVING count(m.id) >= 150\n",
    "order by t.long_name"
   ]
  },
  {
   "cell_type": "markdown",
   "metadata": {},
   "source": [
    "## 5. Способы соединения таблиц"
   ]
  },
  {
   "cell_type": "markdown",
   "metadata": {},
   "source": [
    "Для INNER JOIN работает следующее правило: присоединяются только те строки таблиц, которые удовлетворяют условию соединения. Если в любой из соединяемых таблиц находятся такие строки, которые не удовлетворяют заявленному условию, — они отбрасываются.\n",
    "\n",
    "SELECT \n",
    "COUNT(DISTINCT t.id) \n",
    "FROM \n",
    "sql.teams t\n",
    "JOIN sql.matches m ON t.api_id = m.home_team_api_id OR t.api_id = m.away_team_api_id\n",
    "\n",
    "\n",
    "Для LEFT JOIN работает следующее правило: из левой (относительно оператора) таблицы сохраняются все строки, а из правой добавляются только те, которые соответствуют условию соединения. Если в правой таблице не находится соответствия, то значения строк второй таблицы будут иметь значение NULL.\n",
    "\n",
    "SELECT\n",
    "    t.long_name,\n",
    "    m.id\n",
    "FROM sql.teams t\n",
    "LEFT JOIN sql.matches m ON t.api_id = m.home_team_api_id OR t.api_id = m.away_team_api_id\n",
    "ORDER BY m.id DESC\n",
    "--WHERE m.id IS NULL\n",
    "\n",
    "Ещё пример с агрегатными функциями:\n",
    "SELECT\n",
    "    t.long_name,\n",
    "    SUM(m.away_team_goals) total_goals\n",
    "FROM   \n",
    "    sql.teams t\n",
    "LEFT JOIN sql.matches m ON t.api_id = m.away_team_api_id\n",
    "GROUP BY t.id\n",
    "ORDER BY 2 DESC\n"
   ]
  },
  {
   "cell_type": "markdown",
   "metadata": {},
   "source": [
    "Задание 5.1\n",
    "--Используя LEFT JOIN, выведите список уникальных названий команд, содержащихся в таблице matches. Отсортируйте список в алфавитном порядке.\n",
    "\n",
    "SELECT\n",
    "  DISTINCT t.long_name\n",
    "FROM\n",
    "  sql.teams t\n",
    "LEFT JOIN sql.matches m ON t.api_id = m.home_team_api_id or t.api_id = m.away_team_api_id\n",
    "WHERE m.id is not null\n",
    "ORDER BY 1\n",
    "\n",
    "Задание 5.2\n",
    "Используя LEFT JOIN, напишите запрос, который выведет полное название команды (long_name), количество матчей, в которых участвовала команда, — домашних и гостевых (matches_cnt). Отсортируйте по количеству матчей в порядке возрастания.\n",
    "\n",
    "SELECT\n",
    "    t.long_name,\n",
    "    COUNT(m.id)\n",
    "FROM \n",
    "sql.teams t\n",
    "LEFT JOIN sql.matches m ON t.api_id = m.home_team_api_id or t.api_id = m.away_team_api_id\n",
    "GROUP BY t.id\n",
    "ORDER BY 2"
   ]
  },
  {
   "cell_type": "markdown",
   "metadata": {},
   "source": [
    "Оператор FULL OUTER JOIN объединяет в себе LEFT и RIGHT JOIN и позволяет сохранить кортежи обеих таблиц. Даже если не будет соответствий, мы сохраним все записи из обеих таблиц.\n",
    "\n",
    "SELECT \n",
    "…\n",
    "FROM\n",
    "\ttable1\n",
    "FULL OUTER JOIN table2 ON условие\n",
    "\n",
    "CROSS JOIN соединяет таблицы так, что каждая запись в первой таблице присоединяется к каждой записи во второй таблице, иначе говоря, даёт декартово произведение.\n",
    "\n",
    "SELECT *\n",
    "FROM\n",
    "    sql.teams\n",
    "    --JOIN sql.matches\n",
    "    JOIN sql.matches ON TRUE\n",
    "\n",
    "Пример:\n",
    "SELECT\n",
    "    DISTINCT\n",
    "    t1.long_name home_team, \n",
    "    t2.long_name away_team\n",
    "FROM\n",
    "    sql.teams t1\n",
    "    CROSS JOIN sql.teams t2"
   ]
  },
  {
   "cell_type": "markdown",
   "metadata": {},
   "source": [
    "Задание 5.3\n",
    "Напишите запрос, который выведет все возможные уникальные комбинации коротких названий домашней команды (home_team) и коротких названий гостевой команды (away_team).\n",
    "Отсортируйте запрос по первому и второму столбцам.\n",
    "\n",
    "select\n",
    "    distinct\n",
    "    t1.short_name home_team,\n",
    "    t2.short_name away_team\n",
    "\n",
    "from sql.teams t1,\n",
    "    sql.teams t2\n",
    "    \n",
    "order by t1.short_name, t2.short_name"
   ]
  },
  {
   "cell_type": "markdown",
   "metadata": {},
   "source": [
    "## 6. Итоги. Закрепление знаний"
   ]
  },
  {
   "cell_type": "markdown",
   "metadata": {},
   "source": [
    "Задание 6.1\n",
    "Напишите запрос, который выведет список уникальных полных названий команд (long_name), игравших в гостях в матчах сезона 2012/2013.\n",
    "Отсортируйте список в алфавитном порядке.\n",
    "\n",
    "select\n",
    "    distinct t.long_name\n",
    "from sql.teams t\n",
    "    join sql.matches m on t.api_id = m.away_team_api_id\n",
    "where season = '2012/2013'\n",
    "order by 1\n",
    "\n",
    "Задание 6.2\n",
    "Напишите запрос, который выведет полное название команды (long_name) и общее количество матчей (matches_cnt), сыгранных командой Inter в домашних матчах.\n",
    "\n",
    "select\n",
    "    t.long_name,\n",
    "    count(t.id) matches_cnt\n",
    "from sql.teams t\n",
    "    join sql.matches m on t.api_id = m.home_team_api_id\n",
    "where long_name = 'Inter'\n",
    "group by 1\n",
    "\n",
    "Задание 6.3\n",
    "Напишите запрос, который выведет ТОП-10 команд (long_name) по суммарному количеству забитых голов в гостевых матчах. Во втором столбце запроса выведите суммарное количество голов в гостевых матчах (total_goals).\n",
    "\n",
    "select \n",
    "    t.long_name,\n",
    "    sum(m.away_team_goals) total_goals\n",
    "from sql.teams t\n",
    "    join sql.matches m on t.api_id = m.away_team_api_id\n",
    "group by 1\n",
    "order by 2 desc\n",
    "limit 10\n",
    "\n",
    "Задание 6.4\n",
    "Выведите количество матчей между командами Real Madrid CF и FC Barcelona.\n",
    "\n",
    "select \n",
    "    count(m.id) matches_cnt\n",
    "from sql.matches m\n",
    "    left join sql.teams t1 on m.home_team_api_id = t1.api_id or m.away_team_api_id = t1.api_id\n",
    "    left join sql.teams t2 on m.home_team_api_id = t2.api_id or m.away_team_api_id = t2.api_id\n",
    "where t1.long_name = 'Real Madrid CF' and t2.long_name = 'FC Barcelona'\n",
    "\n",
    "Задание 6.5\n",
    "Напишите запрос, который выведет название команды (long_name), сезон (season) и суммарное количество забитых голов в домашних матчах (total_goals).\n",
    "Оставьте только те строки, в которых суммарное количество голов менее десяти.\n",
    "Отсортируйте запрос по названию команды, а затем — по сезону.\n",
    "\n",
    "select\n",
    "    t.long_name,\n",
    "    m.season,\n",
    "    sum(m.home_team_goals) total_goals\n",
    "from sql.teams t\n",
    "    left join sql.matches m on t.api_id = m.home_team_api_id\n",
    "group by 1, 2\n",
    "having sum(m.home_team_goals)<10\n",
    "order by 1, 2"
   ]
  }
 ],
 "metadata": {
  "language_info": {
   "name": "python"
  },
  "orig_nbformat": 4
 },
 "nbformat": 4,
 "nbformat_minor": 2
}
