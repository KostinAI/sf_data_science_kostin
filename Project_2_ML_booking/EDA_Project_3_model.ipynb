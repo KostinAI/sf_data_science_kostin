{
 "cells": [
  {
   "cell_type": "markdown",
   "metadata": {},
   "source": [
    "КАКОЙ КЕЙС РЕШАЕМ?\n",
    "\n",
    "Представьте, что вы работаете дата-сайентистом в компании Booking. Одна из проблем компании — это нечестные отели, которые накручивают себе рейтинг. Одним из способов обнаружения таких отелей является построение модели, которая предсказывает рейтинг отеля. Если предсказания модели сильно отличаются от фактического результата, то, возможно, отель ведёт себя нечестно, и его стоит проверить."
   ]
  },
  {
   "cell_type": "code",
   "execution_count": 1,
   "metadata": {},
   "outputs": [],
   "source": [
    "import pandas as pd\n",
    "import numpy as np\n",
    "from sklearn.preprocessing import OneHotEncoder\n",
    "import category_encoders as ce"
   ]
  },
  {
   "cell_type": "code",
   "execution_count": 2,
   "metadata": {},
   "outputs": [],
   "source": [
    "hotels = pd.read_csv('/home/aleksandr/Документы/GitHub/data/Booking/hotels.csv')"
   ]
  },
  {
   "cell_type": "code",
   "execution_count": 4,
   "metadata": {},
   "outputs": [
    {
     "name": "stdout",
     "output_type": "stream",
     "text": [
      "<class 'pandas.core.frame.DataFrame'>\n",
      "RangeIndex: 386803 entries, 0 to 386802\n",
      "Data columns (total 17 columns):\n",
      " #   Column                                      Non-Null Count   Dtype  \n",
      "---  ------                                      --------------   -----  \n",
      " 0   hotel_address                               386803 non-null  object \n",
      " 1   additional_number_of_scoring                386803 non-null  int64  \n",
      " 2   review_date                                 386803 non-null  object \n",
      " 3   average_score                               386803 non-null  float64\n",
      " 4   hotel_name                                  386803 non-null  object \n",
      " 5   reviewer_nationality                        386803 non-null  object \n",
      " 6   negative_review                             386803 non-null  object \n",
      " 7   review_total_negative_word_counts           386803 non-null  int64  \n",
      " 8   total_number_of_reviews                     386803 non-null  int64  \n",
      " 9   positive_review                             386803 non-null  object \n",
      " 10  review_total_positive_word_counts           386803 non-null  int64  \n",
      " 11  total_number_of_reviews_reviewer_has_given  386803 non-null  int64  \n",
      " 12  reviewer_score                              386803 non-null  float64\n",
      " 13  tags                                        386803 non-null  object \n",
      " 14  days_since_review                           386803 non-null  object \n",
      " 15  lat                                         384355 non-null  float64\n",
      " 16  lng                                         384355 non-null  float64\n",
      "dtypes: float64(4), int64(5), object(8)\n",
      "memory usage: 50.2+ MB\n"
     ]
    }
   ],
   "source": [
    "hotels.info()"
   ]
  },
  {
   "cell_type": "code",
   "execution_count": 3,
   "metadata": {},
   "outputs": [
    {
     "data": {
      "text/html": [
       "<div>\n",
       "<style scoped>\n",
       "    .dataframe tbody tr th:only-of-type {\n",
       "        vertical-align: middle;\n",
       "    }\n",
       "\n",
       "    .dataframe tbody tr th {\n",
       "        vertical-align: top;\n",
       "    }\n",
       "\n",
       "    .dataframe thead th {\n",
       "        text-align: right;\n",
       "    }\n",
       "</style>\n",
       "<table border=\"1\" class=\"dataframe\">\n",
       "  <thead>\n",
       "    <tr style=\"text-align: right;\">\n",
       "      <th></th>\n",
       "      <th>hotel_address</th>\n",
       "      <th>additional_number_of_scoring</th>\n",
       "      <th>review_date</th>\n",
       "      <th>average_score</th>\n",
       "      <th>hotel_name</th>\n",
       "      <th>reviewer_nationality</th>\n",
       "      <th>negative_review</th>\n",
       "      <th>review_total_negative_word_counts</th>\n",
       "      <th>total_number_of_reviews</th>\n",
       "      <th>positive_review</th>\n",
       "      <th>review_total_positive_word_counts</th>\n",
       "      <th>total_number_of_reviews_reviewer_has_given</th>\n",
       "      <th>reviewer_score</th>\n",
       "      <th>tags</th>\n",
       "      <th>days_since_review</th>\n",
       "      <th>lat</th>\n",
       "      <th>lng</th>\n",
       "    </tr>\n",
       "  </thead>\n",
       "  <tbody>\n",
       "    <tr>\n",
       "      <th>0</th>\n",
       "      <td>Stratton Street Mayfair Westminster Borough Lo...</td>\n",
       "      <td>581</td>\n",
       "      <td>2/19/2016</td>\n",
       "      <td>8.4</td>\n",
       "      <td>The May Fair Hotel</td>\n",
       "      <td>United Kingdom</td>\n",
       "      <td>Leaving</td>\n",
       "      <td>3</td>\n",
       "      <td>1994</td>\n",
       "      <td>Staff were amazing</td>\n",
       "      <td>4</td>\n",
       "      <td>7</td>\n",
       "      <td>10.0</td>\n",
       "      <td>[' Leisure trip ', ' Couple ', ' Studio Suite ...</td>\n",
       "      <td>531 day</td>\n",
       "      <td>51.507894</td>\n",
       "      <td>-0.143671</td>\n",
       "    </tr>\n",
       "  </tbody>\n",
       "</table>\n",
       "</div>"
      ],
      "text/plain": [
       "                                       hotel_address  \\\n",
       "0  Stratton Street Mayfair Westminster Borough Lo...   \n",
       "\n",
       "   additional_number_of_scoring review_date  average_score  \\\n",
       "0                           581   2/19/2016            8.4   \n",
       "\n",
       "           hotel_name reviewer_nationality negative_review  \\\n",
       "0  The May Fair Hotel      United Kingdom         Leaving    \n",
       "\n",
       "   review_total_negative_word_counts  total_number_of_reviews  \\\n",
       "0                                  3                     1994   \n",
       "\n",
       "       positive_review  review_total_positive_word_counts  \\\n",
       "0   Staff were amazing                                  4   \n",
       "\n",
       "   total_number_of_reviews_reviewer_has_given  reviewer_score  \\\n",
       "0                                           7            10.0   \n",
       "\n",
       "                                                tags days_since_review  \\\n",
       "0  [' Leisure trip ', ' Couple ', ' Studio Suite ...           531 day   \n",
       "\n",
       "         lat       lng  \n",
       "0  51.507894 -0.143671  "
      ]
     },
     "execution_count": 3,
     "metadata": {},
     "output_type": "execute_result"
    }
   ],
   "source": [
    "hotels.head(1)"
   ]
  },
  {
   "cell_type": "code",
   "execution_count": 3,
   "metadata": {},
   "outputs": [],
   "source": [
    "# Создаем признак страны в которой расположен отель\n",
    "hotels['hotel_country'] = hotels['hotel_address'].apply(lambda x: x.split()[-1])\n",
    "hotels['hotel_country'] = hotels['hotel_country'].apply(lambda x: 'United Kingdom' if x == 'Kingdom' else x)\n",
    "\n",
    "# Encode feature 'hotel_country'\n",
    "encoder = ce.OneHotEncoder(cols=['hotel_country'], use_cat_names=True) # указываем столбец для кодирования\n",
    "type_bin = encoder.fit_transform(hotels['hotel_country'])\n",
    "hotels = pd.concat([hotels, type_bin], axis=1)\n",
    "hotels.drop(['hotel_address', 'hotel_country'], axis = 1, inplace = True)\n",
    "\n",
    "# Encode feature 'hotel_name'\n",
    "ord_encoder = ce.OrdinalEncoder(cols=['hotel_name'])\n",
    "hotels['hotel_name'] = ord_encoder.fit_transform(hotels['hotel_name'])\n",
    "\n",
    "#bin_encoder = ce.BinaryEncoder(cols=['hotel_name'])\n",
    "#type_bin = bin_encoder.fit_transform(hotels['hotel_name'])\n",
    "#hotels = pd.concat([hotels, type_bin], axis=1)"
   ]
  },
  {
   "cell_type": "code",
   "execution_count": 4,
   "metadata": {},
   "outputs": [],
   "source": [
    "#Convert a feature 'review_date' in datetime format\n",
    "hotels['review_date'] = pd.to_datetime(hotels['review_date'])\n",
    "\n",
    "# Get a season of review\n",
    "def year_season(datetime):\n",
    "    a = datetime.month\n",
    "    if a<=2 or a == 12:\n",
    "        return 'winter'\n",
    "    elif a<=5 and a>=3:\n",
    "        return 'spring'\n",
    "    elif a>=6 and a<=8:\n",
    "        return 'summer'\n",
    "    else:\n",
    "        return 'autumn'\n",
    "\n",
    "hotels['review_season'] = hotels['review_date'].apply(year_season)\n",
    "\n",
    "# Encode feature 'review_season'\n",
    "encoder = ce.OneHotEncoder(cols=['review_season'], use_cat_names=True) # указываем столбец для кодирования\n",
    "type_bin = encoder.fit_transform(hotels['review_season'])\n",
    "hotels = pd.concat([hotels, type_bin], axis=1)\n",
    "\n",
    "# Get an year of review\n",
    "#hotels['review_year'] = hotels['review_date'].dt.year\n",
    "hotels['review_month'] = hotels['review_date'].dt.month\n",
    "\n",
    "hotels.drop(['review_season', 'review_date'], axis = 1, inplace = True)"
   ]
  },
  {
   "cell_type": "code",
   "execution_count": 5,
   "metadata": {},
   "outputs": [],
   "source": [
    "# код для нахождения количества дней при помощи регулярного выражения:\n",
    "\n",
    "regex = '\\d+' # регулярное выражение для нахождения чисел\n",
    "hotels['days_since_review'] = hotels['days_since_review'].str.findall(regex).str.get(0)\n",
    "hotels['days_since_review'] = pd.to_numeric(hotels['days_since_review'])"
   ]
  },
  {
   "cell_type": "code",
   "execution_count": 6,
   "metadata": {},
   "outputs": [],
   "source": [
    "# Get a tags with RegEx\n",
    "import re\n",
    "\n",
    "def re_func(num_tags):\n",
    "    found = re.findall(\"'[^\\'](.+?)[^\\']'\", num_tags)\n",
    "    return found\n",
    "\n",
    "tags_df = hotels['tags'].apply(re_func)\n",
    "\n",
    "# Get a type of trip from tags\n",
    "hotels['leisure_trip'] = tags_df.apply(lambda x: 1 if x[0] == 'Leisure trip' else 0)\n",
    "hotels['business_trip'] = tags_df.apply(lambda x: 1 if x[0] == 'Business trip' else 0)\n",
    "\n",
    "# Get a quantity of nights stand from tags\n",
    "def reg_nights(df_str):\n",
    "    found = re.findall(r'\\d', df_str)\n",
    "    return found\n",
    "\n",
    "nights_quantity = hotels['tags'].apply(reg_nights)\n",
    "hotels['nights_quantity'] = nights_quantity.apply(lambda x: x[0] if len(x)>=1 else 0)\n",
    "\n",
    "# Drop column\n",
    "hotels.drop('tags',axis = 1, inplace = True)"
   ]
  },
  {
   "cell_type": "code",
   "execution_count": 7,
   "metadata": {},
   "outputs": [],
   "source": [
    "# Get a definition of negative and positive sentiment of review\n",
    "\n",
    "import nltk\n",
    "from nltk.sentiment.vader import SentimentIntensityAnalyzer\n",
    "import time\n",
    "# Installing packeges nltk.downloader.download('vader_lexicon')\n",
    "\n",
    "sent_analyzer = SentimentIntensityAnalyzer()\n",
    "\n",
    "negative_review = hotels['negative_review'].str.lower().str.strip()\n",
    "positive_review = hotels['positive_review'].str.lower().str.strip()\n",
    "\n",
    "neg = negative_review.apply(lambda x: abs(sent_analyzer.polarity_scores(x)['compound']))\n",
    "pos = positive_review.apply(lambda x: abs(sent_analyzer.polarity_scores(x)['compound']))\n",
    "\n",
    "hotels['sentiment_score'] = pos + neg\n",
    "hotels['polarity_pos'] = pos\n",
    "hotels['polarity_neg'] = neg\n",
    "\n",
    "hotels.drop(['negative_review', 'positive_review'], axis = 1, inplace = True)"
   ]
  },
  {
   "cell_type": "code",
   "execution_count": 4,
   "metadata": {},
   "outputs": [],
   "source": [
    "# Get a list of tags\n",
    "\n",
    "#def tags_list(df):\n",
    "#    \"\"\"Delete symbols, spaces and convert string to list\"\"\"\n",
    "#    df_n = df.translate({ord(i): None for i in \"'][\"})\n",
    "#    df_n = df_n.strip().split(\" ,  \")\n",
    "#    return df_n\n",
    "\n",
    "#hotels['tags_n'] = hotels['tags'].apply(tags_list)\n",
    "\n",
    "#hotels['leisure_trip'] = hotels['tags_n'].apply(lambda x: 1 if x[0] == 'Leisure trip' else 0)\n",
    "#hotels['business_trip'] = hotels['tags_n'].apply(lambda x: 1 if x[0] == 'Business trip' else 0)"
   ]
  },
  {
   "cell_type": "code",
   "execution_count": 56,
   "metadata": {},
   "outputs": [],
   "source": [
    "# Дропаем широту и долготу\n",
    "# hotels = hotels.drop(['lat', 'lng'], axis=1)"
   ]
  },
  {
   "cell_type": "markdown",
   "metadata": {},
   "source": [
    "### Нормализация и стандартизация"
   ]
  },
  {
   "cell_type": "code",
   "execution_count": 8,
   "metadata": {},
   "outputs": [],
   "source": [
    "np.random.seed(34)\n",
    "\n",
    "from sklearn import preprocessing\n",
    "\n",
    "import matplotlib\n",
    "import matplotlib.pyplot as plt\n",
    "import seaborn as sns\n",
    "\n",
    "%matplotlib inline\n",
    "matplotlib.style.use('ggplot')"
   ]
  },
  {
   "cell_type": "code",
   "execution_count": 10,
   "metadata": {},
   "outputs": [],
   "source": [
    "df = hotels.copy()"
   ]
  },
  {
   "cell_type": "code",
   "execution_count": 13,
   "metadata": {},
   "outputs": [
    {
     "ename": "NameError",
     "evalue": "name 'df' is not defined",
     "output_type": "error",
     "traceback": [
      "\u001b[0;31m---------------------------------------------------------------------------\u001b[0m",
      "\u001b[0;31mNameError\u001b[0m                                 Traceback (most recent call last)",
      "\u001b[0;32m<ipython-input-13-eeed0a36547c>\u001b[0m in \u001b[0;36m<module>\u001b[0;34m\u001b[0m\n\u001b[1;32m      4\u001b[0m \u001b[0;32mfrom\u001b[0m \u001b[0mscipy\u001b[0m \u001b[0;32mimport\u001b[0m \u001b[0mstats\u001b[0m\u001b[0;34m\u001b[0m\u001b[0;34m\u001b[0m\u001b[0m\n\u001b[1;32m      5\u001b[0m \u001b[0;34m\u001b[0m\u001b[0m\n\u001b[0;32m----> 6\u001b[0;31m \u001b[0mplt\u001b[0m\u001b[0;34m.\u001b[0m\u001b[0mboxplot\u001b[0m\u001b[0;34m(\u001b[0m\u001b[0mdf\u001b[0m\u001b[0;34m[\u001b[0m\u001b[0;34m'total_number_of_reviews'\u001b[0m\u001b[0;34m]\u001b[0m\u001b[0;34m)\u001b[0m\u001b[0;34m\u001b[0m\u001b[0;34m\u001b[0m\u001b[0m\n\u001b[0m\u001b[1;32m      7\u001b[0m \u001b[0mplt\u001b[0m\u001b[0;34m.\u001b[0m\u001b[0mshow\u001b[0m\u001b[0;34m(\u001b[0m\u001b[0;34m)\u001b[0m\u001b[0;34m\u001b[0m\u001b[0;34m\u001b[0m\u001b[0m\n\u001b[1;32m      8\u001b[0m \u001b[0;34m\u001b[0m\u001b[0m\n",
      "\u001b[0;31mNameError\u001b[0m: name 'df' is not defined"
     ]
    }
   ],
   "source": [
    "# Looking for normal distribution of a dataframe features\n",
    "# For example, present 'total_number_of_reviews'\n",
    "\n",
    "from scipy import stats\n",
    "\n",
    "plt.boxplot(df['total_number_of_reviews'])\n",
    "plt.show()\n",
    "\n",
    "plt.subplot(1, 2, 1) \n",
    "stats.probplot(df['total_number_of_reviews'], plot=plt) # q-q plot\n",
    "plt.subplot(1, 2, 2) \n",
    "\n",
    "plt.hist(df['total_number_of_reviews']) #hist\n",
    "plt.tight_layout() \n",
    "plt.show()"
   ]
  },
  {
   "cell_type": "code",
   "execution_count": 15,
   "metadata": {},
   "outputs": [],
   "source": [
    "# As we see on q-q plot, distribution of feature is not normal and on a boxplot displayed a ejections. So we used RobustScaler normalizer.\n",
    "\n",
    "r_scaler = preprocessing.RobustScaler()\n",
    "df['total_number_of_reviews'] = r_scaler.fit_transform(np.array(df['total_number_of_reviews']).reshape(-1,1))\n",
    "\n",
    "#fig, (ax1) = plt.subplots(ncols=1, figsize=(10, 8))\n",
    "#ax1.set_title('Distribution after RobustScaler')\n",
    "\n",
    "#sns.kdeplot(df['total_number_of_reviews'], ax=ax1, label ='total_number_of_reviews')\n",
    "#plt.legend()"
   ]
  },
  {
   "cell_type": "code",
   "execution_count": 16,
   "metadata": {},
   "outputs": [],
   "source": [
    "# Make the same action with some features\n",
    "\n",
    "col_names = ['additional_number_of_scoring',\n",
    "             'review_total_negative_word_counts',\n",
    "             'review_total_positive_word_counts' ,\n",
    "             'total_number_of_reviews_reviewer_has_given',\n",
    "             'polarity_neg',\n",
    "             'polarity_pos',\n",
    "             'lat',\n",
    "             'lng']\n",
    "\n",
    "r_scaler = preprocessing.RobustScaler()\n",
    "\n",
    "df[col_names] = r_scaler.fit_transform(df[col_names])\n",
    "df[col_names] = pd.DataFrame(df[col_names], columns=col_names)\n",
    "\n",
    "#fig, (ax1) = plt.subplots(ncols=1, figsize=(10, 8))\n",
    "#ax1.set_title('Distibution after RobustScaler')\n",
    "\n",
    "#sns.kdeplot(df['additional_number_of_scoring'], ax=ax1, label ='additional_number_of_scoring')\n",
    "#sns.kdeplot(df['review_total_negative_word_counts'], ax=ax1, label ='review_total_negative_word_counts')\n",
    "#sns.kdeplot(df['review_total_positive_word_counts'], ax=ax1, label ='review_total_positive_word_counts')\n",
    "#sns.kdeplot(df['total_number_of_reviews_reviewer_has_given'], ax=ax1, label ='total_number_of_reviews_reviewer_has_given')\n",
    "#plt.legend()"
   ]
  },
  {
   "cell_type": "code",
   "execution_count": 17,
   "metadata": {},
   "outputs": [],
   "source": [
    "#Standardize another features\n",
    "\n",
    "col_names = ['average_score', 'sentiment_score']\n",
    "s_scaler = preprocessing.StandardScaler()\n",
    "\n",
    "df[col_names] = s_scaler.fit_transform(df[col_names])\n",
    "df[col_names] = pd.DataFrame(df[col_names], columns=col_names)\n",
    "\n",
    "#fig, (ax1) = plt.subplots(ncols=1, figsize=(10, 8))\n",
    "#ax1.set_title('Distibution after StandardScaler')\n",
    "\n",
    "#sns.kdeplot(df['average_score'], ax=ax1, label ='average_score')\n",
    "#sns.kdeplot(df['sentiment_score'], ax=ax1, label ='sentiment_score')\n",
    "#plt.legend()"
   ]
  },
  {
   "cell_type": "code",
   "execution_count": 11,
   "metadata": {},
   "outputs": [],
   "source": [
    "# # убираем признаки которые еще не успели обработать, \n",
    "# # модель на признаках с dtypes \"object\" обучаться не будет, просто выберим их и удалим\n",
    "object_columns = [s for s in df.columns if df[s].dtypes == 'object']\n",
    "df.drop(object_columns, axis = 1, inplace=True)\n",
    "\n",
    "# # заполняем пропуски самым простым способом\n",
    "df = df.fillna(0)"
   ]
  },
  {
   "cell_type": "code",
   "execution_count": 12,
   "metadata": {},
   "outputs": [],
   "source": [
    "# Разбиваем датафрейм на части, необходимые для обучения и тестирования модели  \n",
    "# Х - данные с информацией об отелях, у - целевая переменная (рейтинги отелей)  \n",
    "X = df.drop(['reviewer_score'], axis = 1)  \n",
    "y = df['reviewer_score'] "
   ]
  },
  {
   "cell_type": "markdown",
   "metadata": {},
   "source": [
    "### ОТБОР ПРИЗНАКОВ"
   ]
  },
  {
   "cell_type": "code",
   "execution_count": 20,
   "metadata": {},
   "outputs": [],
   "source": [
    "# непрерывные признаки\n",
    "num_cols = ['additional_number_of_scoring', 'average_score', 'review_total_negative_word_counts', 'total_number_of_reviews', 'review_total_positive_word_counts',\n",
    "            'total_number_of_reviews_reviewer_has_given', 'lat', 'lng', 'sentiment_score', 'polarity_pos', 'polarity_neg']\n",
    "\n",
    "# категориальные признаки\n",
    "cat_cols = ['hotel_country_United Kingdom', 'hotel_country_France', 'hotel_country_Netherlands', 'hotel_country_Italy', 'hotel_country_Austria',\n",
    "            'hotel_country_Spain', 'review_season_winter', 'review_season_autumn', 'review_season_spring', 'review_season_summer', 'review_month',\n",
    "            'leisure_trip', 'business_trip']\n"
   ]
  },
  {
   "cell_type": "code",
   "execution_count": 21,
   "metadata": {},
   "outputs": [
    {
     "data": {
      "text/plain": [
       "<AxesSubplot:>"
      ]
     },
     "execution_count": 21,
     "metadata": {},
     "output_type": "execute_result"
    },
    {
     "data": {
      "image/png": "[encoded data removed]",
      "text/plain": [
       "<Figure size 432x288 with 1 Axes>"
      ]
     },
     "metadata": {},
     "output_type": "display_data"
    }
   ],
   "source": [
    "# Compare categorical features\n",
    "from sklearn.feature_selection import chi2\n",
    "\n",
    "y = y.astype('int')\n",
    "pd.Series(chi2(df[cat_cols], y)[0], index=cat_cols).sort_values(ascending=True).plot(kind='barh')"
   ]
  },
  {
   "cell_type": "code",
   "execution_count": 19,
   "metadata": {},
   "outputs": [],
   "source": [
    "# Drop features with low impact\n",
    "#df.drop(['review_season_spring', 'review_season_summer'], axis = 1, inplace = True)"
   ]
  },
  {
   "cell_type": "code",
   "execution_count": 22,
   "metadata": {},
   "outputs": [
    {
     "data": {
      "text/plain": [
       "<AxesSubplot:>"
      ]
     },
     "execution_count": 22,
     "metadata": {},
     "output_type": "execute_result"
    },
    {
     "data": {
      "image/png": "[encoded data removed]",
      "text/plain": [
       "<Figure size 432x288 with 1 Axes>"
      ]
     },
     "metadata": {},
     "output_type": "display_data"
    }
   ],
   "source": [
    "# Compare numerical features\n",
    "from sklearn.feature_selection import f_classif # anova\n",
    "\n",
    "imp_num = pd.Series(f_classif(X[num_cols], y)[0], index = num_cols)\n",
    "imp_num.sort_values(inplace = True)\n",
    "imp_num.plot(kind = 'barh')"
   ]
  },
  {
   "cell_type": "code",
   "execution_count": 21,
   "metadata": {},
   "outputs": [],
   "source": [
    "# Drop features with low impact\n",
    "# df.drop(['lng', 'lat'], axis = 1, inplace=True)"
   ]
  },
  {
   "cell_type": "code",
   "execution_count": 13,
   "metadata": {},
   "outputs": [],
   "source": [
    "# Загружаем специальный инструмент для разбивки:  \n",
    "from sklearn.model_selection import train_test_split  "
   ]
  },
  {
   "cell_type": "markdown",
   "metadata": {},
   "source": [
    "Не существует идеального соотношения обучающей и тестовой выборки, однако принято выделять на часть обучения больше данных, около ⅔, а оставшуюся часть используют для проверки — ⅓ выборки. Таким образом, самые популярные значения параметра test_size составляют 0.3, 0.25, 0.2."
   ]
  },
  {
   "cell_type": "code",
   "execution_count": 14,
   "metadata": {},
   "outputs": [],
   "source": [
    "# Наборы данных с меткой \"train\" будут использоваться для обучения модели, \"test\" - для тестирования.  \n",
    "# Для тестирования мы будем использовать 25% от исходного датасета.  \n",
    "X_train, X_test, y_train, y_test = train_test_split(X, y, test_size=0.25, random_state=42)"
   ]
  },
  {
   "cell_type": "code",
   "execution_count": 15,
   "metadata": {},
   "outputs": [],
   "source": [
    "# Импортируем необходимые библиотеки:  \n",
    "from sklearn.ensemble import RandomForestRegressor # инструмент для создания и обучения модели  \n",
    "from sklearn import metrics # инструменты для оценки точности модели  \n",
    "  \n",
    "# Создаём модель  \n",
    "regr = RandomForestRegressor(n_estimators=100)  \n",
    "      \n",
    "# Обучаем модель на тестовом наборе данных  \n",
    "regr.fit(X_train, y_train)  \n",
    "      \n",
    "# Используем обученную модель для предсказания рейтинга отелей в тестовой выборке.  \n",
    "# Предсказанные значения записываем в переменную y_pred  \n",
    "y_pred = regr.predict(X_test)  "
   ]
  },
  {
   "cell_type": "code",
   "execution_count": 16,
   "metadata": {},
   "outputs": [
    {
     "name": "stdout",
     "output_type": "stream",
     "text": [
      "MAPE: 0.13072939554822452\n"
     ]
    }
   ],
   "source": [
    "# Сравниваем предсказанные значения (y_pred) с реальными (y_test), и смотрим насколько они отличаются  \n",
    "# Метрика называется Mean Absolute Percentage Error (MAPE) и показывает среднюю абсолютную процентную ошибку предсказанных значений от фактических.  \n",
    "print('MAPE:', metrics.mean_absolute_percentage_error(y_test, y_pred))"
   ]
  },
  {
   "cell_type": "markdown",
   "metadata": {},
   "source": [
    "4. Лучший способ добиться успеха — следовать советам"
   ]
  },
  {
   "cell_type": "markdown",
   "metadata": {},
   "source": [
    "Задачу, которая стоит перед вами, можно свести к пяти пунктам:\n",
    "\n",
    "- Удаление строковых значений. Вам необходимо удалить из набора данных столбцы, данные в которых представлены не числами.\n",
    "- Очистка от пропущенных значений. На предыдущем шаге мы делали это самым грубым из всех возможных способов, сейчас попробуйте подойти к процессу более гибко.\n",
    "- Создание новых признаков. Мы попробуем создать новые столбцы с данными из существующих данных или с использованием внешних источников.\n",
    "- Преобразование признаков. Применим различные преобразования над признаками вроде нормализации, стандартизации.\n",
    "- Отбор признаков. Используем анализ мультиколлинеарности как шаг отбора признаков для модели.\n",
    "\n",
    "Ваша задача — при помощи этих шагов и рекомендаций повысить качество предсказания. Чтобы понять, что качество улучшилось, ориентируйтесь на метрику MAPE: чем она меньше, тем лучше. Рассмотрим шаги подробнее."
   ]
  },
  {
   "cell_type": "markdown",
   "metadata": {},
   "source": [
    "СТРОКОВЫЕ ДАННЫЕ\n",
    "\n",
    "В исходном наборе данных всего девять столбцов содержат числовые данные. Так что просто удалить все object-значения и считать задачу выполненной не получится. Мы сделали это в прошлом юните, чтобы получить значение метрики. Но чтобы улучшить качество модели, вам перед удалением придётся очень основательно поработать со строковыми данными и извлечь из них как можно больше информации, которую можно представить в числовом виде."
   ]
  }
 ],
 "metadata": {
  "kernelspec": {
   "display_name": "Python 3.8.8 ('base')",
   "language": "python",
   "name": "python3"
  },
  "language_info": {
   "codemirror_mode": {
    "name": "ipython",
    "version": 3
   },
   "file_extension": ".py",
   "mimetype": "text/x-python",
   "name": "python",
   "nbconvert_exporter": "python",
   "pygments_lexer": "ipython3",
   "version": "3.8.8"
  },
  "vscode": {
   "interpreter": {
    "hash": "e7b67c4c70b37abe9a13cdef6d156c2045a2cb7d6c971e7027ad705fb56218cc"
   }
  }
 },
 "nbformat": 4,
 "nbformat_minor": 2
}
