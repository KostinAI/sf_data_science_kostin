{
  "cells": [
    {
      "cell_type": "code",
      "execution_count": 1,
      "metadata": {
        "id": "a0iRJYw7i5rG"
      },
      "outputs": [],
      "source": [
        "import pandas as pd\n",
        "import numpy as np\n",
        "import matplotlib.pyplot as plt\n",
        "\n",
        "from sklearn.preprocessing import QuantileTransformer\n",
        "from sklearn.preprocessing import PowerTransformer"
      ]
    },
    {
      "cell_type": "markdown",
      "metadata": {
        "id": "viFBtMPRjB2u"
      },
      "source": [
        "# Загрузка данных"
      ]
    },
    {
      "cell_type": "code",
      "execution_count": 2,
      "metadata": {
        "id": "Oaeera9FjGEO"
      },
      "outputs": [],
      "source": [
        "data = pd.read_excel('/home/aleksandr/Документы/GitHub/data/ML6/data_ford_price.xlsx')"
      ]
    },
    {
      "cell_type": "markdown",
      "metadata": {
        "id": "AaX7OA-6jQEv"
      },
      "source": [
        "# Трансформация признаков"
      ]
    },
    {
      "cell_type": "code",
      "execution_count": 3,
      "metadata": {
        "colab": {
          "base_uri": "https://localhost:8080/",
          "height": 281
        },
        "id": "3AMGKhYMjHvJ",
        "outputId": "b006519b-fab4-4b03-b94b-8849b045b143"
      },
      "outputs": [
        {
          "data": {
            "image/png": "[encoded data removed]",
            "text/plain": [
              "<Figure size 432x288 with 1 Axes>"
            ]
          },
          "metadata": {
            "needs_background": "light"
          },
          "output_type": "display_data"
        }
      ],
      "source": [
        "plt.hist(data.year)\n",
        "plt.title('Распределение признака year');"
      ]
    },
    {
      "cell_type": "markdown",
      "metadata": {
        "id": "ww9rcS4IjVWC"
      },
      "source": [
        "## Квантильное преобразование (QUANTILE TRANSFORMER)"
      ]
    },
    {
      "cell_type": "markdown",
      "metadata": {},
      "source": [
        "Этот метод трансформации признаков преобразует распределение переменной в нормальное или равномерное распределение и масштабирует его соответствующим образом.\n",
        "Квантильное преобразование сопоставляет распределение вероятностей переменной с другим распределением вероятностей с использованием квантильной функции.\n",
        "Квантильная функция, также называемая функцией процентной точки (PPF), является обратной функцией кумулятивного распределения вероятностей (CDF).\n",
        "CDF — это функция, которая возвращает вероятность значения, равного или меньше заданного значения.\n",
        "\n",
        "Квантильная функция ранжирует или сглаживает взаимосвязь между наблюдениями и может быть отображена на другие распределения (равномерное или нормальное).\n",
        "\n",
        "Гиперпараметр n_quantiles определяет разрешение отображения или ранжирование наблюдений в наборе данных. Это значение должно быть меньше, чем количество наблюдений в наборе данных, и по умолчанию равно 1000."
      ]
    },
    {
      "cell_type": "code",
      "execution_count": 4,
      "metadata": {
        "colab": {
          "base_uri": "https://localhost:8080/",
          "height": 281
        },
        "id": "vf9GR4fVjMMD",
        "outputId": "45943ebd-633b-4ff9-badb-6d28d529f920"
      },
      "outputs": [
        {
          "data": {
            "image/png": "[encoded data removed]",
            "text/plain": [
              "<Figure size 432x288 with 1 Axes>"
            ]
          },
          "metadata": {
            "needs_background": "light"
          },
          "output_type": "display_data"
        }
      ],
      "source": [
        "# Данный трансформер принимает на вход 2D-массив, поэтому нам надо изменить формат данных (поскольку что мы подаём на вход только один столбец)\n",
        "\n",
        "data_for_transform = data['year'].values.reshape((len(data),1))\n",
        "\n",
        "quantile = QuantileTransformer(output_distribution='normal')\n",
        "data_transformed = quantile.fit_transform(data_for_transform)\n",
        " \n",
        "plt.hist(data_transformed, bins=25)\n",
        "plt.title('Трансформированное распределение признака year')\n",
        "plt.show()"
      ]
    },
    {
      "cell_type": "code",
      "execution_count": 12,
      "metadata": {},
      "outputs": [
        {
          "data": {
            "text/plain": [
              "0.96"
            ]
          },
          "execution_count": 12,
          "metadata": {},
          "output_type": "execute_result"
        }
      ],
      "source": [
        "# Задание 6.1 Преобразуйте распределение признаков condition и cylinders в равномерное. Какое значение признака condition получится у нулевого объекта?\n",
        "\n",
        "data_for_transform = data[['condition', 'cylinders']]\n",
        "quantile = QuantileTransformer(output_distribution='uniform')\n",
        "data_transformed = quantile.fit_transform(data_for_transform)\n",
        "np.round(data_transformed[0][0],2)"
      ]
    },
    {
      "cell_type": "markdown",
      "metadata": {
        "id": "uhm73HOIjgLL"
      },
      "source": [
        "## Логарифмическое преобразование"
      ]
    },
    {
      "cell_type": "markdown",
      "metadata": {},
      "source": [
        "Логарифмическое преобразование — один из самых популярных методов преобразования. В основном оно используется для превращения асимметричного распределения в нормальное/менее асимметричное. В этом преобразовании мы берём логарифм значений признака вместо самих значений.\n",
        "\n",
        "Стоит учесть, что, если наши данные имеют отрицательные значения или значения в диапазоне от 0 до 1, мы не можем применить логарифмическое преобразование напрямую, поскольку логарифм отрицательных чисел и чисел между 0 и 1 не определён, то есть мы получим ошибки или значения NaN в наших данных. В таких случаях мы можем добавить число к этим значениям, чтобы все они были больше 1."
      ]
    },
    {
      "cell_type": "code",
      "execution_count": 20,
      "metadata": {
        "colab": {
          "base_uri": "https://localhost:8080/",
          "height": 281
        },
        "id": "WgrUvXs9jdYA",
        "outputId": "ff631438-3990-49d2-f130-af6e732f39d8"
      },
      "outputs": [
        {
          "data": {
            "image/png": "[encoded data removed]",
            "text/plain": [
              "<Figure size 432x288 with 1 Axes>"
            ]
          },
          "metadata": {
            "needs_background": "light"
          },
          "output_type": "display_data"
        }
      ],
      "source": [
        "plt.hist(data.price, bins = 20)\n",
        "plt.title('Распределение признака price');"
      ]
    },
    {
      "cell_type": "code",
      "execution_count": 21,
      "metadata": {
        "colab": {
          "base_uri": "https://localhost:8080/",
          "height": 281
        },
        "id": "Gef19Y2hjnPo",
        "outputId": "cfa8dc3b-e97b-4c62-99e7-95df54d05772"
      },
      "outputs": [
        {
          "data": {
            "image/png": "[encoded data removed]",
            "text/plain": [
              "<Figure size 432x288 with 1 Axes>"
            ]
          },
          "metadata": {
            "needs_background": "light"
          },
          "output_type": "display_data"
        }
      ],
      "source": [
        "log_price = np.log(data['price'])\n",
        " \n",
        "plt.hist(log_price)\n",
        "plt.title('Трансформированное распределение признака price')\n",
        "plt.show()"
      ]
    },
    {
      "cell_type": "code",
      "execution_count": 22,
      "metadata": {
        "colab": {
          "base_uri": "https://localhost:8080/",
          "height": 297
        },
        "id": "-xQGoRHkjpX4",
        "outputId": "3993c1c9-018f-48ab-e346-8749222acd78"
      },
      "outputs": [
        {
          "data": {
            "text/html": [
              "<div>\n",
              "<style scoped>\n",
              "    .dataframe tbody tr th:only-of-type {\n",
              "        vertical-align: middle;\n",
              "    }\n",
              "\n",
              "    .dataframe tbody tr th {\n",
              "        vertical-align: top;\n",
              "    }\n",
              "\n",
              "    .dataframe thead th {\n",
              "        text-align: right;\n",
              "    }\n",
              "</style>\n",
              "<table border=\"1\" class=\"dataframe\">\n",
              "  <thead>\n",
              "    <tr style=\"text-align: right;\">\n",
              "      <th></th>\n",
              "      <th>price</th>\n",
              "      <th>transformed_price</th>\n",
              "    </tr>\n",
              "  </thead>\n",
              "  <tbody>\n",
              "    <tr>\n",
              "      <th>count</th>\n",
              "      <td>7017.000000</td>\n",
              "      <td>7017.000000</td>\n",
              "    </tr>\n",
              "    <tr>\n",
              "      <th>mean</th>\n",
              "      <td>15121.549523</td>\n",
              "      <td>9.204510</td>\n",
              "    </tr>\n",
              "    <tr>\n",
              "      <th>std</th>\n",
              "      <td>11765.423119</td>\n",
              "      <td>1.275868</td>\n",
              "    </tr>\n",
              "    <tr>\n",
              "      <th>min</th>\n",
              "      <td>1.000000</td>\n",
              "      <td>0.000000</td>\n",
              "    </tr>\n",
              "    <tr>\n",
              "      <th>25%</th>\n",
              "      <td>5995.000000</td>\n",
              "      <td>8.698681</td>\n",
              "    </tr>\n",
              "    <tr>\n",
              "      <th>50%</th>\n",
              "      <td>12750.000000</td>\n",
              "      <td>9.453287</td>\n",
              "    </tr>\n",
              "    <tr>\n",
              "      <th>75%</th>\n",
              "      <td>21995.000000</td>\n",
              "      <td>9.998570</td>\n",
              "    </tr>\n",
              "    <tr>\n",
              "      <th>max</th>\n",
              "      <td>299500.000000</td>\n",
              "      <td>12.609870</td>\n",
              "    </tr>\n",
              "  </tbody>\n",
              "</table>\n",
              "</div>"
            ],
            "text/plain": [
              "               price  transformed_price\n",
              "count    7017.000000        7017.000000\n",
              "mean    15121.549523           9.204510\n",
              "std     11765.423119           1.275868\n",
              "min         1.000000           0.000000\n",
              "25%      5995.000000           8.698681\n",
              "50%     12750.000000           9.453287\n",
              "75%     21995.000000           9.998570\n",
              "max    299500.000000          12.609870"
            ]
          },
          "execution_count": 22,
          "metadata": {},
          "output_type": "execute_result"
        }
      ],
      "source": [
        "# Давайте также сравним значения исходного и трансформированного признака.\n",
        "price_data = pd.concat([data['price'], log_price.rename('transformed_price')], axis = 1)\n",
        " \n",
        "price_data.describe()"
      ]
    },
    {
      "cell_type": "markdown",
      "metadata": {
        "id": "hLjktjw_j0Xy"
      },
      "source": [
        "## Преобразование Бокса-Кокса"
      ]
    },
    {
      "cell_type": "markdown",
      "metadata": {},
      "source": [
        "необходимо сначала понять исходное распределение признака, а затем уже делать выбор. Power Transformer фактически автоматизирует принятие этого решения, вводя параметр, называемый lambda. Он принимает решение об обобщённом степенном преобразовании, находя наилучшее значение \\(lambda\\), используя один из следующих параметрических методов:\n",
        "\n",
        "- Преобразование Бокса-Кокса, которое работает для положительных значений признака.\n",
        "- Преобразование Йео-Джонсона, которое учитывает при расчётах нулевые и отрицательные значения обрабатываемых переменных."
      ]
    },
    {
      "cell_type": "code",
      "execution_count": 24,
      "metadata": {
        "colab": {
          "base_uri": "https://localhost:8080/"
        },
        "id": "PxWZPa0jj1fo",
        "outputId": "3df2250c-81c1-4da2-f8be-d9631281182a"
      },
      "outputs": [
        {
          "name": "stderr",
          "output_type": "stream",
          "text": [
            "/home/aleksandr/anaconda3/lib/python3.8/site-packages/numpy/core/_methods.py:233: RuntimeWarning: overflow encountered in multiply\n",
            "  x = um.multiply(x, x, out=x)\n",
            "/home/aleksandr/anaconda3/lib/python3.8/site-packages/numpy/core/_methods.py:244: RuntimeWarning: overflow encountered in reduce\n",
            "  ret = umr_sum(x, axis, dtype, out, keepdims=keepdims, where=where)\n"
          ]
        }
      ],
      "source": [
        "box_cox = PowerTransformer(method = 'box-cox')\n",
        " \n",
        "data_box_cox = box_cox.fit_transform(data[['price', 'year']].values)\n",
        "data_box_cox = pd.DataFrame(data_box_cox, columns = ['transformed_price', 'transformed_year'])"
      ]
    },
    {
      "cell_type": "code",
      "execution_count": 25,
      "metadata": {
        "colab": {
          "base_uri": "https://localhost:8080/",
          "height": 540
        },
        "id": "ekuFPLRLj6zY",
        "outputId": "d8e85fd5-e739-4158-d118-0030eea563ff"
      },
      "outputs": [
        {
          "data": {
            "image/png": "[encoded data removed]",
            "text/plain": [
              "<Figure size 576x576 with 4 Axes>"
            ]
          },
          "metadata": {
            "needs_background": "light"
          },
          "output_type": "display_data"
        }
      ],
      "source": [
        "fig, axs = plt.subplots(2, 2, figsize=(8, 8), sharey=True)\n",
        "axs[0][0].hist(data['price'])\n",
        "axs[1][0].hist(data['year'])\n",
        "axs[0][1].hist(data_box_cox['transformed_price'])\n",
        "axs[1][1].hist(data_box_cox['transformed_year'])\n",
        "\n",
        "axs[0][0].set(title='price')\n",
        "axs[0][1].set(title='box cox price')\n",
        "\n",
        "axs[1][0].set(title='year')\n",
        "axs[1][1].set(title='box cox year')\n",
        "\n",
        "fig.suptitle('Сравнение распределений до трансформации и после')\n",
        "\n",
        "plt.show()"
      ]
    }
  ],
  "metadata": {
    "colab": {
      "collapsed_sections": [],
      "name": "Трансформации_распределений_признаков.ipynb",
      "provenance": []
    },
    "interpreter": {
      "hash": "e7b67c4c70b37abe9a13cdef6d156c2045a2cb7d6c971e7027ad705fb56218cc"
    },
    "kernelspec": {
      "display_name": "Python 3.8.8 ('base')",
      "language": "python",
      "name": "python3"
    },
    "language_info": {
      "codemirror_mode": {
        "name": "ipython",
        "version": 3
      },
      "file_extension": ".py",
      "mimetype": "text/x-python",
      "name": "python",
      "nbconvert_exporter": "python",
      "pygments_lexer": "ipython3",
      "version": "3.8.8"
    }
  },
  "nbformat": 4,
  "nbformat_minor": 0
}
