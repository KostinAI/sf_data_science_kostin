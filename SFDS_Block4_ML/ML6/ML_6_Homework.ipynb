{
 "cells": [
  {
   "cell_type": "code",
   "execution_count": 23,
   "metadata": {},
   "outputs": [],
   "source": [
    "import pandas as pd\n",
    "\n",
    "from sklearn.model_selection import train_test_split\n",
    "from sklearn.linear_model import LinearRegression\n",
    "from sklearn.metrics import mean_absolute_error\n",
    "from sklearn.feature_selection import RFE\n",
    "from sklearn.feature_selection import SelectKBest, f_regression"
   ]
  },
  {
   "cell_type": "code",
   "execution_count": 24,
   "metadata": {},
   "outputs": [],
   "source": [
    "data = pd.read_excel('/home/aleksandr/Документы/GitHub/data/ML6/data_ford_price.xlsx')"
   ]
  },
  {
   "cell_type": "code",
   "execution_count": 25,
   "metadata": {},
   "outputs": [],
   "source": [
    "data = data[['price','year', 'cylinders', 'odometer', 'lat', 'long', 'weather']]\n",
    "data.dropna(inplace = True)"
   ]
  },
  {
   "cell_type": "code",
   "execution_count": 26,
   "metadata": {},
   "outputs": [],
   "source": [
    "y = data['price']\n",
    "x = data.drop(columns='price')\n",
    "\n",
    "X_train, X_test, y_train, y_test = train_test_split(x, y, test_size=0.3, random_state=40)"
   ]
  },
  {
   "cell_type": "code",
   "execution_count": 27,
   "metadata": {},
   "outputs": [
    {
     "data": {
      "text/plain": [
       "array(['year', 'cylinders', 'lat'], dtype=object)"
      ]
     },
     "execution_count": 27,
     "metadata": {},
     "output_type": "execute_result"
    }
   ],
   "source": [
    "# Выделяем три столбца-признака для обучения, выбранные RFE.\n",
    "estimator = LinearRegression()\n",
    "selector_RFE = RFE(estimator, n_features_to_select=3, step=1)\n",
    "selector_RFE = selector_RFE.fit(X_train, y_train)\n",
    " \n",
    "selector_RFE.get_feature_names_out()"
   ]
  },
  {
   "cell_type": "code",
   "execution_count": 28,
   "metadata": {},
   "outputs": [
    {
     "data": {
      "text/plain": [
       "array(['year', 'cylinders', 'odometer'], dtype=object)"
      ]
     },
     "execution_count": 28,
     "metadata": {},
     "output_type": "execute_result"
    }
   ],
   "source": [
    "# Выделяем три столбца-признака для обучения, выбранные SelectKBest.\n",
    "selector_kBest = SelectKBest(f_regression, k=3)\n",
    "selector_kBest.fit(X_train, y_train)\n",
    " \n",
    "selector_kBest.get_feature_names_out()"
   ]
  },
  {
   "cell_type": "code",
   "execution_count": 29,
   "metadata": {},
   "outputs": [
    {
     "name": "stdout",
     "output_type": "stream",
     "text": [
      "MAE: 4708.946\n"
     ]
    }
   ],
   "source": [
    "# Обучаем регрессия на первых трёх столбцах, оценено качество модели на тесте.\n",
    "y = data['price']\n",
    "x = data[['year', 'cylinders', 'odometer']]\n",
    "\n",
    "X_train, X_test, y_train, y_test = train_test_split(x, y, test_size=0.3, random_state=40)\n",
    "\n",
    "model = LinearRegression()\n",
    "model.fit(X_train, y_train)\n",
    "y_predicted = model.predict(X_test)\n",
    " \n",
    "mae = mean_absolute_error(y_test, y_predicted)\n",
    "print('MAE: %.3f' % mae)"
   ]
  },
  {
   "cell_type": "code",
   "execution_count": 30,
   "metadata": {},
   "outputs": [
    {
     "name": "stdout",
     "output_type": "stream",
     "text": [
      "MAE: 8812.414\n"
     ]
    }
   ],
   "source": [
    "# Обучаем регрессия на вторых трёх столбцах, оценено качество модели на тесте.\n",
    "y = data['price']\n",
    "x = data[['lat', 'long', 'weather']]\n",
    "\n",
    "X_train, X_test, y_train, y_test = train_test_split(x, y, test_size=0.3, random_state=40)\n",
    "\n",
    "model = LinearRegression()\n",
    "model.fit(X_train, y_train)\n",
    "y_predicted = model.predict(X_test)\n",
    " \n",
    "mae = mean_absolute_error(y_test, y_predicted)\n",
    "print('MAE: %.3f' % mae)"
   ]
  },
  {
   "cell_type": "markdown",
   "metadata": {},
   "source": [
    "### <center> Вывод\n",
    "\n",
    "Обучение модели линейной регресси на первых трех признаках, отборанных на основе метода фильтрации (SelectKBest) дает резелттат метрики MAE: 4708,946. В то время как соответствующее обучение на вторых трех признаках, показало резульат метрики MAE: 8812.414. Такая большая разница подтверждает вывод о эффективности применения метода отбора признаков."
   ]
  }
 ],
 "metadata": {
  "interpreter": {
   "hash": "e7b67c4c70b37abe9a13cdef6d156c2045a2cb7d6c971e7027ad705fb56218cc"
  },
  "kernelspec": {
   "display_name": "Python 3.8.8 ('base')",
   "language": "python",
   "name": "python3"
  },
  "language_info": {
   "codemirror_mode": {
    "name": "ipython",
    "version": 3
   },
   "file_extension": ".py",
   "mimetype": "text/x-python",
   "name": "python",
   "nbconvert_exporter": "python",
   "pygments_lexer": "ipython3",
   "version": "3.8.8"
  },
  "orig_nbformat": 4
 },
 "nbformat": 4,
 "nbformat_minor": 2
}
