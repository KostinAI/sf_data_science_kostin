{
 "cells": [
  {
   "cell_type": "markdown",
   "metadata": {},
   "source": [
    "https://www.machinelearningmastery.ru/a-gentle-introduction-to-the-central-limit-theorem-for-machine-learning/ - о центральной предельной теореме"
   ]
  },
  {
   "cell_type": "markdown",
   "metadata": {},
   "source": [
    "### 1. Введение"
   ]
  },
  {
   "cell_type": "markdown",
   "metadata": {},
   "source": [
    "Метод A/B-тестирования может дать трезвую оценку результатов работы в реальных условиях бизнес-задачи. Также метод позволяет выявлять истинные потребности пользователей вашего приложения."
   ]
  },
  {
   "cell_type": "markdown",
   "metadata": {},
   "source": [
    "### 2. Суть и сферы применения A/B-тестирования"
   ]
  },
  {
   "cell_type": "markdown",
   "metadata": {},
   "source": [
    "Конверсия — отношение числа посетителей сайта, выполнивших на нём какие-либо целевые действия, к общему числу посетителей сайта, выраженное в долях или процентах. Под целевым действием можно подразумевать покупку товара, лайк или репост поста в Instagram, просмотр фильма на Кинопоиске и многое другое. "
   ]
  },
  {
   "cell_type": "markdown",
   "metadata": {},
   "source": [
    "- ГИПОТЕЗА И МЕТРИКА"
   ]
  },
  {
   "cell_type": "markdown",
   "metadata": {},
   "source": [
    "Исследование всегда начинается с выдвижения гипотезы. Напомним, гипотеза — это утверждение, предполагающее доказательство. \n",
    "\n",
    "При формировании гипотезы мы сразу высказываем предположение о том, как реализация проекта повлияет на метрики. \n",
    "\n",
    "Метрика — численное отображение целевого показателя. Это может быть значение конверсии, среднего чека, посещаемости заведения и так далее. Метрика позволяет нам от субъективных оценок «хорошо» и «плохо» перейти к конкретным числам. \n",
    "\n",
    "Пример составления гипотезы: Конкретное изменение X повлияет на метрику Y на Z единиц."
   ]
  },
  {
   "cell_type": "markdown",
   "metadata": {},
   "source": [
    "A/B-тестирование — это метод, пришедший к нам из маркетинга. Он заключается в сравнении текущей версии продукта (версии А) с его изменённой версией (версией B) на основании данных, полученных до введения обновления в продукт и после него. \n",
    "\n",
    "Текущую версию продукта (версию А)  называют контрольной версией.\n",
    "Новую версию продукта (версию B) называют тестовой версией. \n",
    "\n",
    "Метод основан на проверке статистической значимости результатов эксперимента и позволяет заранее задать границу уверенности в результатах исследования (уровень надёжности). "
   ]
  },
  {
   "cell_type": "markdown",
   "metadata": {},
   "source": [
    "- МЕХАНИЗМ A/B-ТЕСТИРОВАНИЯ"
   ]
  },
  {
   "cell_type": "markdown",
   "metadata": {},
   "source": [
    "A/B-тестирование и все производные от него (A/A, A/A/B, A/B/C) также принято называть сплит-тестами (от англ. split, разделять), что объясняется основополагающим принципом их проведения.\n",
    "\n",
    "Механика: Чтобы протестировать какую-либо гипотезу при помощи A/B-теста, аудиторию разделяют на две части: \n",
    "1. группа A продолжает использовать (видеть) старую версию продукта;\n",
    "2. группа B начинает использовать новую. "
   ]
  },
  {
   "cell_type": "markdown",
   "metadata": {},
   "source": [
    "- A/B-ТЕСТИРОВАНИЕ ML-МОДЕЛЕЙ"
   ]
  },
  {
   "cell_type": "markdown",
   "metadata": {},
   "source": [
    "### 3. Алгоритм, принципы и параметры A/B-тестирования"
   ]
  },
  {
   "cell_type": "markdown",
   "metadata": {},
   "source": [
    "при проведении A/B-тестирования очень важно соблюдать «правила безопасности»: тестирование необходимо проводить по определённым канонам, которые были разработаны на практике другими специалистами.\n",
    "\n",
    "из-за сильного отклонения от установленных правил существенно повышается вероятность совершить следующие типичные ошибки:\n",
    "\n",
    "Отвергнуть верную нулевую гипотезу — совершить ошибку I рода. Например, на основе полученных данных вы можете принять решение, что вариант А является более предпочтительным, хотя на самом деле вы произвели некорректное сравнение и вариант B всё же был лучшим. В таком случае вы теряете только время и деньги, потраченные на проведение A/B-тестирования.\n",
    "\n",
    "Принять неверную нулевую гипотезу — совершить ошибку II рода. Например, по результатам тестирования вы можете сделать вывод, что вариант продукта B лучше, чем вариант продукта А, однако такая разница была обусловлена лишь случайностью или внешними факторами. Совершить такую ошибку страшнее, чем ошибку I рода, так как, помимо денег и времени, потраченных на A/B-тестирование, вы ещё и зря тратите ресурсы на глобальную интеграцию варианта B, а его эффективность оказывается на уровне или даже хуже варианта A."
   ]
  },
  {
   "cell_type": "markdown",
   "metadata": {},
   "source": [
    "- АЛГОРИТМ A/B-ТЕСТИРОВАНИЯ\n",
    "\n",
    "https://lms.skillfactory.ru/assets/courseware/v1/0ac85229b4a452e030be206f8bec162a/asset-v1:SkillFactory+DSPR-2.0+14JULY2021+type@asset+block/dst-eda-5-4.png"
   ]
  },
  {
   "cell_type": "markdown",
   "metadata": {},
   "source": [
    "1. ОПРЕДЕЛЕНИЕ МЕТРИК И ВЫДВИЖЕНИЕ ГИПОТЕЗ\n",
    "\n",
    "При определении метрики важно соблюдать несколько правил:\n",
    "✔️ Метрика должна быть измерима, то есть должна иметь численное выражение, и у вас должна быть возможность как можно более точно измерить этот показатель.\n",
    "✔️ У вас есть возможность влиять на метрику.\n",
    "\n",
    "Как только мы определились с метрикой, мы выдвигаем гипотезу о том, что вариант продукта B увеличит (уменьшит) нашу метрику на Z единиц. Если вы выбрали несколько метрик, то количество выдвигаемых гипотез должно быть не меньше количества метрик.\n",
    "\n",
    "Как и к метрике, к гипотезе тоже есть свои требования:\n",
    "✔️ Гипотеза должна быть проверяемой, если предположение нельзя проверить, то это не гипотеза, а фантазия.\n",
    "✔️ Гипотеза должна не иметь логических противоречий.\n",
    "✔️ Должно быть понятно, на что влияет гипотеза, то есть она должна быть связана с конкретным показателем."
   ]
  },
  {
   "cell_type": "markdown",
   "metadata": {},
   "source": [
    "2. ПОДГОТОВКА К ТЕСТИРОВАНИЮ\n",
    "\n",
    "2.1. Определение размера выборки и длительности теста\n",
    "Размер выборки определяется с помощью специальных статистических методов, для которых реализовано множество онлайн-калькуляторов.\n",
    "Аналогично и с длительностью теста: чтобы быть уверенным в результатах тестирования, необходимо проводить тест на достаточном для этого отрезке времени. Длина данного временного отрезка также вычисляется с помощью статистических методов, и для этого есть специальные калькуляторы.\n",
    "\n",
    "2.2. Принятие решения о целесообразности проведения тестирования\n",
    "На этом шаге мы производим оценку наших ресурсов и отвечаем на примерно следующие вопросы:\n",
    "Хватит ли у нас ресурсов для проведения A/B-тестирования заданной длительности и с необходимым размером выборки?\n",
    "Окупится ли проведение A/B-тестирования при внедрении варианта B?\n",
    "Значителен ли предполагаемый эффект внедрения варианта продукта B для бизнеса?\n",
    "\n",
    "2.3. Разработка варианта B\n",
    "На этом этапе мы занимаемся проектированием, разработкой и внедрением нового варианта нашего продукта по заявленному техническому заданию. Для этого этапа могут быть привлечены внешние специалисты."
   ]
  },
  {
   "cell_type": "markdown",
   "metadata": {},
   "source": [
    "3. НАСТРОЙКА РАСПРЕДЕЛЕНИЯ НА ГРУППЫ\n",
    "\n",
    "Вы должны постараться сделать так, чтобы группы были максимально схожи по всем возможным признакам. Идеального результата добиться никогда не получится, однако нужно попытаться учесть как можно больше факторов. Если это необходимо, на этом этапе также проектируется место для хранения данных, возникающих в процессе проведения эксперимента."
   ]
  },
  {
   "cell_type": "markdown",
   "metadata": {},
   "source": [
    "4. ПРОВЕРКА КОРРЕКТНОСТИ ЭКСПЕРИМЕНТА\n",
    "\n",
    "На этом этапе мы проверяем, что все условия для проведения эксперимента работают корректно:\n",
    "\n",
    "группа А использует (видит) вариант продукта А, а группа B использует (видит) вариант продукта B;\n",
    "отсутствуют пересечения между этими группами;\n",
    "отсутствует внезапное влияние внешних факторов (не появляются неожиданные масштабные события, которые могут повлиять на результаты эксперимента);\n",
    "результаты централизованно поступают в подсистему хранения данных о процессе проведения эксперимента (если такая предусмотрена);\n",
    "другие специфичные условия."
   ]
  },
  {
   "cell_type": "markdown",
   "metadata": {},
   "source": [
    "5. СБОР РЕЗУЛЬТАТОВ\n",
    "\n",
    "Когда процесс тестирования доходит до своей финальной точки, нам необходимо выгрузить результаты: данные об изменении целевого показателя (метрики) на заданном промежутке времени."
   ]
  },
  {
   "cell_type": "markdown",
   "metadata": {},
   "source": [
    "6. АНАЛИЗ РЕЗУЛЬТАТОВ\n",
    "\n",
    "На этом этапе мы производим сравнение метрик в двух группах на основе собранных данных. Для этого могут использоваться методы визуализации и визуальное сравнение показателей («на глаз»).\n",
    "\n",
    "Однако, когда значимость разницы показателей неочевидна, то есть нельзя с большой долей уверенности сказать, какой вариант продукта (А или B) оказался «лучше», мы должны воспользоваться статистическими тестами. Они позволяют с заданным уровнем значимости ответить на вопрос: имеет ли статистическую значимость полученная разница в показателях или же она является случайной?\n",
    "\n",
    "Помимо статистических тестов, для анализа результатов часто используются доверительные интервалы, которые позволяют построить возможные границы для истинного значения метрики в группах и для разницы между показателями в группах."
   ]
  },
  {
   "cell_type": "markdown",
   "metadata": {},
   "source": [
    "7. ФОРМИРОВАНИЕ ВЫВОДОВ И ПРИНЯТИЕ РЕШЕНИЯ\n",
    "\n",
    "На основании анализа результатов A/B-тестирования мы принимаем или отклоняем первоначальную гипотезу и формируем один из трёх возможных выводов:\n",
    "\n",
    "Вариант продукта А является более эффективным (по заданной метрике), чем вариант B.\n",
    "Вариант продукта B является более эффективным (по заданной метрике), чем вариант А.\n",
    "Варианты А и B являются идентичными, то есть между ними нет разницы с точки зрения заданной метрики."
   ]
  },
  {
   "cell_type": "markdown",
   "metadata": {},
   "source": [
    "- ПРИНЦИПЫ A/B-ТЕСТИРОВАНИЯ"
   ]
  },
  {
   "cell_type": "markdown",
   "metadata": {},
   "source": [
    "ПРИНЦИП 1: ИСКЛЮЧИТЬ ВЛИЯНИЕ ИЗВНЕ\n",
    "\n",
    "Для качественного результата тестирования необходимо разделить группы так, чтобы пользователь, который попал в одну из групп, в течение всего теста находился только в ней. Если всё-таки оказалось так, что некоторые пользователи попали в обе группы теста, то нужно смотреть на их количество. Как правило, если их число невелико (менее 5-10 %), их исключают из анализа. Поэтому крайне важно правильно рассчитать длительность теста, чтобы накопить достаточное количество данных для принятия правильного решения!"
   ]
  },
  {
   "cell_type": "markdown",
   "metadata": {},
   "source": [
    "ПРИНЦИП 2: ДАННЫХ ДОЛЖНО БЫТЬ МНОГО\n",
    "\n",
    "Согласно закону больших чисел, чем больше раз повторяется эксперимент, тем ближе будет частота события к его вероятности."
   ]
  },
  {
   "cell_type": "markdown",
   "metadata": {},
   "source": [
    "ПРИНЦИП 3: ПРАВИЛЬНЫЙ ИНСТРУМЕНТ АНАЛИЗА\n",
    "\n",
    "Как мы уже говорили, проверка гипотез — статистический инструмент. Она позволяет судить о больших совокупностях по меньшим выборкам. По выборке мы можем судить о реальном среднем значении всей генеральной совокупности.\n",
    "Важно определиться с показателями, по которым производится сравнение в группах, и правильно выбрать статистические инструменты (тип теста и доверительного интервала) для проверки гипотезы.\n",
    "Также можно проводить множественные сравнения: когда аудитория делится не на две группы, а на большее количество, и каждая видит разные варианты. Такие исследования называют множественным тестированием, или A/B/C-тестированием"
   ]
  },
  {
   "cell_type": "markdown",
   "metadata": {},
   "source": [
    "- РАСЧЁТ ПАРАМЕТРОВ A/B-ТЕСТА"
   ]
  },
  {
   "cell_type": "markdown",
   "metadata": {},
   "source": [
    "Калькулятор Эвана-Миллера поможет определить размер выборки для задачи повышения конверсии в группах.\n",
    "https://www.evanmiller.org/ab-testing/sample-size.html\n",
    "\n",
    "На вход подаются такие параметры, как:\n",
    "Baseline Conversion Rate: базовая конверсия (конверсия существующего варианта);\n",
    "Minimum Detectable Effect: минимально желаемый результат изменения метрики (относительно базовой конверсии или абсолютный);\n",
    "Statistical Power 1−β: мощность теста (вероятность не допустить ошибку II рода);\n",
    "Significance Level α: уровень значимости (вероятность ошибки I рода).\n",
    "\n",
    "Задание 3.7\n",
    "Вы тестируете форму ввода личных данных клиента. В исходной версии клиент должен обязательно указать номер телефона, имя и адрес, а в новой версии обязательным для заполнения является только поле с номером телефона (имя и адрес можно не оставлять).\n",
    "Вам необходимо рассчитать размер выборки для A/B-теста сценария оформления заказа на сайте.\n",
    "\n",
    "У вас есть данные за год (365 дней). Вы знаете, что из 2 000 000 пользователей, которые открыли эту форму за год, 600 000 пользователей заполняли её.\n",
    "Вы ожидаете, что новая форма покажет минимальное увеличение конверсии относительно базовой в 5 %. Рассчитайте необходимый размер выборки при мощности теста в 80 % и уровне значимости в 5 %.\n",
    "Вычислите относительное значение показателя изменения метрики (опция Relative).\n",
    "Ответ: 14712"
   ]
  },
  {
   "cell_type": "markdown",
   "metadata": {},
   "source": [
    "Калькулятор VWO позволит рассчитать длительность теста для получения статистически значимого результата. Калькулятор используется для задач повышения конверсии.\n",
    "\n",
    "На вход подаются следующие данные:\n",
    "Estimated Existing Conversion Rate (%): базовый уровень конверсии;\n",
    "Minimum Improvement in Conversion Rate you want to detect (%): минимально желаемый результат изменения метрики;\n",
    "Number of Variations/Combinations (including control): общее количество групп в тесте;\n",
    "Average Number of Daily Visitors: среднее ожидаемое количество посетителей в день в обеих группах;\n",
    "Percent Visitors Included in Test: процент посетителей, включенных в тест.\n",
    "\n",
    "Задание 3.8\n",
    "Вы тестируете новую версию системы рекомендаций товаров. Версии сравниваются по конверсии действия «добавить товар в корзину».\n",
    "Вам необходимо рассчитать размер выборки для A/B-теста сценария оформления заказа на сайте.\n",
    "Вы знаете, что в среднем на сайт интернет-магазина заходит 6 000 пользователей. Из них в среднем 720 пользователей добавляют товар из рекомендуемых в корзину.\n",
    "Вы ожидаете, что новая рекомендательная система покажет минимальное увеличение конверсии относительно базовой в 5 %. В тестирование вовлечены все пользователи.\n",
    "Рассчитайте необходимую длительность A/B-теста и запишите количество дней.\n",
    "Ответ: 16."
   ]
  },
  {
   "cell_type": "markdown",
   "metadata": {},
   "source": [
    "### 4. Анализ результатов A/B-тестирования: кумулятивные метрики"
   ]
  },
  {
   "cell_type": "markdown",
   "metadata": {},
   "source": [
    "В качестве примера давайте попробуем решить задачу об анализе конверсии на некотором интернет-магазине, который занимается продажей различных товаров. "
   ]
  },
  {
   "cell_type": "markdown",
   "metadata": {},
   "source": [
    "- ОПИСАНИЕ ЗАДАЧИ\n",
    "\n",
    "Проводится A/B-тестирование для двух вариантов рекомендаций сопутствующих товаров в профиле товара некоторого интернет-магазина. \n",
    "\n",
    "Вариант 1. Дополнительные товары рекомендуются на основе статистических данных уже совершённых покупок — товары, которые другие пользователи часто покупают с основным. \n",
    "Вариант 2. Дополнительные товары рекомендуются на основе совершённых пользователем ранее покупок с помощью ML-модели.\n",
    "Варианты сравниваются по доле пользователей, которые добавляют хотя бы один из предложенных товаров в корзину (метрикой является конверсия действия «добавить в корзину сопутствующий товар»).\n",
    "\n",
    "Для этого пользователи были разделены на две группы. \n",
    "Контрольной (группе А) доступен первый вариант рекомендаций. Тестовой (группе B) доступен второй вариант. \n",
    "\n",
    "Предполагается, что все условия и принципы проведения A/B-теста были соблюдены, то есть:\n",
    "✔️ выборка имеет достаточный для принятия решения объём;\n",
    "✔️ выбран достаточный интервал времени для тестирования;\n",
    "✔️ группы максимально сбалансированы;\n",
    "✔️ внешнее вмешательство минимально."
   ]
  },
  {
   "cell_type": "markdown",
   "metadata": {},
   "source": [
    "- ЗНАКОМИМСЯ С ДАННЫМИ"
   ]
  },
  {
   "cell_type": "code",
   "execution_count": 2,
   "metadata": {},
   "outputs": [],
   "source": [
    "import pandas as pd\n",
    "import matplotlib.pyplot as plt\n",
    "import seaborn as sns"
   ]
  },
  {
   "cell_type": "code",
   "execution_count": 2,
   "metadata": {},
   "outputs": [],
   "source": [
    "ab_data = pd.read_csv('/home/aleksandr/Документы/GitHub/data/Magazine_data/ab_data.csv')"
   ]
  },
  {
   "cell_type": "code",
   "execution_count": 3,
   "metadata": {},
   "outputs": [
    {
     "data": {
      "text/html": [
       "<div>\n",
       "<style scoped>\n",
       "    .dataframe tbody tr th:only-of-type {\n",
       "        vertical-align: middle;\n",
       "    }\n",
       "\n",
       "    .dataframe tbody tr th {\n",
       "        vertical-align: top;\n",
       "    }\n",
       "\n",
       "    .dataframe thead th {\n",
       "        text-align: right;\n",
       "    }\n",
       "</style>\n",
       "<table border=\"1\" class=\"dataframe\">\n",
       "  <thead>\n",
       "    <tr style=\"text-align: right;\">\n",
       "      <th></th>\n",
       "      <th>user_id</th>\n",
       "      <th>timestamp</th>\n",
       "      <th>group</th>\n",
       "      <th>converted</th>\n",
       "    </tr>\n",
       "  </thead>\n",
       "  <tbody>\n",
       "    <tr>\n",
       "      <th>0</th>\n",
       "      <td>851104</td>\n",
       "      <td>2017-01-21</td>\n",
       "      <td>A</td>\n",
       "      <td>0</td>\n",
       "    </tr>\n",
       "    <tr>\n",
       "      <th>1</th>\n",
       "      <td>804228</td>\n",
       "      <td>2017-01-12</td>\n",
       "      <td>A</td>\n",
       "      <td>0</td>\n",
       "    </tr>\n",
       "  </tbody>\n",
       "</table>\n",
       "</div>"
      ],
      "text/plain": [
       "   user_id   timestamp group  converted\n",
       "0   851104  2017-01-21     A          0\n",
       "1   804228  2017-01-12     A          0"
      ]
     },
     "execution_count": 3,
     "metadata": {},
     "output_type": "execute_result"
    }
   ],
   "source": [
    "ab_data.head(2)"
   ]
  },
  {
   "cell_type": "markdown",
   "metadata": {},
   "source": [
    "user_id\tидентификатор пользователя, зашедшего на сайт\n",
    "timestamp\tдата события\n",
    "group\tгруппа теста (контрольная или тестовая)\n",
    "converted\tсовершил пользователь целевое действие (нажатие кнопки «добавить в корзину» на сопутствующем товаре) или нет. 1 — да, 0 — нет."
   ]
  },
  {
   "cell_type": "code",
   "execution_count": 4,
   "metadata": {},
   "outputs": [],
   "source": [
    "ab_data['timestamp'] = pd.to_datetime(ab_data['timestamp'], format='%Y-%m-%d')"
   ]
  },
  {
   "cell_type": "code",
   "execution_count": 13,
   "metadata": {},
   "outputs": [
    {
     "data": {
      "text/html": [
       "<div>\n",
       "<style scoped>\n",
       "    .dataframe tbody tr th:only-of-type {\n",
       "        vertical-align: middle;\n",
       "    }\n",
       "\n",
       "    .dataframe tbody tr th {\n",
       "        vertical-align: top;\n",
       "    }\n",
       "\n",
       "    .dataframe thead th {\n",
       "        text-align: right;\n",
       "    }\n",
       "</style>\n",
       "<table border=\"1\" class=\"dataframe\">\n",
       "  <thead>\n",
       "    <tr style=\"text-align: right;\">\n",
       "      <th></th>\n",
       "      <th>timestamp</th>\n",
       "      <th>group</th>\n",
       "      <th>users_count</th>\n",
       "      <th>converted</th>\n",
       "    </tr>\n",
       "  </thead>\n",
       "  <tbody>\n",
       "    <tr>\n",
       "      <th>0</th>\n",
       "      <td>2017-01-02</td>\n",
       "      <td>A</td>\n",
       "      <td>2851</td>\n",
       "      <td>357</td>\n",
       "    </tr>\n",
       "    <tr>\n",
       "      <th>1</th>\n",
       "      <td>2017-01-02</td>\n",
       "      <td>B</td>\n",
       "      <td>2848</td>\n",
       "      <td>339</td>\n",
       "    </tr>\n",
       "    <tr>\n",
       "      <th>2</th>\n",
       "      <td>2017-01-03</td>\n",
       "      <td>A</td>\n",
       "      <td>6584</td>\n",
       "      <td>749</td>\n",
       "    </tr>\n",
       "    <tr>\n",
       "      <th>3</th>\n",
       "      <td>2017-01-03</td>\n",
       "      <td>B</td>\n",
       "      <td>6620</td>\n",
       "      <td>754</td>\n",
       "    </tr>\n",
       "    <tr>\n",
       "      <th>4</th>\n",
       "      <td>2017-01-04</td>\n",
       "      <td>A</td>\n",
       "      <td>6573</td>\n",
       "      <td>797</td>\n",
       "    </tr>\n",
       "  </tbody>\n",
       "</table>\n",
       "</div>"
      ],
      "text/plain": [
       "   timestamp group  users_count  converted\n",
       "0 2017-01-02     A         2851        357\n",
       "1 2017-01-02     B         2848        339\n",
       "2 2017-01-03     A         6584        749\n",
       "3 2017-01-03     B         6620        754\n",
       "4 2017-01-04     A         6573        797"
      ]
     },
     "execution_count": 13,
     "metadata": {},
     "output_type": "execute_result"
    }
   ],
   "source": [
    "daily_data = ab_data.groupby(['timestamp','group']).agg({\n",
    "    'user_id':'count',\n",
    "    'converted':'sum'\n",
    "}).reset_index().rename(columns={'user_id': 'users_count'})\n",
    "daily_data.head()"
   ]
  },
  {
   "cell_type": "markdown",
   "metadata": {},
   "source": [
    "Для завершения этапа подготовки данных к анализу нам осталось рассчитать конверсию на каждый день проведения A/B-тестирования. Напомним: ежедневная конверсия рассчитывается как отношение числа посетителей сайта, выполнивших на нём какие-либо целевые действия в день, к ежедневному общему числу посетителей сайта, умноженная на 100 %"
   ]
  },
  {
   "cell_type": "markdown",
   "metadata": {},
   "source": [
    "Задание 4.1\n",
    "Рассчитайте конверсию на каждый день по приведённой формуле. Результат занесите в столбец conversion. Чему была равна конверсия (в процентах) в группе А 5 января 2017 года? Ответ округлите до второго знака после запятой."
   ]
  },
  {
   "cell_type": "code",
   "execution_count": 14,
   "metadata": {},
   "outputs": [],
   "source": [
    "daily_data['conversion'] = daily_data['converted']/daily_data['users_count']*100\n",
    "round(daily_data[(daily_data['timestamp'] == '2017-01-05') & (daily_data['group'] == 'A')]['conversion'], 2)"
   ]
  },
  {
   "cell_type": "code",
   "execution_count": 42,
   "metadata": {},
   "outputs": [
    {
     "data": {
      "text/html": [
       "<div>\n",
       "<style scoped>\n",
       "    .dataframe tbody tr th:only-of-type {\n",
       "        vertical-align: middle;\n",
       "    }\n",
       "\n",
       "    .dataframe tbody tr th {\n",
       "        vertical-align: top;\n",
       "    }\n",
       "\n",
       "    .dataframe thead th {\n",
       "        text-align: right;\n",
       "    }\n",
       "</style>\n",
       "<table border=\"1\" class=\"dataframe\">\n",
       "  <thead>\n",
       "    <tr style=\"text-align: right;\">\n",
       "      <th></th>\n",
       "      <th>timestamp</th>\n",
       "      <th>group</th>\n",
       "      <th>users_count</th>\n",
       "      <th>converted</th>\n",
       "      <th>conversion</th>\n",
       "    </tr>\n",
       "  </thead>\n",
       "  <tbody>\n",
       "    <tr>\n",
       "      <th>0</th>\n",
       "      <td>2017-01-02</td>\n",
       "      <td>A</td>\n",
       "      <td>2851</td>\n",
       "      <td>357</td>\n",
       "      <td>12.521922</td>\n",
       "    </tr>\n",
       "    <tr>\n",
       "      <th>1</th>\n",
       "      <td>2017-01-02</td>\n",
       "      <td>B</td>\n",
       "      <td>2848</td>\n",
       "      <td>339</td>\n",
       "      <td>11.903090</td>\n",
       "    </tr>\n",
       "  </tbody>\n",
       "</table>\n",
       "</div>"
      ],
      "text/plain": [
       "   timestamp group  users_count  converted  conversion\n",
       "0 2017-01-02     A         2851        357   12.521922\n",
       "1 2017-01-02     B         2848        339   11.903090"
      ]
     },
     "execution_count": 42,
     "metadata": {},
     "output_type": "execute_result"
    }
   ],
   "source": [
    "daily_data.head(2)"
   ]
  },
  {
   "cell_type": "markdown",
   "metadata": {},
   "source": [
    "- ВИЗУАЛЬНЫЙ АНАЛИЗ КОНВЕРСИИ В ГРУППАХ\n",
    "\n",
    "Давайте построим диаграмму boxplot для сравнения параметров распределения ежедневной конверсии по группам. "
   ]
  },
  {
   "cell_type": "code",
   "execution_count": 43,
   "metadata": {},
   "outputs": [
    {
     "data": {
      "image/png": "[encoded data removed]",
      "text/plain": [
       "<Figure size 576x288 with 1 Axes>"
      ]
     },
     "metadata": {
      "needs_background": "light"
     },
     "output_type": "display_data"
    }
   ],
   "source": [
    "# создаём фигуру размером 8x4\n",
    "fig = plt.figure(figsize=(8, 4)) \n",
    "# добавляем систему координат\n",
    "ax = fig.add_axes([1, 1, 1, 1]) \n",
    "# строим boxplot для conversion по признаку group\n",
    "sns.boxplot(data=daily_data, x='conversion', y='group', ax=ax) \n",
    "# задаём подпись к графику\n",
    "ax.set_title('Сравнение конверсии в группах')\n",
    "# задаём отображение сетки\n",
    "ax.grid();"
   ]
  },
  {
   "cell_type": "markdown",
   "metadata": {},
   "source": [
    "Примечание. Прежде чем делать выводы по визуальному представлению данных, всегда обращайте внимание на численные значения показателей. Они могут различаться в масштабе графика, но на практике разница между ними не будет иметь значения. Также всегда стоит убедиться, что в данных нет выбросов (базовый вариант — сравнить медиану и среднее между собой). Далее мы ещё поговорим о стабилизации показателя во времени."
   ]
  },
  {
   "cell_type": "code",
   "execution_count": 50,
   "metadata": {},
   "outputs": [
    {
     "data": {
      "text/html": [
       "<div>\n",
       "<style scoped>\n",
       "    .dataframe tbody tr th:only-of-type {\n",
       "        vertical-align: middle;\n",
       "    }\n",
       "\n",
       "    .dataframe tbody tr th {\n",
       "        vertical-align: top;\n",
       "    }\n",
       "\n",
       "    .dataframe thead th {\n",
       "        text-align: right;\n",
       "    }\n",
       "</style>\n",
       "<table border=\"1\" class=\"dataframe\">\n",
       "  <thead>\n",
       "    <tr style=\"text-align: right;\">\n",
       "      <th></th>\n",
       "      <th>group</th>\n",
       "      <th>mean</th>\n",
       "      <th>median</th>\n",
       "    </tr>\n",
       "  </thead>\n",
       "  <tbody>\n",
       "    <tr>\n",
       "      <th>0</th>\n",
       "      <td>A</td>\n",
       "      <td>12.032876</td>\n",
       "      <td>12.024261</td>\n",
       "    </tr>\n",
       "    <tr>\n",
       "      <th>1</th>\n",
       "      <td>B</td>\n",
       "      <td>11.872697</td>\n",
       "      <td>11.829582</td>\n",
       "    </tr>\n",
       "  </tbody>\n",
       "</table>\n",
       "</div>"
      ],
      "text/plain": [
       "  group       mean     median\n",
       "0     A  12.032876  12.024261\n",
       "1     B  11.872697  11.829582"
      ]
     },
     "execution_count": 50,
     "metadata": {},
     "output_type": "execute_result"
    }
   ],
   "source": [
    "conversion_piv = daily_data.groupby('group')['conversion'].agg(\n",
    "    ['mean', 'median']\n",
    ").reset_index()\n",
    "conversion_piv"
   ]
  },
  {
   "cell_type": "markdown",
   "metadata": {},
   "source": [
    "Из полученной таблицы видно, что медиана и среднее в каждой группе практически совпадают. При этом разница между показателями в группах менее 0.3 %! \n",
    "Возникает вопрос: а значима ли вообще такая разница в показателях или она обусловлена случайностью, и варианты A и B одинаково эффективны по метрике конверсии?\n",
    "\n",
    "Прежде чем отвечать на этот вопрос, нам нужен ответ на другой вопрос: а стабилен ли показатель конверсии в группах во времени или он колеблется как «уж на сковородке»? \n",
    "\n",
    "Примечание. Вопрос о стабильности метрик является обязательным. Прогонять результаты через статистические тесты можно только после того, как вы убедитесь, что разница в ваших показателях стабилизировалась во времени. Это связано с проблемой подглядывания, речь о которой пойдёт ниже."
   ]
  },
  {
   "cell_type": "markdown",
   "metadata": {},
   "source": [
    "- КУМУЛЯТИВНЫЕ МЕТРИКИ\n",
    "\n",
    "Кумулятивная метрика — это отображение целевой метрики, когда вы отслеживаете её поведение за каждый день — накопленным итогом по дням. \n",
    "\n",
    "в A/B-тестировании: с самого начала любой из вариантов может показывать лучшие результаты, и статистическая значимость может быть достигнута уже в первые дни теста. Это явление называется проблемой подглядывания.\n",
    "Важно! Не стоит торопиться: как минимум дождитесь накопления запланированных объёмов выборки и длительности теста. Но и тут не стоит заканчивать тест — проверьте, стабилизировались ли метрики!\n",
    "\n",
    "То есть в начале теста любой полученный за день результат будет оказывать сильное влияние на результат теста. Но со временем данные будут накапливаться, и доля получаемых за день данных будет всё меньше и меньше воздействовать на уже накопленный результат. \n",
    "\n",
    "Примерный график:\n",
    "https://lms.skillfactory.ru/assets/courseware/v1/fde294a0331aca21aaa425f878fdfcd3/asset-v1:SkillFactory+DSPR-2.0+14JULY2021+type@asset+block/dst-eda-5-19.png\n",
    "\n",
    "Примечание. Кумулятивная метрика считается стабилизированной, когда на графике прекращаются резкие пики и спады показателя, и линия постепенно выравнивается в прямую. Важно! Принимать какие-либо решения стоит только после того, как метрика стабилизируется!\n",
    "\n",
    "Примечание. В качестве кумулятивной метрики можно считать не только конверсию, но и выручку, средний чек, количество заказов, процент негативных комментариев, точность модели и так далее."
   ]
  },
  {
   "cell_type": "code",
   "execution_count": 52,
   "metadata": {},
   "outputs": [
    {
     "data": {
      "image/png": "[encoded data removed]",
      "text/plain": [
       "<Figure size 576x288 with 1 Axes>"
      ]
     },
     "metadata": {
      "needs_background": "light"
     },
     "output_type": "display_data"
    }
   ],
   "source": [
    "# создаём фигуру размером 8x4\n",
    "fig = plt.figure(figsize=(8, 4))\n",
    "# добавляем систему координат\n",
    "ax = fig.add_axes([1, 1, 1, 1])\n",
    "# строим lineplot для конверсии во времени в каждой группе\n",
    "sns.lineplot(\n",
    "    data=daily_data,\n",
    "    x='timestamp',\n",
    "    y='conversion',\n",
    "    hue='group', \n",
    "    ax=ax\n",
    ")\n",
    "# задаём подпись к графику\n",
    "ax.set_title('График конверсии по дням')\n",
    "# задаём поворот меток на оси абсцисс\n",
    "ax.xaxis.set_tick_params(rotation=45)\n",
    "# задаём отображение сетки\n",
    "ax.grid();"
   ]
  },
  {
   "cell_type": "markdown",
   "metadata": {},
   "source": [
    "Что можно сказать по такому графику? Да практически ничего! Конверсия у обеих групп «скачет» день ото дня. \n",
    "Для расчёта кумулятивного показателя суммы в Pandas есть специальный метод cumsum()\n",
    "То есть кумулятивная сумма — это накопительная сумма; каждое её значение — это результат сложения показателя за предыдущие дни с показателем за текущий день. "
   ]
  },
  {
   "cell_type": "code",
   "execution_count": 53,
   "metadata": {},
   "outputs": [
    {
     "name": "stderr",
     "output_type": "stream",
     "text": [
      "/home/aleksandr/anaconda3/lib/python3.8/site-packages/pandas/core/indexing.py:1597: SettingWithCopyWarning: \n",
      "A value is trying to be set on a copy of a slice from a DataFrame.\n",
      "Try using .loc[row_indexer,col_indexer] = value instead\n",
      "\n",
      "See the caveats in the documentation: https://pandas.pydata.org/pandas-docs/stable/user_guide/indexing.html#returning-a-view-versus-a-copy\n",
      "  self.obj[key] = value\n",
      "/home/aleksandr/anaconda3/lib/python3.8/site-packages/pandas/core/indexing.py:1676: SettingWithCopyWarning: \n",
      "A value is trying to be set on a copy of a slice from a DataFrame.\n",
      "Try using .loc[row_indexer,col_indexer] = value instead\n",
      "\n",
      "See the caveats in the documentation: https://pandas.pydata.org/pandas-docs/stable/user_guide/indexing.html#returning-a-view-versus-a-copy\n",
      "  self._setitem_single_column(ilocs[0], value, pi)\n"
     ]
    },
    {
     "data": {
      "text/html": [
       "<div>\n",
       "<style scoped>\n",
       "    .dataframe tbody tr th:only-of-type {\n",
       "        vertical-align: middle;\n",
       "    }\n",
       "\n",
       "    .dataframe tbody tr th {\n",
       "        vertical-align: top;\n",
       "    }\n",
       "\n",
       "    .dataframe thead th {\n",
       "        text-align: right;\n",
       "    }\n",
       "</style>\n",
       "<table border=\"1\" class=\"dataframe\">\n",
       "  <thead>\n",
       "    <tr style=\"text-align: right;\">\n",
       "      <th></th>\n",
       "      <th>timestamp</th>\n",
       "      <th>users_count</th>\n",
       "      <th>cum_users_count</th>\n",
       "    </tr>\n",
       "  </thead>\n",
       "  <tbody>\n",
       "    <tr>\n",
       "      <th>0</th>\n",
       "      <td>2017-01-02</td>\n",
       "      <td>2851</td>\n",
       "      <td>2851</td>\n",
       "    </tr>\n",
       "    <tr>\n",
       "      <th>2</th>\n",
       "      <td>2017-01-03</td>\n",
       "      <td>6584</td>\n",
       "      <td>9435</td>\n",
       "    </tr>\n",
       "    <tr>\n",
       "      <th>4</th>\n",
       "      <td>2017-01-04</td>\n",
       "      <td>6573</td>\n",
       "      <td>16008</td>\n",
       "    </tr>\n",
       "    <tr>\n",
       "      <th>6</th>\n",
       "      <td>2017-01-05</td>\n",
       "      <td>6419</td>\n",
       "      <td>22427</td>\n",
       "    </tr>\n",
       "    <tr>\n",
       "      <th>8</th>\n",
       "      <td>2017-01-06</td>\n",
       "      <td>6604</td>\n",
       "      <td>29031</td>\n",
       "    </tr>\n",
       "  </tbody>\n",
       "</table>\n",
       "</div>"
      ],
      "text/plain": [
       "   timestamp  users_count  cum_users_count\n",
       "0 2017-01-02         2851             2851\n",
       "2 2017-01-03         6584             9435\n",
       "4 2017-01-04         6573            16008\n",
       "6 2017-01-05         6419            22427\n",
       "8 2017-01-06         6604            29031"
      ]
     },
     "metadata": {},
     "output_type": "display_data"
    }
   ],
   "source": [
    "# выделяем данные группы А\n",
    "daily_data_a = daily_data[daily_data['group'] == 'A']\n",
    "# считаем кумулятивное количество посетителей\n",
    "daily_data_a.loc[:, 'cum_users_count'] = daily_data_a['users_count'].cumsum()\n",
    "# выводим время, количество посетителей и кумулятивное количество посетителей\n",
    "display(daily_data_a[['timestamp', 'users_count', 'cum_users_count']].head())"
   ]
  },
  {
   "cell_type": "markdown",
   "metadata": {},
   "source": [
    "рассчитаем кумулятивную конверсию — это отношение ежедневной кумулятивной суммы количества совершённых целевых действий к ежедневной кумулятивной сумме количества посетителей:"
   ]
  },
  {
   "cell_type": "code",
   "execution_count": 55,
   "metadata": {},
   "outputs": [
    {
     "data": {
      "text/html": [
       "<div>\n",
       "<style scoped>\n",
       "    .dataframe tbody tr th:only-of-type {\n",
       "        vertical-align: middle;\n",
       "    }\n",
       "\n",
       "    .dataframe tbody tr th {\n",
       "        vertical-align: top;\n",
       "    }\n",
       "\n",
       "    .dataframe thead th {\n",
       "        text-align: right;\n",
       "    }\n",
       "</style>\n",
       "<table border=\"1\" class=\"dataframe\">\n",
       "  <thead>\n",
       "    <tr style=\"text-align: right;\">\n",
       "      <th></th>\n",
       "      <th>timestamp</th>\n",
       "      <th>group</th>\n",
       "      <th>users_count</th>\n",
       "      <th>converted</th>\n",
       "      <th>conversion</th>\n",
       "      <th>cum_users_count</th>\n",
       "      <th>cum_converted</th>\n",
       "      <th>cum_conversion</th>\n",
       "    </tr>\n",
       "  </thead>\n",
       "  <tbody>\n",
       "    <tr>\n",
       "      <th>0</th>\n",
       "      <td>2017-01-02</td>\n",
       "      <td>A</td>\n",
       "      <td>2851</td>\n",
       "      <td>357</td>\n",
       "      <td>12.521922</td>\n",
       "      <td>2851</td>\n",
       "      <td>357</td>\n",
       "      <td>12.521922</td>\n",
       "    </tr>\n",
       "    <tr>\n",
       "      <th>1</th>\n",
       "      <td>2017-01-02</td>\n",
       "      <td>B</td>\n",
       "      <td>2848</td>\n",
       "      <td>339</td>\n",
       "      <td>11.903090</td>\n",
       "      <td>2848</td>\n",
       "      <td>339</td>\n",
       "      <td>11.903090</td>\n",
       "    </tr>\n",
       "    <tr>\n",
       "      <th>2</th>\n",
       "      <td>2017-01-03</td>\n",
       "      <td>A</td>\n",
       "      <td>6584</td>\n",
       "      <td>749</td>\n",
       "      <td>11.376063</td>\n",
       "      <td>9435</td>\n",
       "      <td>1106</td>\n",
       "      <td>11.722311</td>\n",
       "    </tr>\n",
       "    <tr>\n",
       "      <th>3</th>\n",
       "      <td>2017-01-03</td>\n",
       "      <td>B</td>\n",
       "      <td>6620</td>\n",
       "      <td>754</td>\n",
       "      <td>11.389728</td>\n",
       "      <td>9468</td>\n",
       "      <td>1093</td>\n",
       "      <td>11.544149</td>\n",
       "    </tr>\n",
       "    <tr>\n",
       "      <th>4</th>\n",
       "      <td>2017-01-04</td>\n",
       "      <td>A</td>\n",
       "      <td>6573</td>\n",
       "      <td>797</td>\n",
       "      <td>12.125361</td>\n",
       "      <td>16008</td>\n",
       "      <td>1903</td>\n",
       "      <td>11.887806</td>\n",
       "    </tr>\n",
       "  </tbody>\n",
       "</table>\n",
       "</div>"
      ],
      "text/plain": [
       "   timestamp group  users_count  converted  conversion  cum_users_count  \\\n",
       "0 2017-01-02     A         2851        357   12.521922             2851   \n",
       "1 2017-01-02     B         2848        339   11.903090             2848   \n",
       "2 2017-01-03     A         6584        749   11.376063             9435   \n",
       "3 2017-01-03     B         6620        754   11.389728             9468   \n",
       "4 2017-01-04     A         6573        797   12.125361            16008   \n",
       "\n",
       "   cum_converted  cum_conversion  \n",
       "0            357       12.521922  \n",
       "1            339       11.903090  \n",
       "2           1106       11.722311  \n",
       "3           1093       11.544149  \n",
       "4           1903       11.887806  "
      ]
     },
     "metadata": {},
     "output_type": "display_data"
    }
   ],
   "source": [
    "# вычисляем кумулятивную сумму количества посетителей\n",
    "daily_data['cum_users_count'] = daily_data.groupby(['group'])['users_count'].cumsum()\n",
    "# вычисляем кумулятивную сумму количества совершённых целевых действий\n",
    "daily_data['cum_converted'] = daily_data.groupby(['group'])['converted'].cumsum()\n",
    "# вычисляем кумулятивную конверсию\n",
    "daily_data['cum_conversion'] = daily_data['cum_converted']/daily_data['cum_users_count'] * 100\n",
    "display(daily_data.head())"
   ]
  },
  {
   "cell_type": "code",
   "execution_count": 56,
   "metadata": {},
   "outputs": [
    {
     "data": {
      "image/png": "[encoded data removed]",
      "text/plain": [
       "<Figure size 576x288 with 1 Axes>"
      ]
     },
     "metadata": {
      "needs_background": "light"
     },
     "output_type": "display_data"
    }
   ],
   "source": [
    "# создаём фигуру размером 8x4\n",
    "fig = plt.figure(figsize=(8, 4))\n",
    "# добавляем систему координат\n",
    "ax = fig.add_axes([1, 1, 1, 1])\n",
    "# строим lineplot для кумулятивной конверсии во времени в каждой группе\n",
    "sns.lineplot(x='timestamp', y='cum_conversion', data=daily_data, hue='group', ax=ax)\n",
    "# задаём подпись к графику\n",
    "ax.set_title('График кумулятивной конверсии по дням')\n",
    "# задаём поворот меток на оси абсцисс\n",
    "ax.xaxis.set_tick_params(rotation = 45)\n",
    "# задаём отображение сетки\n",
    "ax.grid(True);"
   ]
  },
  {
   "cell_type": "markdown",
   "metadata": {},
   "source": [
    "Что можно сказать теперь? До 2017-01-09 конверсия была нестабильна, но после 2017-11-01 резкие скачки прекратились (кривая графика переходит в прямую). Судя по графику, конверсия группы B стабильно хуже конверсии группы А на всём промежутке времени. На основании стабилизированного кумулятивного графика мы можем сделать вывод, что длительность эксперимента была достаточной для того, чтобы судить о статистической значимости разности между показателем конверсии в группах."
   ]
  },
  {
   "cell_type": "markdown",
   "metadata": {},
   "source": [
    "- ВВОДНЫЕ ДАННЫЕ ДЛЯ ЗАДАЧ 4.6–4.9"
   ]
  },
  {
   "cell_type": "markdown",
   "metadata": {},
   "source": [
    "Каждая таблица имеет следующие поля:\n",
    "\n",
    "date — дата наблюдения;\n",
    "cid — идентификатор посетителя;\n",
    "transactions — количество совершённых целевых действий (транзакций);\n",
    "revenue — сумма покупки;\n",
    "group — группа (тестовая — А, контрольная — B)."
   ]
  },
  {
   "cell_type": "code",
   "execution_count": 30,
   "metadata": {},
   "outputs": [],
   "source": [
    "sample_a = pd.read_csv('/home/aleksandr/Документы/GitHub/data/Magazine_data/ab_test-redesign_sample_a.csv')\n",
    "sample_b = pd.read_csv('/home/aleksandr/Документы/GitHub/data/Magazine_data/ab_test-redesign_sample_b.csv')"
   ]
  },
  {
   "cell_type": "markdown",
   "metadata": {},
   "source": [
    "Задание 4.6\n",
    "Постройте таблицу со следующими ежедневными показателями:\n",
    "количество посетителей сайта;\n",
    "суммарное число транзакций;\n",
    "общая сумма покупок (выручка).\n",
    "Для этого сгруппируйте данные по признаку date, предварительно преобразовав его к типу datetime.\n",
    "\n",
    "Чему равны значения ежедневных показателей в группе А на 8 ноября 2021 года?"
   ]
  },
  {
   "cell_type": "code",
   "execution_count": 71,
   "metadata": {},
   "outputs": [],
   "source": [
    "sample_ab=pd.concat([sample_a, sample_b])\n",
    "\n",
    "sample_ab['date'] = pd.to_datetime(sample_ab['date'], format='%Y-%m-%d')\n",
    "sample_ab_data = sample_ab.groupby(['date','group']).agg({\n",
    "    'cid': 'count',\n",
    "    'transactions': 'sum',\n",
    "    'revenue': 'sum'\n",
    "}).reset_index().rename(columns={'cid': 'user_count', 'transactions': 'sum_transactions', 'revenue': 'sum_revenue'})"
   ]
  },
  {
   "cell_type": "code",
   "execution_count": 73,
   "metadata": {},
   "outputs": [
    {
     "data": {
      "text/html": [
       "<div>\n",
       "<style scoped>\n",
       "    .dataframe tbody tr th:only-of-type {\n",
       "        vertical-align: middle;\n",
       "    }\n",
       "\n",
       "    .dataframe tbody tr th {\n",
       "        vertical-align: top;\n",
       "    }\n",
       "\n",
       "    .dataframe thead th {\n",
       "        text-align: right;\n",
       "    }\n",
       "</style>\n",
       "<table border=\"1\" class=\"dataframe\">\n",
       "  <thead>\n",
       "    <tr style=\"text-align: right;\">\n",
       "      <th></th>\n",
       "      <th>date</th>\n",
       "      <th>group</th>\n",
       "      <th>user_count</th>\n",
       "      <th>sum_transactions</th>\n",
       "      <th>sum_revenue</th>\n",
       "    </tr>\n",
       "  </thead>\n",
       "  <tbody>\n",
       "    <tr>\n",
       "      <th>4</th>\n",
       "      <td>2020-11-08</td>\n",
       "      <td>A</td>\n",
       "      <td>3354</td>\n",
       "      <td>25</td>\n",
       "      <td>846051</td>\n",
       "    </tr>\n",
       "    <tr>\n",
       "      <th>5</th>\n",
       "      <td>2020-11-08</td>\n",
       "      <td>B</td>\n",
       "      <td>3291</td>\n",
       "      <td>24</td>\n",
       "      <td>3044842</td>\n",
       "    </tr>\n",
       "  </tbody>\n",
       "</table>\n",
       "</div>"
      ],
      "text/plain": [
       "        date group  user_count  sum_transactions  sum_revenue\n",
       "4 2020-11-08     A        3354                25       846051\n",
       "5 2020-11-08     B        3291                24      3044842"
      ]
     },
     "execution_count": 73,
     "metadata": {},
     "output_type": "execute_result"
    }
   ],
   "source": [
    "sample_ab_data[sample_ab_data['date']=='2020-11-08']"
   ]
  },
  {
   "cell_type": "markdown",
   "metadata": {},
   "source": [
    "Задание 4.7\n",
    "Добавьте в каждую из таблиц кумулятивные метрики:\n",
    "кумулятивное количество посетителей сайта;\n",
    "кумулятивное суммарное число транзакций;\n",
    "кумулятивная общая сумма покупок (кумулятивная выручка).\n",
    "Рассчитайте кумулятивную конверсию действия покупки (в процентах) и кумулятивный средний чек (кумулятивная выручка/кумулятивное суммарное число транзакций).\n",
    "Чему равна средняя кумулятивная конверсия в группах за весь период проведения A/B-теста? Ответ округлите до сотых, знаки процентов не вводите."
   ]
  },
  {
   "cell_type": "code",
   "execution_count": 74,
   "metadata": {},
   "outputs": [],
   "source": [
    "sample_ab_data['cum_user_count'] = sample_ab_data.groupby(['group'])['user_count'].cumsum()\n",
    "sample_ab_data['cum_sum_transactions'] = sample_ab_data.groupby(['group'])['sum_transactions'].cumsum()\n",
    "sample_ab_data['cum_sum_revenue'] = sample_ab_data.groupby(['group'])['sum_revenue'].cumsum()\n",
    "# вычисляем кумулятивную конверсию\n",
    "sample_ab_data['cum_conversion_transactions'] = sample_ab_data['cum_sum_transactions']/sample_ab_data['cum_user_count'] * 100\n",
    "sample_ab_data['cum_average_check'] = sample_ab_data['cum_sum_revenue']/sample_ab_data['cum_sum_transactions']"
   ]
  },
  {
   "cell_type": "code",
   "execution_count": 77,
   "metadata": {},
   "outputs": [
    {
     "data": {
      "text/plain": [
       "group\n",
       "A    0.71\n",
       "B    0.76\n",
       "Name: cum_conversion_transactions, dtype: float64"
      ]
     },
     "execution_count": 77,
     "metadata": {},
     "output_type": "execute_result"
    }
   ],
   "source": [
    "round(sample_ab_data.groupby(['group'])['cum_conversion_transactions'].mean(), 2)"
   ]
  },
  {
   "cell_type": "markdown",
   "metadata": {},
   "source": [
    "Задание 4.8\n",
    "Постройте графики кумулятивной конверсии в каждой группе. Какие выводы по ним вы можете сделать?"
   ]
  },
  {
   "cell_type": "code",
   "execution_count": 79,
   "metadata": {},
   "outputs": [
    {
     "data": {
      "image/png": "[encoded data removed]",
      "text/plain": [
       "<Figure size 576x288 with 1 Axes>"
      ]
     },
     "metadata": {
      "needs_background": "light"
     },
     "output_type": "display_data"
    }
   ],
   "source": [
    "# создаём фигуру размером 8x4\n",
    "fig = plt.figure(figsize=(8, 4))\n",
    "# добавляем систему координат\n",
    "ax = fig.add_axes([1, 1, 1, 1])\n",
    "# строим lineplot для кумулятивной конверсии во времени в каждой группе\n",
    "sns.lineplot(x='date', y='cum_conversion_transactions', data=sample_ab_data, hue='group', ax=ax)\n",
    "# задаём подпись к графику\n",
    "ax.set_title('График кумулятивной конверсии по дням')\n",
    "# задаём поворот меток на оси абсцисс\n",
    "ax.xaxis.set_tick_params(rotation = 45)\n",
    "# задаём отображение сетки\n",
    "ax.grid(True);"
   ]
  },
  {
   "cell_type": "markdown",
   "metadata": {},
   "source": [
    "Начиная с 9 ноября 2020 года конверсии в группах имеют приблизительно идентичное поведение (одинаковые точки роста и спада). При этом конверсия в группе B стабильно выше конверсии в группе A на данном периоде."
   ]
  },
  {
   "cell_type": "markdown",
   "metadata": {},
   "source": [
    "Задание 4.9\n",
    "Постройте графики кумулятивного среднего чека в каждой группе. Какие выводы по ним вы можете сделать?"
   ]
  },
  {
   "cell_type": "code",
   "execution_count": 80,
   "metadata": {},
   "outputs": [
    {
     "data": {
      "image/png": "[encoded data removed]",
      "text/plain": [
       "<Figure size 576x288 with 1 Axes>"
      ]
     },
     "metadata": {
      "needs_background": "light"
     },
     "output_type": "display_data"
    }
   ],
   "source": [
    "# создаём фигуру размером 8x4\n",
    "fig = plt.figure(figsize=(8, 4))\n",
    "# добавляем систему координат\n",
    "ax = fig.add_axes([1, 1, 1, 1])\n",
    "# строим lineplot для кумулятивной конверсии во времени в каждой группе\n",
    "sns.lineplot(x='date', y='cum_average_check', data=sample_ab_data, hue='group', ax=ax)\n",
    "# задаём подпись к графику\n",
    "ax.set_title('График среднего чека по дням')\n",
    "# задаём поворот меток на оси абсцисс\n",
    "ax.xaxis.set_tick_params(rotation = 45)\n",
    "# задаём отображение сетки\n",
    "ax.grid(True);"
   ]
  },
  {
   "cell_type": "markdown",
   "metadata": {},
   "source": [
    "### 5. Анализ результатов A/B-тестирования: статистические тесты"
   ]
  },
  {
   "cell_type": "markdown",
   "metadata": {},
   "source": [
    "Суть статистических тестов заключается в том, чтобы удостовериться в справедливости некоторой гипотезы или опровергнуть её на основе предоставленных данных (выборки)."
   ]
  },
  {
   "cell_type": "markdown",
   "metadata": {},
   "source": [
    "- СТАТИСТИЧЕСКИЙ ТЕСТ ДЛЯ КОНВЕРСИИ\n",
    "\n",
    "Оказывается, интересующий нас признак того, осуществлена конверсия пользователя или нет, — это случайная величина, имеющая распределение Бернулли. Такая случайная величина имеет два возможных исхода: \n",
    "\n",
    "успех (1) — пользователь осуществил конверсию (совершил целевое действие); \n",
    "неуспех (0) — пользователь не осуществил конверсию. \n",
    "\n",
    "истинная конверсия — вероятность «успеха» (традиционно обозначают как \\(p\\))\n",
    "\n",
    "Для проверки гипотезы равенства пропорций мы можем воспользоваться уже знакомым нам z-критерием для пропорций. Этот критерий является наиболее популярным для задачи определения статистической значимости изменения конверсии.\n",
    "\n",
    "Нулевая гипотеза нашего теста всегда будет звучать следующим образом:\n",
    "\n",
    "H0: Pa=Pb то есть истинные пропорции в группах равны.\n",
    "А вот альтернативных может быть несколько:\n",
    "\n",
    "H1: Pa != Pb, то есть истинные пропорции в группах не равны.\n",
    "H1: Pa < Pb, то есть истинная пропорция группы А меньше, чем в группе B.\n",
    "H1: Pa > Pb, то есть истинная пропорция группы А больше, чем в группе B."
   ]
  },
  {
   "cell_type": "code",
   "execution_count": 5,
   "metadata": {},
   "outputs": [],
   "source": [
    "#Применим z-тест для пропорций на примере конверсии нашего интернет-магазина. \n",
    "from statsmodels.stats.proportion import proportions_ztest"
   ]
  },
  {
   "cell_type": "markdown",
   "metadata": {},
   "source": [
    "Напомним, что для получения z-статистики и p-value нам необходимо передать в функцию следующие аргументы:\n",
    "\n",
    "count — количество «успехов» (в каждой из групп). В нашем случае — количество пользователей, которые совершили целевое действие в каждой группе.\n",
    "nobs — количество наблюдений (в каждой из групп), то есть размер выборки.\n",
    "alternative — альтернативная гипотеза. Может быть: 'two-sided' — двусторонняя, 'smaller' — левосторонняя, 'larger' — правосторонняя. По умолчанию параметр равен 'two-sided'. "
   ]
  },
  {
   "cell_type": "code",
   "execution_count": 8,
   "metadata": {},
   "outputs": [
    {
     "data": {
      "text/html": [
       "<div>\n",
       "<style scoped>\n",
       "    .dataframe tbody tr th:only-of-type {\n",
       "        vertical-align: middle;\n",
       "    }\n",
       "\n",
       "    .dataframe tbody tr th {\n",
       "        vertical-align: top;\n",
       "    }\n",
       "\n",
       "    .dataframe thead th {\n",
       "        text-align: right;\n",
       "    }\n",
       "</style>\n",
       "<table border=\"1\" class=\"dataframe\">\n",
       "  <thead>\n",
       "    <tr style=\"text-align: right;\">\n",
       "      <th></th>\n",
       "      <th>group</th>\n",
       "      <th>sum</th>\n",
       "      <th>count</th>\n",
       "    </tr>\n",
       "  </thead>\n",
       "  <tbody>\n",
       "    <tr>\n",
       "      <th>0</th>\n",
       "      <td>A</td>\n",
       "      <td>17467</td>\n",
       "      <td>145241</td>\n",
       "    </tr>\n",
       "    <tr>\n",
       "      <th>1</th>\n",
       "      <td>B</td>\n",
       "      <td>17238</td>\n",
       "      <td>145241</td>\n",
       "    </tr>\n",
       "  </tbody>\n",
       "</table>\n",
       "</div>"
      ],
      "text/plain": [
       "  group    sum   count\n",
       "0     A  17467  145241\n",
       "1     B  17238  145241"
      ]
     },
     "metadata": {},
     "output_type": "display_data"
    }
   ],
   "source": [
    "converted_piv= ab_data.groupby('group')['converted'].agg(\n",
    "    ['sum', 'count']\n",
    ").reset_index()\n",
    "display(converted_piv)"
   ]
  },
  {
   "cell_type": "markdown",
   "metadata": {},
   "source": [
    "Теперь у нас с вами есть всё для того, чтобы проверить гипотезу о равенстве конверсий. \n",
    "\n",
    "Итак, будем проверять следующую новую гипотезу:\n",
    "\n",
    "H0: Pa=Pb, то есть конверсии в группах А и B равны.\n",
    "При правосторонней альтернативной гипотезе:\n",
    "\n",
    "H1: Pa>Pb, то есть конверсия в группе А выше, чем конверсия в группе B.\n",
    "\n",
    "Зададим уровень значимости Alpha = 0.05 и будем сравнивать полученное p-value с ним. По умолчанию функция proportions_ztest() возвращает z-статистику и p-value для двусторонней альтернативной гипотезы (конверсии в группах не равны). "
   ]
  },
  {
   "cell_type": "code",
   "execution_count": 15,
   "metadata": {},
   "outputs": [
    {
     "name": "stdout",
     "output_type": "stream",
     "text": [
      "p-value:  0.1\n",
      "Принимаем нулевую гипотезу. Конверсии в группах А и B равны\n"
     ]
    }
   ],
   "source": [
    "# нулевая и альтернативная гипотезы\n",
    "H0 = 'Конверсии в группах А и B равны'\n",
    "H1 = 'Конверсия в группе А выше, чем конверсия в группе B'\n",
    "alpha = 0.05 # уровень значимости\n",
    "# вычисляем значение p-value для z-теста для пропорций\n",
    "_, p_value = proportions_ztest(\n",
    "    count=converted_piv['sum'], #число \"успехов\"\n",
    "    nobs=converted_piv['count'], #общее число наблюдений\n",
    "    alternative='larger'\n",
    ")\n",
    "# выводим результат на экран\n",
    "print('p-value: ', round(p_value, 2))\n",
    "# сравниваем полученное p-value с уровнем значимости\n",
    "if (p_value < alpha): \n",
    "    print(\"Отвергаем нулевую гипотезу. {}\".format(H0))\n",
    "    print(\"Альтернативная гипотеза. H1: {}\".format(H1))\n",
    "else:\n",
    "    print(\"Принимаем нулевую гипотезу. {}\".format(H0))"
   ]
  },
  {
   "cell_type": "markdown",
   "metadata": {},
   "source": [
    "разницы между вариантами рекомендаций сопутствующих товаров нет — они одинаково эффективны по метрике конверсии"
   ]
  },
  {
   "cell_type": "markdown",
   "metadata": {},
   "source": [
    "- СТАТИСТИЧЕСКИЕ ТЕСТЫ ДЛЯ ДРУГИХ МЕТРИК"
   ]
  },
  {
   "cell_type": "markdown",
   "metadata": {},
   "source": [
    "любой статистический метод имеет свою область применения, которая зависит от задачи и распределения данных. Перед тем как проводить статистический тест, важно узнать распределение метрики, по которой вы будете сравнивать.\n",
    "\n",
    "Например, время, проведённое на сайте, часто распределено нормально, и тогда мы можем использовать T-тест для средних (напомним, данный тест требует, чтобы данные были распределены нормально).\n",
    "А вот денежные метрики, такие как средний чек, часто (но не всегда) напоминают логнормальное распределение (большинство распределений сосредоточены близ нуля, и частота постепенно падает). Здесь, как правило, используются непараметрические тесты: критерий Манна-Уитни, ANOVA-тест и другие. Данные тесты применяются в случаях, когда распределение показателя отлично от нормального."
   ]
  },
  {
   "cell_type": "code",
   "execution_count": 19,
   "metadata": {},
   "outputs": [
    {
     "data": {
      "text/html": [
       "<div>\n",
       "<style scoped>\n",
       "    .dataframe tbody tr th:only-of-type {\n",
       "        vertical-align: middle;\n",
       "    }\n",
       "\n",
       "    .dataframe tbody tr th {\n",
       "        vertical-align: top;\n",
       "    }\n",
       "\n",
       "    .dataframe thead th {\n",
       "        text-align: right;\n",
       "    }\n",
       "</style>\n",
       "<table border=\"1\" class=\"dataframe\">\n",
       "  <thead>\n",
       "    <tr style=\"text-align: right;\">\n",
       "      <th></th>\n",
       "      <th>time(A)</th>\n",
       "      <th>time(B)</th>\n",
       "    </tr>\n",
       "  </thead>\n",
       "  <tbody>\n",
       "    <tr>\n",
       "      <th>0</th>\n",
       "      <td>435.0</td>\n",
       "      <td>549.2</td>\n",
       "    </tr>\n",
       "    <tr>\n",
       "      <th>1</th>\n",
       "      <td>454.5</td>\n",
       "      <td>630.2</td>\n",
       "    </tr>\n",
       "  </tbody>\n",
       "</table>\n",
       "</div>"
      ],
      "text/plain": [
       "   time(A)  time(B)\n",
       "0    435.0    549.2\n",
       "1    454.5    630.2"
      ]
     },
     "metadata": {},
     "output_type": "display_data"
    }
   ],
   "source": [
    "time_data = pd.read_excel('/home/aleksandr/Документы/GitHub/data/Time/time_data.xlsx')\n",
    "display(time_data.head(2))"
   ]
  },
  {
   "cell_type": "code",
   "execution_count": 22,
   "metadata": {},
   "outputs": [
    {
     "data": {
      "image/png": "[encoded data removed]",
      "text/plain": [
       "<Figure size 1080x288 with 2 Axes>"
      ]
     },
     "metadata": {
      "needs_background": "light"
     },
     "output_type": "display_data"
    }
   ],
   "source": [
    "#создаём 2 графика размером 12x4\n",
    "fig, axes = plt.subplots(1, 2, figsize=(15, 4))\n",
    "#строим гистограмму для времени на сайте в каждой группе\n",
    "sns.histplot(x='time(A)', data=time_data, ax=axes[0])\n",
    "sns.histplot(x='time(B)', data=time_data, ax=axes[1])\n",
    "#задаём названия графикам\n",
    "axes[0].set_title('Распределение времени на сайте в группе А');\n",
    "axes[1].set_title('Распределение времени на сайте в группе B');"
   ]
  },
  {
   "cell_type": "markdown",
   "metadata": {},
   "source": [
    "Гистограммы напоминают нормальное распределение. Давайте проверим гипотезу о нормальности обоих распределений с помощью критерия Шапиро-Уилка. "
   ]
  },
  {
   "cell_type": "code",
   "execution_count": 23,
   "metadata": {},
   "outputs": [
    {
     "name": "stdout",
     "output_type": "stream",
     "text": [
      "p-value группы А 0.43\n",
      "p-value группы B 0.12\n",
      "Принимаем нулевую гипотезу. Распределения в обеих группах нормальные\n"
     ]
    }
   ],
   "source": [
    "from scipy.stats import shapiro\n",
    "# нулевая и альтернативная гипотезы\n",
    "H0 = 'Распределения в обеих группах нормальные'\n",
    "H1 = 'Распределение в одной или обеих группах отлично от нормального'\n",
    "alpha = 0.05 # уровень значимости\n",
    "# вычисляем результат теста Шапиро-Уилка для выборок\n",
    "shapiro_result_a = shapiro(time_data['time(A)'])\n",
    "shapiro_result_b = shapiro(time_data['time(B)'])\n",
    "print('p-value группы А', round(shapiro_result_a.pvalue, 2))\n",
    "print('p-value группы B', round(shapiro_result_b.pvalue, 2))\n",
    "# сравниваем полученное p-value с уровнем значимости\n",
    "if shapiro_result_a.pvalue < alpha or shapiro_result_b.pvalue < alpha:\n",
    "    print(\"Отвергаем нулевую гипотезу. {}\".format(H0))\n",
    "    print(\"Альтернативная гипотеза. H1: {}\".format(H1))\n",
    "else:\n",
    "    print(\"Принимаем нулевую гипотезу. {}\".format(H0))"
   ]
  },
  {
   "cell_type": "markdown",
   "metadata": {},
   "source": [
    "распределение в обеих группах нормальное, а значит, мы можем воспользоваться T-тестом для того, чтобы сравнить среднее время посещения сайта в группах\n",
    "\n",
    "Выдвигаем нулевую гипотезу:\n",
    "H0: Pa=Pb, то есть среднее время в группах А и B одинаково.\n",
    "При левосторонней альтернативной гипотезе:\n",
    "H1: Pa < Pb, то есть среднее время в группе А меньше, чем в группе B."
   ]
  },
  {
   "cell_type": "code",
   "execution_count": 29,
   "metadata": {},
   "outputs": [
    {
     "name": "stdout",
     "output_type": "stream",
     "text": [
      "p-value: 0.0\n",
      "Отвергаем нулевую гипотезу: Среднее время в группах одинаково\n",
      "Альтернативная гипотеза. H1: Среднее время в группе А меньше, чем в группе B\n"
     ]
    }
   ],
   "source": [
    "from scipy.stats import ttest_ind\n",
    "# нулевая и альтернативная гипотезы\n",
    "H0 = 'Среднее время в группах одинаково'\n",
    "H1 = 'Среднее время в группе А меньше, чем в группе B'\n",
    "alpha = 0.05 #уровень значимости\n",
    "#вычисляем результат T-теста для выборок\n",
    "results = ttest_ind(\n",
    "    a=time_data['time(A)'],\n",
    "    b=time_data['time(B)'], \n",
    "    alternative='less'\n",
    ")\n",
    "print('p-value:', round(results.pvalue, 2))\n",
    " \n",
    "if results.pvalue < alpha:\n",
    "    print(\"Отвергаем нулевую гипотезу: {}\".format(H0))\n",
    "    print(\"Альтернативная гипотеза. H1: {}\".format(H1))\n",
    "else:\n",
    "    print(\"Принимаем нулевую гипотезу. {}\".format(H0))"
   ]
  },
  {
   "cell_type": "markdown",
   "metadata": {},
   "source": [
    "Задание 5.2\n",
    "Проверьте гипотезу о равенстве конверсий в группах А и B при альтернативной гипотезе: Конверсия в группе А меньше, чем конверсия в группе B. Используйте функцию proportions_ztest() из модуля statsmodels.stats.proportion. В качестве уровня значимости возьмите alpha = 0.1."
   ]
  },
  {
   "cell_type": "code",
   "execution_count": 31,
   "metadata": {},
   "outputs": [],
   "source": [
    "sample_a['date'] = pd.to_datetime(sample_a['date'])\n",
    "sample_b['date'] = pd.to_datetime(sample_b['date'])\n",
    "\n",
    "sample_ab = pd.concat([sample_a, sample_b])\n",
    "\n",
    "converted_sample_ab= sample_ab.groupby('group')['transactions'].agg(\n",
    "    ['sum', 'count']\n",
    ").reset_index()\n",
    "display(converted_sample_ab)"
   ]
  },
  {
   "cell_type": "code",
   "execution_count": 37,
   "metadata": {},
   "outputs": [
    {
     "name": "stdout",
     "output_type": "stream",
     "text": [
      "p-value:  0.22\n",
      "Принимаем нулевую гипотезу. Конверсии в группах А и B равны\n"
     ]
    }
   ],
   "source": [
    "# нулевая и альтернативная гипотезы\n",
    "H0 = 'Конверсии в группах А и B равны'\n",
    "H1 = 'Конверсия в группе А меньше, чем конверсия в группе B'\n",
    "alpha = 0.1 # уровень значимости\n",
    "# вычисляем значение p-value для z-теста для пропорций\n",
    "_, p_value = proportions_ztest(\n",
    "    count=converted_sample_ab['sum'], #число \"успехов\"\n",
    "    nobs=converted_sample_ab['count'], #общее число наблюдений\n",
    "    alternative='smaller'\n",
    ")\n",
    "# выводим результат на экран\n",
    "print('p-value: ', round(p_value, 2))\n",
    "# сравниваем полученное p-value с уровнем значимости\n",
    "if (p_value < alpha): \n",
    "    print(\"Отвергаем нулевую гипотезу: {}\".format(H0))\n",
    "    print(\"Альтернативная гипотеза. H1: {}\".format(H1))\n",
    "else:\n",
    "    print(\"Принимаем нулевую гипотезу. {}\".format(H0))"
   ]
  },
  {
   "cell_type": "markdown",
   "metadata": {},
   "source": [
    "Задание 5.3\n",
    "Проверьте гипотезу о нормальности распределений ежедневного среднего чека с помощью критерия Шапиро-Уилка. В качестве уровня значимости возьмите alpha = 0.1."
   ]
  },
  {
   "cell_type": "code",
   "execution_count": 100,
   "metadata": {},
   "outputs": [],
   "source": [
    "revenue_piv_a = sample_a.groupby('date')['revenue'].agg(['mean']).reset_index().rename(columns = {'mean': 'revenue_mean'})\n",
    "revenue_piv_b = sample_b.groupby('date')['revenue'].agg(['mean']).reset_index().rename(columns = {'mean': 'revenue_mean'})"
   ]
  },
  {
   "cell_type": "code",
   "execution_count": 102,
   "metadata": {},
   "outputs": [
    {
     "data": {
      "image/png": "[encoded data removed]",
      "text/plain": [
       "<Figure size 1080x288 with 2 Axes>"
      ]
     },
     "metadata": {
      "needs_background": "light"
     },
     "output_type": "display_data"
    }
   ],
   "source": [
    "#создаём 2 графика размером 12x4\n",
    "fig, axes = plt.subplots(1, 2, figsize=(15, 4))\n",
    "#строим гистограмму для времени на сайте в каждой группе\n",
    "sns.histplot(x='revenue_mean', data=revenue_piv_a, ax=axes[0])\n",
    "sns.histplot(x='revenue_mean', data=revenue_piv_b, ax=axes[1])\n",
    "#задаём названия графикам\n",
    "axes[0].set_title('Распределение среднего чека в группе А');\n",
    "axes[1].set_title('Распределение среднего чека в группе B');"
   ]
  },
  {
   "cell_type": "code",
   "execution_count": 103,
   "metadata": {},
   "outputs": [
    {
     "name": "stdout",
     "output_type": "stream",
     "text": [
      "p-value группы А 0.01\n",
      "p-value группы B 0.15\n",
      "Отвергаем нулевую гипотезу: Распределения в обеих группах нормальные\n",
      "Альтернативная гипотеза. H1: Распределение в одной или обеих группах отлично от нормального\n"
     ]
    }
   ],
   "source": [
    "from scipy.stats import shapiro\n",
    "# нулевая и альтернативная гипотезы\n",
    "H0 = 'Распределения в обеих группах нормальные'\n",
    "H1 = 'Распределение в одной или обеих группах отлично от нормального'\n",
    "alpha = 0.1 # уровень значимости\n",
    "# вычисляем результат теста Шапиро-Уилка для выборок\n",
    "shapiro_result_a = shapiro(revenue_piv_a['revenue_mean'])\n",
    "shapiro_result_b = shapiro(revenue_piv_b['revenue_mean'])\n",
    "print('p-value группы А', round(shapiro_result_a.pvalue, 2))\n",
    "print('p-value группы B', round(shapiro_result_b.pvalue, 2))\n",
    "# сравниваем полученное p-value с уровнем значимости\n",
    "if shapiro_result_a.pvalue < alpha or shapiro_result_b.pvalue < alpha:\n",
    "    print(\"Отвергаем нулевую гипотезу: {}\".format(H0))\n",
    "    print(\"Альтернативная гипотеза. H1: {}\".format(H1))\n",
    "else:\n",
    "    print(\"Принимаем нулевую гипотезу. {}\".format(H0))"
   ]
  },
  {
   "cell_type": "markdown",
   "metadata": {},
   "source": [
    "Задание 5.4\n",
    "Проверьте гипотезу о равенстве ежедневных средних чеков с помощью критерия Манна-Уитни при альтернативной гипотезе: Ежедневный средний чек в группе А меньше, чем в группе B. Используйте функцию mannwhitneyu() из модуля scipy.stats. В качестве уровня значимости возьмите alpha = 0.1."
   ]
  },
  {
   "cell_type": "code",
   "execution_count": 104,
   "metadata": {},
   "outputs": [
    {
     "name": "stdout",
     "output_type": "stream",
     "text": [
      "p-value: 0.07\n",
      "Отвергаем нулевую гипотезу: Средние чеки в группах одинаковы\n",
      "Альтернативная гипотеза. H1: Средний чек в группе А меньше, чем в группе B\n"
     ]
    }
   ],
   "source": [
    "from scipy.stats import mannwhitneyu\n",
    "# нулевая и альтернативная гипотезы\n",
    "H0 = 'Средние чеки в группах одинаковы'\n",
    "H1 = 'Средний чек в группе А меньше, чем в группе B'\n",
    "alpha = 0.1 #уровень значимости\n",
    "#вычисляем результат T-теста для выборок\n",
    "results = mannwhitneyu(\n",
    "    x=revenue_piv_a['revenue_mean'],\n",
    "    y=revenue_piv_b['revenue_mean'],\n",
    "    alternative='less'\n",
    ")\n",
    "print('p-value:', round(results.pvalue, 2))\n",
    " \n",
    "if results.pvalue < alpha:\n",
    "    print(\"Отвергаем нулевую гипотезу: {}\".format(H0))\n",
    "    print(\"Альтернативная гипотеза. H1: {}\".format(H1))\n",
    "else:\n",
    "    print(\"Принимаем нулевую гипотезу. {}\".format(H0))"
   ]
  },
  {
   "cell_type": "markdown",
   "metadata": {},
   "source": [
    "### 6. Анализ результатов A/B-тестирования: доверительные интервалы"
   ]
  },
  {
   "cell_type": "markdown",
   "metadata": {},
   "source": [
    "доверительные интервалы -это статистический метод\n",
    "\n",
    "Нас интересуют параметры генеральной совокупности: \n",
    "    истинное среднее — математическое ожидание (мю);\n",
    "    истинное стандартное отклонение (сигма);\n",
    "    истинная пропорция (р).\n",
    "\n",
    "Если вы взяли выборку клиентов и выяснили их предпочтения, вам важно не то, что вы узнали предпочтения именно этих клиентов — вам важно, что теперь вы знаете предпочтения всех ваших клиентов (генеральная совокупность).\n",
    "\n",
    "Выборочная статистика является случайной величиной, ведь она рассчитана на случайной выборке. Если мы возьмём одну выборку и посчитаем значение среднего, мы получим одно значение; возьмём другую — получим другое значение.\n",
    "параметр генеральной совокупности — это константа, конкретное число, которое, как правило, нам неизвестно и никогда известным не станет. Однако его можно приблизительно оценить!\n",
    "\n",
    "Два способа оценки параметров генеральной совокупности:\n",
    "\n",
    "⭐ Точечные оценки - это просто выборочные статистики. Например, мы собрали данные о росте прохожих людей и посчитали среднее, стандартное отклонение и так далее. \n",
    "Существенный недостаток: полученное значение практически никогда не равно истинному. \n",
    "\n",
    "⭐ Интервальные оценки - это ещё один способ оценки параметров генеральной совокупности, при использовании которого ответ даётся не в виде одного числа, а в виде интервала. Поиск интервальной оценки заключается в построении доверительного интервала - интервал, который с заданной надёжностью покрывает значение неизвестного параметра. Доверительные интервалы бывают двусторонними, левосторонними и правосторонними (как гипотезы)\n",
    "\n",
    "двусторонний доверительный интервал обладает следующей структурой:\n",
    "Параметр = Выборочная оценка ± Предел погрешности"
   ]
  },
  {
   "cell_type": "markdown",
   "metadata": {},
   "source": [
    "- ДОВЕРИТЕЛЬНЫЙ ИНТЕРВАЛ ДЛЯ СРЕДНЕГО ПРИ ИЗВЕСТНОМ СТАНДАРТНОМ ОТКЛОНЕНИИ"
   ]
  },
  {
   "cell_type": "markdown",
   "metadata": {},
   "source": [
    "формула доверительного интервала для истинного среднего при известном стандартном отклонении:\n",
    "\n",
    "μ = Хmean ± Е = Хmean ± Zкрит * (σ/√(n))\n",
    "\n",
    "ОТКУДА БЕРЁТСЯ Z-КРИТИЧЕСКОЕ?\n",
    "\n",
    "Компонент Zкрит в доверительном интервале определяется уровнем надёжности. А что вообще такое уровень надёжности (его ещё называют уровнем доверия)? \n",
    "А вот что: γ = 1 - α, где α — уровень значимости или вероятность ошибки I рода. Тогда уровень надёжности — вероятность НЕ допустить ошибку I рода.\n",
    "\n",
    "Например, мы хотим, чтобы интервал был надёжен на 95 % (γ = 0.95). Это означает, что мы хотим покрыть 95 % процентов исходов (всех возможных выборочных средних). Вероятность допустить ошибку I рода — не захватить истинное значение в построенный доверительный интервал — будет равно α = 1- γ = 1 -0.95 = 0.05 (5 %).\n",
    "\n",
    "Вывод. Под уровнем надёжности понимается вероятность того, что истинное значение параметра окажется в построенном интервале. А под уровнем значимости — вероятность того, что построенный доверительный интервал «промахнётся» и не захватит истинное значение параметра.\n",
    "\n",
    "То есть мы хотим взять такое значение, при котором в интервале от -Zкритического до +Zкритического лежало бы 95 % всех исходов. В двустороннем интервале эти 95 % мы будем брать как раз посередине, чтобы справа и слева осталось 5 %, по 2.5 % с каждой стороны (помним, что нормальное распределение симметрично).\n",
    "\n",
    "Таким образом Z крит— это значение, которое отсекает критическую область нормального распределения. \n",
    "Zкрит = Z ((1-γ)/2) = Z(α/2)\n",
    "Значение z-критического мы можем найти при помощи специальных таблиц, библиотек Python или калькулятора. https://planetcalc.ru/7803/"
   ]
  },
  {
   "cell_type": "markdown",
   "metadata": {},
   "source": [
    "Пример\n",
    "Была опрошена случайная выборка из 36 жителей региона об их затратах на продукты питания за последний месяц. Выборочное среднее оказалось равным 16 100 рублей.\n",
    "Допустим, откуда-то известно, что истинное стандартное отклонение расходов равно 12 000 рублей.\n",
    "Нам нужно построить доверительный интервал для истинных средних расходов жителя данного региона на продукты питания в месяц. Интервал должен определять истинное значение с надежностью в 95 %."
   ]
  },
  {
   "cell_type": "code",
   "execution_count": 23,
   "metadata": {},
   "outputs": [
    {
     "name": "stdout",
     "output_type": "stream",
     "text": [
      "Доверительный интервал: (12180, 20020)\n"
     ]
    }
   ],
   "source": [
    "n = 36 # размер выборки\n",
    "x_mean = 16100 # выборочное среднее\n",
    "sigma = 12000 # истинное стандартное отклонение\n",
    "gamma = 0.95 # уровень надёжности\n",
    "alpha = 1 - gamma # уровень значимости\n",
    "\n",
    "from scipy.stats import norm\n",
    "z_crit = -norm.ppf(alpha/2) # z критическое\n",
    "\n",
    "eps = z_crit * sigma/(n ** 0.5) #погрешность\n",
    "lower_bound = x_mean - eps # левая (нижняя) граница\n",
    "upper_bound = x_mean + eps # правая (верхняя) граница\n",
    "confidence_interval = (round(lower_bound), round(upper_bound)) # создаём кортеж из округлённых границ интервала\n",
    "print('Доверительный интервал: {}'.format(confidence_interval)) # выводим результат"
   ]
  },
  {
   "cell_type": "markdown",
   "metadata": {},
   "source": [
    "Задание 6.5\n",
    "Аккумуляторный завод производит батарейки, срок службы которых имеет истинное стандартное отклонение в 2.4 месяца. Средний срок службы батареек в случайной выборке из 64 штук составил 12.35 месяца. Необходимо построить 90 %-ный доверительный интервал для истинного среднего срока службы производимой батарейки "
   ]
  },
  {
   "cell_type": "code",
   "execution_count": 27,
   "metadata": {},
   "outputs": [
    {
     "name": "stdout",
     "output_type": "stream",
     "text": [
      "Доверительный интервал: (11.86, 12.84)\n"
     ]
    }
   ],
   "source": [
    "n = 64 # размер выборки\n",
    "x_mean = 12.35 # выборочное среднее\n",
    "sigma = 2.4 # истинное стандартное отклонение\n",
    "gamma = 0.9 # уровень надёжности\n",
    "alpha = 1 - gamma # уровень значимости\n",
    "\n",
    "from scipy.stats import norm\n",
    "z_crit = -norm.ppf(alpha/2) # z критическое\n",
    "\n",
    "eps = z_crit * sigma/(n ** 0.5) #погрешность\n",
    "lower_bound = x_mean - eps # левая (нижняя) граница\n",
    "upper_bound = x_mean + eps # правая (верхняя) граница\n",
    "confidence_interval = (round(lower_bound, 2), round(upper_bound, 2)) # создаём кортеж из округлённых границ интервала\n",
    "print('Доверительный интервал: {}'.format(confidence_interval)) # выводим результат"
   ]
  },
  {
   "cell_type": "markdown",
   "metadata": {},
   "source": [
    "- ДОВЕРИТЕЛЬНЫЙ ИНТЕРВАЛ ДЛЯ СРЕДНЕГО ПРИ НЕИЗВЕСТНОМ СТАНДАРТНОМ ОТКЛОНЕНИИ"
   ]
  },
  {
   "cell_type": "markdown",
   "metadata": {},
   "source": [
    "Распределение Стьюдента (Т-распределение) — это целое семейство родственников стандартного нормального распределения.\n",
    "\n",
    "https://lms.skillfactory.ru/assets/courseware/v1/29adc7996458db714b453d5e11b05541/asset-v1:SkillFactory+DSPR-2.0+14JULY2021+type@asset+block/dst-eda-5-30.png\n",
    "\n",
    "На рисунке фиолетовым цветом изображено нормальное распределение с параметрами 0 и 1, а зелёным цветом — распределение Стьюдента. Отчётливо видно, что распределение Стьюдента несколько «шире» — обладает бОльшим разбросом.\n",
    "\n",
    "Степени свободы  обозначаются d.f. (от англ. degrees of freedom). Они и говорят нам о том, насколько велик разброс в значениях распределения Стьюдента. Этот параметр вычисляется как k=n-1, где n — размер выборки.\n",
    "\n",
    "Тогда в формуле для доверительного интервала случайная нормальная величина Z заменится на случайную величину T, а истинное стандартное отклонение σ заменится на выборочное — Xstd:\n",
    "\n",
    "μ = Хmean ± tкрит * (Xstd/√(n))\n",
    "\n",
    "Значения tкрит вычисляются аналогично Zкрит: задаётся уровень надёжности (или уровень значимости α), и на его основе по таблицам или калькуляторам для распределения Стьюдента вычисляется число. Отличие состоит в том, что для вычисления tкрит нужно задать ещё и число степеней свободы k=n-1:\n",
    "\n",
    "tкрит(k) = t ((1-γ)/2) (K) = t(α/2)(k)"
   ]
  },
  {
   "cell_type": "markdown",
   "metadata": {},
   "source": [
    "Пример\n",
    "Управляющий супермаркета хочет оценить, сколько денег покупатели тратят за один поход в супермаркет в среднем. На основании ранее собранных данных известно, что расходы одного покупателя распределены приблизительно нормально. Управляющий взял случайную выборку из 15 покупателей и выяснил, что их средние расходы равны 2 000 рублей, а выборочное стандартное отклонение равно 400 рублей. Для оценки управляющий хочет построить доверительный интервал с надёжностью в 95 %."
   ]
  },
  {
   "cell_type": "code",
   "execution_count": 28,
   "metadata": {},
   "outputs": [
    {
     "name": "stdout",
     "output_type": "stream",
     "text": [
      "Доверительный интервал: (1778, 2222)\n"
     ]
    }
   ],
   "source": [
    "n = 15 # размер выборки\n",
    "k = n - 1 # число степеней свободы\n",
    "x_mean = 2000 # выборочное среднее\n",
    "x_std = 400 # выборочное стандартное отклонение\n",
    "gamma = 0.95 # уровень надёжности\n",
    "alpha = 1 - gamma # уровень значимости\n",
    "\n",
    "from scipy.stats import t\n",
    "t_crit = -t.ppf(alpha/2, k) # t-критическое\n",
    "\n",
    "eps = t_crit * x_std/(n ** 0.5) # погрешность\n",
    "lower_bound = x_mean - eps # левая (нижняя) граница\n",
    "upper_bound = x_mean + eps # правая (верхняя) граница\n",
    "confidence_interval = (round(lower_bound), round(upper_bound)) # создаём кортеж из округлённых границ интервала\n",
    "print('Доверительный интервал: {}'.format(confidence_interval)) # выводим результат"
   ]
  },
  {
   "cell_type": "markdown",
   "metadata": {},
   "source": [
    "Обе формулы определения доверительных интервалов работают только при соблюдении двух условий:\n",
    "Выборка должна быть случайной.\n",
    "Выборка должна быть достаточно велика. Но есть исключение: если выборка маленькая, но сама величина распределена нормально, то выборочное среднее тоже будет распределено нормально."
   ]
  },
  {
   "cell_type": "markdown",
   "metadata": {},
   "source": [
    "Задание 6.6\n",
    "Чиновника интересует сумма подоходного налога, выплачиваемого домохозяйствами за год. На случайной выборке из 25 домохозяйств был посчитан средний размер выплаченного налога, и он составил $ 3 540. Также известно выборочное отклонение величины подоходного налога, равное $ 1 150. Необходимо найти 90 %-ый доверительный интервал для истинного среднего значения налоговых выплат за год. "
   ]
  },
  {
   "cell_type": "code",
   "execution_count": 29,
   "metadata": {},
   "outputs": [
    {
     "name": "stdout",
     "output_type": "stream",
     "text": [
      "Доверительный интервал: (3146, 3934)\n"
     ]
    }
   ],
   "source": [
    "n = 25 # размер выборки\n",
    "k = n - 1 # число степеней свободы\n",
    "x_mean = 3540 # выборочное среднее\n",
    "x_std = 1150 # выборочное стандартное отклонение\n",
    "gamma = 0.9 # уровень надёжности\n",
    "alpha = 1 - gamma # уровень значимости\n",
    "\n",
    "from scipy.stats import t\n",
    "t_crit = -t.ppf(alpha/2, k) # t-критическое\n",
    "\n",
    "eps = t_crit * x_std/(n ** 0.5) # погрешность\n",
    "lower_bound = x_mean - eps # левая (нижняя) граница\n",
    "upper_bound = x_mean + eps # правая (верхняя) граница\n",
    "confidence_interval = (round(lower_bound), round(upper_bound)) # создаём кортеж из округлённых границ интервала\n",
    "print('Доверительный интервал: {}'.format(confidence_interval)) # выводим результат"
   ]
  },
  {
   "cell_type": "markdown",
   "metadata": {},
   "source": [
    "- ДОВЕРИТЕЛЬНЫЙ ИНТЕРВАЛ ДЛЯ ПРОПОРЦИИ"
   ]
  },
  {
   "cell_type": "markdown",
   "metadata": {},
   "source": [
    "Конверсия — это доля пользователей, совершивших целевое действие, по отношению к общей массе пользователей. Ранее мы уже выяснили, что признак того, осуществлена конверсия пользователем или нет — это случайная величина, имеющая распределение Бернулли. Такая случайная величина имеет два возможных исхода: 0 или 1\n",
    "\n",
    "p = conv = N+/N \n",
    "N+ - количество исходов с успехом\n",
    "N - общее количество исходов\n",
    "conv - конверсия\n",
    "\n",
    "В контексте задачи A/B-тестирования нам бы хотелось знать истинную конверсию (а не ту, которая подсчитана по выборке) в контрольной и тестовой группе, а также оценить истинную разницу между конверсиями. \n",
    "\n",
    "Забегая вперёд в раздел по теории вероятностей, отметим, что истинное среднее (математическое ожидание) такой случайной величины μ = p, а истинное стандартное отклонение σ = √(p*(1-p)). \n",
    "\n",
    "Так как истинную вероятность успеха p, мы не знаем, так как нам неизвестна вся генеральная совокупность (всех возможных пользователей), то вместо неё мы используем выборочную пропорцию (обозначим её как Xp) — долю совершивших конверсию пользователей, то есть выборочную конверсию. \n",
    "\n",
    "Заметим, что истинная пропорция p полностью совпадает с истинным средним μ. Если немного поколдовать с формулой доверительного интервала для истинного среднего, то можно вывести формулу доверительного интервала для истинной пропорции (истинной конверсии):\n",
    "\n",
    "p = μ = Xp ± Zкрит * √(Xp*(1-Xp)/n)\n",
    "\n",
    "Данная формула позволяет построить доверительный интервал для истинной конверсии в контрольной (А) и тестовой (B) группах.\n",
    "\n",
    "Примечание. Если размер выборки < 30, то вместо Zкрит используется tкрит. Но в задачах A/B-тестирования, как правило, такой размер выборки не используется. Чаще всего мы имеем дело с сотнями или тысячами наблюдений."
   ]
  },
  {
   "cell_type": "code",
   "execution_count": 33,
   "metadata": {},
   "outputs": [
    {
     "data": {
      "text/html": [
       "<div>\n",
       "<style scoped>\n",
       "    .dataframe tbody tr th:only-of-type {\n",
       "        vertical-align: middle;\n",
       "    }\n",
       "\n",
       "    .dataframe tbody tr th {\n",
       "        vertical-align: top;\n",
       "    }\n",
       "\n",
       "    .dataframe thead th {\n",
       "        text-align: right;\n",
       "    }\n",
       "</style>\n",
       "<table border=\"1\" class=\"dataframe\">\n",
       "  <thead>\n",
       "    <tr style=\"text-align: right;\">\n",
       "      <th></th>\n",
       "      <th>user_id</th>\n",
       "      <th>timestamp</th>\n",
       "      <th>group</th>\n",
       "      <th>converted</th>\n",
       "    </tr>\n",
       "  </thead>\n",
       "  <tbody>\n",
       "    <tr>\n",
       "      <th>0</th>\n",
       "      <td>851104</td>\n",
       "      <td>2017-01-21</td>\n",
       "      <td>A</td>\n",
       "      <td>0</td>\n",
       "    </tr>\n",
       "    <tr>\n",
       "      <th>1</th>\n",
       "      <td>804228</td>\n",
       "      <td>2017-01-12</td>\n",
       "      <td>A</td>\n",
       "      <td>0</td>\n",
       "    </tr>\n",
       "  </tbody>\n",
       "</table>\n",
       "</div>"
      ],
      "text/plain": [
       "   user_id   timestamp group  converted\n",
       "0   851104  2017-01-21     A          0\n",
       "1   804228  2017-01-12     A          0"
      ]
     },
     "execution_count": 33,
     "metadata": {},
     "output_type": "execute_result"
    }
   ],
   "source": [
    "# Пример для АВ тестирования\n",
    "ab_data = pd.read_csv('/home/aleksandr/Документы/GitHub/data/Magazine_data/ab_data.csv')\n",
    "ab_data.head(2)"
   ]
  },
  {
   "cell_type": "code",
   "execution_count": 36,
   "metadata": {},
   "outputs": [
    {
     "name": "stdout",
     "output_type": "stream",
     "text": [
      "Доверительный интервал для конверсии группы А: (11.86, 12.19)\n",
      "Доверительный интервал для конверсии группы B: (11.7, 12.03)\n"
     ]
    }
   ],
   "source": [
    "#фильтруем данные группы А\n",
    "a_data = ab_data[ab_data['group'] == 'A']\n",
    "#фильтруем данные группы B\n",
    "b_data = ab_data[ab_data['group'] == 'B']\n",
    "\n",
    "def proportions_conf_interval(n, xp, gamma=0.95):   \n",
    "    alpha = 1 - gamma # уровень значимости\n",
    "    z_crit = -norm.ppf(alpha/2) # z критическое\n",
    "    eps = z_crit * (xp * (1 - xp) / n) ** 0.5 #погрешность\n",
    "    lower_bound = xp - eps # левая (нижняя) граница\n",
    "    upper_bound = xp + eps # правая (верхняя) граница\n",
    "    # возвращаем кортеж из округлённых границ интервала\n",
    "    return round(lower_bound * 100, 2), round(upper_bound * 100, 2)\n",
    "\n",
    "conf_interval_a = proportions_conf_interval(\n",
    "    n=a_data['user_id'].count(), # размер выборки\n",
    "    xp=a_data['converted'].mean() # выборочная пропорция\n",
    ")\n",
    "conf_interval_b = proportions_conf_interval(\n",
    "    n=b_data['user_id'].count(), # размер выборки\n",
    "    xp=b_data['converted'].mean() # выборочная пропорция\n",
    ")\n",
    "print('Доверительный интервал для конверсии группы А: {}'.format(conf_interval_a)) \n",
    "print('Доверительный интервал для конверсии группы B: {}'.format(conf_interval_b))"
   ]
  },
  {
   "cell_type": "markdown",
   "metadata": {},
   "source": [
    "Можно отчётливо заметить пересечение интервалов. Что значит такое пересечение интервалов для нас? Это значит, что существует вероятность, что истинное значение конверсии в обеих группах может совпасть. То есть мы не можем однозначно сказать, есть ли разница в конверсиях\n",
    "\n",
    "построим доверительный интервал разницы пропорций (конверсий).\n",
    "приведём формулу для расчёта доверительного интервала разницы конверсий в группах\n",
    "\n",
    "Δp = ΔXp ± Zкрит * √(Xpa*(1-Xpa)/na + Xpb*(1-Xpb)/nb)\n",
    "\n",
    "Δp = pb - pa — истинная разница конверсий групп B и A;\n",
    "ΔX = Xb - Xa — выборочная разница конверсий групп B и A.\n",
    "\n",
    "Если истинная разница в конверсии Δp положительная. В таком случае говорят, что вариант B более эффективен по метрике конверсии, чем вариант А с заданной надёжностью.\n",
    "Если истинная разница в конверсии Δp отрицательная. Тогда вариант B хуже по метрике конверсии, чем вариант А с заданной надёжностью.\n",
    "Если левая граница доверительного интервала отрицательная, а правая — положительная. То есть истинная разница в конверсии Δp может быть как положительной, так и отрицательной. Тогда это будет значить, что варианты А и B равнозначны по метрике конверсии. "
   ]
  },
  {
   "cell_type": "code",
   "execution_count": 38,
   "metadata": {},
   "outputs": [
    {
     "name": "stdout",
     "output_type": "stream",
     "text": [
      "Доверительный интервал для разности конверсий: (-0.39, 0.08)\n"
     ]
    }
   ],
   "source": [
    "def diff_proportions_conf_interval(n, xp, gamma=0.95):\n",
    "    alpha = 1 - gamma # уровень значимости\n",
    "    diff = xp[1] - xp[0] # выборочная разница конверсий групп B и A\n",
    "    z_crit = -norm.ppf(alpha/2) # z критическое\n",
    "    eps = z_crit * (xp[0] * (1 - xp[0])/n[0] + xp[1] * (1 - xp[1])/n[1]) ** 0.5 # погрешность\n",
    "    lower_bound = diff - eps # левая (нижняя) граница\n",
    "    upper_bound = diff + eps # правая (верхняя) граница\n",
    "    # возвращаем кортеж из округлённых границ интервала\n",
    "    return round(lower_bound *100, 2), round(upper_bound * 100, 2)\n",
    "\n",
    "# размеры выборок групп А и B\n",
    "n = [a_data['user_id'].count(), b_data['user_id'].count()]\n",
    "# выборочная пропорция групп A и B\n",
    "xp = [a_data['converted'].mean(), b_data['converted'].mean()]\n",
    "# строим доверительный интервал для разности конверсий\n",
    "diff_inverval = diff_proportions_conf_interval(n, xp)\n",
    "print('Доверительный интервал для разности конверсий: {}'.format(diff_inverval))"
   ]
  },
  {
   "cell_type": "markdown",
   "metadata": {},
   "source": [
    "Отсюда можно сделать вывод, что статистической разницы в конверсии между вариантами А и B не существует, то есть они являются равнозначными по данной метрике."
   ]
  },
  {
   "cell_type": "markdown",
   "metadata": {},
   "source": [
    "⭐️ Обычно доверительные интервалы используются в комплексе со статистическими тестами. Статистический тест показывает, значимы ли наши результаты, а доверительный интервал показывает пределы изменения метрик и их разницы в группах. "
   ]
  },
  {
   "cell_type": "markdown",
   "metadata": {},
   "source": [
    "Задание 6.9\n",
    "Чтобы оценить удовлетворённость клиентов сети отелей, менеджер взял случайную выборку из 189 комментариев, оставленных посетителями на онлайн-платформе по бронированию, и провёл анализ их содержания. Выяснилось, что 132 комментария были положительными, остальные — негативными. Чему равна выборочная пропорция положительных комментариев? Найдите 90 % доверительный интервал для истинной пропорции положительных комментариев. Ответ приведите в процентах и округлите до двух знаков после запятой. При расчёте используйте z-критическое."
   ]
  },
  {
   "cell_type": "code",
   "execution_count": 44,
   "metadata": {},
   "outputs": [
    {
     "name": "stdout",
     "output_type": "stream",
     "text": [
      "Доверительный интервал для конверсии группы А: (64.35, 75.33)\n"
     ]
    }
   ],
   "source": [
    "def proportions_conf_interval(n, xp, gamma=0.90):   \n",
    "    alpha = 1 - gamma # уровень значимости\n",
    "    z_crit = -norm.ppf(alpha/2) # z критическое\n",
    "    eps = z_crit * (xp * (1 - xp) / n) ** 0.5 #погрешность\n",
    "    lower_bound = xp - eps # левая (нижняя) граница\n",
    "    upper_bound = xp + eps # правая (верхняя) граница\n",
    "    # возвращаем кортеж из округлённых границ интервала\n",
    "    return round(lower_bound * 100, 2), round(upper_bound * 100, 2)\n",
    "\n",
    "conf_interval_a = proportions_conf_interval(\n",
    "    n=189, # размер выборки\n",
    "    xp=132/189 #выборочная пропорция\n",
    ")\n",
    "\n",
    "print('Доверительный интервал для конверсии положительных комментариев: {}'.format(conf_interval_a)) "
   ]
  },
  {
   "cell_type": "markdown",
   "metadata": {},
   "source": [
    "Задание 6.10\n",
    "Проводится A/B-тестирование вариантов отображения страницы корзины на сайте интернет-магазина. Есть два варианта отображения страницы: с товарными рекомендациями «Хиты продаж» и персональными, подобранными под интерес конкретно этого пользователя. Метрикой является конверсия действия «добавить в корзину товар из рекомендаций». Были собраны следующие данные:\n",
    "\n",
    "Группа                      Число добавленных в корзину товаров         Размер выборки\n",
    "\n",
    "А (Персональные скидки)     45                                          1000\n",
    "B (Хиты продаж)             50                                          1000\n",
    "\n",
    "Постройте 95 %-ый доверительный интервал разности полученных конверсий. Ответ приведите в процентах и округлите границы интервала до второго знака после запятой. При расчёте используйте z-критическое."
   ]
  },
  {
   "cell_type": "code",
   "execution_count": 45,
   "metadata": {},
   "outputs": [
    {
     "name": "stdout",
     "output_type": "stream",
     "text": [
      "Доверительный интервал для разности конверсий: (-1.36, 2.36)\n"
     ]
    }
   ],
   "source": [
    "def diff_proportions_conf_interval(n, xp, gamma=0.95):\n",
    "    alpha = 1 - gamma # уровень значимости\n",
    "    diff = xp[1] - xp[0] # выборочная разница конверсий групп B и A\n",
    "    z_crit = -norm.ppf(alpha/2) # z критическое\n",
    "    eps = z_crit * (xp[0] * (1 - xp[0])/n[0] + xp[1] * (1 - xp[1])/n[1]) ** 0.5 # погрешность\n",
    "    lower_bound = diff - eps # левая (нижняя) граница\n",
    "    upper_bound = diff + eps # правая (верхняя) граница\n",
    "    # возвращаем кортеж из округлённых границ интервала\n",
    "    return round(lower_bound *100, 2), round(upper_bound * 100, 2)\n",
    "\n",
    "# размеры выборок групп А и B\n",
    "n = [1000, 1000]\n",
    "# выборочная пропорция групп A и B\n",
    "xp = [45/1000, 50/1000]\n",
    "# строим доверительный интервал для разности конверсий\n",
    "diff_inverval = diff_proportions_conf_interval(n, xp)\n",
    "print('Доверительный интервал для разности конверсий: {}'.format(diff_inverval))"
   ]
  },
  {
   "cell_type": "markdown",
   "metadata": {},
   "source": [
    "### 7. Закрепление знаний"
   ]
  },
  {
   "cell_type": "markdown",
   "metadata": {},
   "source": [
    "Тезисно итоги:\n",
    "\n",
    "При проведении A/B-теста нужно следовать трём принципам:\n",
    "1. исключать влияние извне;\n",
    "2. использовать большое количество данных;\n",
    "3. применять правильные инструменты для анализа.\n",
    "Для того чтобы грамотно оценить результаты A/B-теста, нам нужно выполнить следующие шаги:\n",
    "1. подготовить наши данные к анализу и убедиться, что соблюдены принципы A/B-тестирования (в каждой группе собрано достаточно данных и длительность теста одинакова, группы сбалансированы и отсутствуют пересечения в группах);\n",
    "2. визуально оценить интересующие нас метрики в каждой из групп, чтобы сделать первичные выводы;\n",
    "3. убедиться в том, что метрики стабилизированы и мы можем проводить статистические тесты (помним, о проблеме подглядывания). Для этого чаще всего используются кумулятивные метрики (метрика считается стабилизированной во времени, если её кумулятивный вариант переходит в прямую на графике);\n",
    "4. если метрика стабилизировалась, то мы можем проводить статистические тесты, которые позволяют проверить гипотезу о равенстве показателей в группах при альтернативных гипотезах (неравенство/больше/меньше), но предварительно необходимо узнать распределение показателя, который мы пытаемся сравнить (помним о том, что каждый тест имеет свою область применения);\n",
    "5. в комплексе со статистическими тестами мы можем использовать доверительные интервалы для параметра, чтобы оценить его возможные границы;\n",
    "6. на основе результатов статистических тестов и построенных доверительных интервалов мы формируем вывод и принимаем решение."
   ]
  }
 ],
 "metadata": {
  "interpreter": {
   "hash": "e7b67c4c70b37abe9a13cdef6d156c2045a2cb7d6c971e7027ad705fb56218cc"
  },
  "kernelspec": {
   "display_name": "Python 3.8.8 ('base')",
   "language": "python",
   "name": "python3"
  },
  "language_info": {
   "codemirror_mode": {
    "name": "ipython",
    "version": 3
   },
   "file_extension": ".py",
   "mimetype": "text/x-python",
   "name": "python",
   "nbconvert_exporter": "python",
   "pygments_lexer": "ipython3",
   "version": "3.8.8"
  },
  "orig_nbformat": 4
 },
 "nbformat": 4,
 "nbformat_minor": 2
}
