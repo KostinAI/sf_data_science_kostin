{
 "cells": [
  {
   "cell_type": "code",
   "execution_count": 59,
   "metadata": {},
   "outputs": [],
   "source": [
    "import numpy as np #для матричных вычислений\n",
    "import pandas as pd #для анализа и предобработки данных\n",
    "import matplotlib.pyplot as plt #для визуализации\n",
    "import seaborn as sns #для визуализации\n",
    "%matplotlib inline\n",
    "plt.style.use('seaborn') #установка стиля matplotlib"
   ]
  },
  {
   "cell_type": "code",
   "execution_count": 3,
   "metadata": {},
   "outputs": [],
   "source": [
    "# Загружаем данные по потреблению электроэнергии \n",
    "vvod_1 = pd.read_excel('/home/aleksandr/Документы/GitHub/data/GDN/Energy/Профиль №3 0812183022 с 06 09 2021 по 24 02 2022 Ввод-1 часовой.xls')\n",
    "vvod_2 = pd.read_excel('/home/aleksandr/Документы/GitHub/data/GDN/Energy/Профиль №3 0811181971 с 06 09 2021 по 24 02 2022 Ввод-2 часовой.xls')\n",
    "egpa1 = pd.read_excel('/home/aleksandr/Документы/GitHub/data/GDN/Energy/Профиль №3 0812183007 с 06 09 2021 по 24 02 2022 ЭГПА-1 часовой.xls')\n",
    "egpa2 = pd.read_excel('/home/aleksandr/Документы/GitHub/data/GDN/Energy/Профиль №3 0812181558 с 06 09 2021 по 24 02 2022 ЭГПА-2 часовой.xls')\n",
    "egpa3 = pd.read_excel('/home/aleksandr/Документы/GitHub/data/GDN/Energy/Профиль №3 0812183015 с 06 09 2021 по 24 02 2022 ЭГПА-3 часовой.xls')"
   ]
  },
  {
   "cell_type": "code",
   "execution_count": 35,
   "metadata": {},
   "outputs": [],
   "source": [
    "# Загрузка данных по расходу газа\n",
    "Gas_sep_march = pd.read_excel('/home/aleksandr/Документы/GitHub/data/GDN/Gas/2021_09_06-2022_02_24.xls')"
   ]
  },
  {
   "cell_type": "code",
   "execution_count": 21,
   "metadata": {},
   "outputs": [],
   "source": [
    "# Удаляем дату и время чтобы исключить дублирование в дальнейшем при объединении массивов\n",
    "vvod_1.drop(vvod_1.columns[[0,1]], axis=1, inplace=True)\n",
    "df = pd.concat([vvod_1, vvod_2], axis = 1)"
   ]
  },
  {
   "cell_type": "code",
   "execution_count": 22,
   "metadata": {},
   "outputs": [
    {
     "data": {
      "text/html": [
       "<div>\n",
       "<style scoped>\n",
       "    .dataframe tbody tr th:only-of-type {\n",
       "        vertical-align: middle;\n",
       "    }\n",
       "\n",
       "    .dataframe tbody tr th {\n",
       "        vertical-align: top;\n",
       "    }\n",
       "\n",
       "    .dataframe thead th {\n",
       "        text-align: right;\n",
       "    }\n",
       "</style>\n",
       "<table border=\"1\" class=\"dataframe\">\n",
       "  <thead>\n",
       "    <tr style=\"text-align: right;\">\n",
       "      <th></th>\n",
       "      <th>Дата</th>\n",
       "      <th>Время</th>\n",
       "      <th>Active power</th>\n",
       "    </tr>\n",
       "  </thead>\n",
       "  <tbody>\n",
       "    <tr>\n",
       "      <th>0</th>\n",
       "      <td>2021-09-06</td>\n",
       "      <td>21:00-22:00</td>\n",
       "      <td>23052</td>\n",
       "    </tr>\n",
       "    <tr>\n",
       "      <th>1</th>\n",
       "      <td>2021-09-06</td>\n",
       "      <td>22:00-23:00</td>\n",
       "      <td>23064</td>\n",
       "    </tr>\n",
       "    <tr>\n",
       "      <th>2</th>\n",
       "      <td>2021-09-06</td>\n",
       "      <td>23:00-24:00</td>\n",
       "      <td>23070</td>\n",
       "    </tr>\n",
       "    <tr>\n",
       "      <th>3</th>\n",
       "      <td>2021-09-07</td>\n",
       "      <td>00:00-01:00</td>\n",
       "      <td>23178</td>\n",
       "    </tr>\n",
       "    <tr>\n",
       "      <th>4</th>\n",
       "      <td>2021-09-07</td>\n",
       "      <td>01:00-02:00</td>\n",
       "      <td>23088</td>\n",
       "    </tr>\n",
       "  </tbody>\n",
       "</table>\n",
       "</div>"
      ],
      "text/plain": [
       "        Дата        Время  Active power\n",
       "0 2021-09-06  21:00-22:00         23052\n",
       "1 2021-09-06  22:00-23:00         23064\n",
       "2 2021-09-06  23:00-24:00         23070\n",
       "3 2021-09-07  00:00-01:00         23178\n",
       "4 2021-09-07  01:00-02:00         23088"
      ]
     },
     "execution_count": 22,
     "metadata": {},
     "output_type": "execute_result"
    }
   ],
   "source": [
    "# Сложение мощностей по обоим вводам и удаление избыточных столбцов\n",
    "df['Active power'] = df ['P, кВт'] + df['A+, кВт']\n",
    "df['Reactive power'] = df ['R, квар'] + df['R+, квар']\n",
    "drop_colums = ['P, кВт', 'R, квар', 'A+, кВт', 'R+, квар', 'Reactive power']\n",
    "df.drop(drop_colums, axis=1, inplace=True)\n",
    "df.head()"
   ]
  },
  {
   "cell_type": "code",
   "execution_count": 26,
   "metadata": {},
   "outputs": [
    {
     "data": {
      "text/html": [
       "<div>\n",
       "<style scoped>\n",
       "    .dataframe tbody tr th:only-of-type {\n",
       "        vertical-align: middle;\n",
       "    }\n",
       "\n",
       "    .dataframe tbody tr th {\n",
       "        vertical-align: top;\n",
       "    }\n",
       "\n",
       "    .dataframe thead th {\n",
       "        text-align: right;\n",
       "    }\n",
       "</style>\n",
       "<table border=\"1\" class=\"dataframe\">\n",
       "  <thead>\n",
       "    <tr style=\"text-align: right;\">\n",
       "      <th></th>\n",
       "      <th>Active power</th>\n",
       "      <th>Месяц</th>\n",
       "      <th>День</th>\n",
       "      <th>Час</th>\n",
       "    </tr>\n",
       "  </thead>\n",
       "  <tbody>\n",
       "    <tr>\n",
       "      <th>0</th>\n",
       "      <td>23052</td>\n",
       "      <td>9</td>\n",
       "      <td>6</td>\n",
       "      <td>22</td>\n",
       "    </tr>\n",
       "    <tr>\n",
       "      <th>1</th>\n",
       "      <td>23064</td>\n",
       "      <td>9</td>\n",
       "      <td>6</td>\n",
       "      <td>23</td>\n",
       "    </tr>\n",
       "    <tr>\n",
       "      <th>2</th>\n",
       "      <td>23070</td>\n",
       "      <td>9</td>\n",
       "      <td>6</td>\n",
       "      <td>24</td>\n",
       "    </tr>\n",
       "    <tr>\n",
       "      <th>3</th>\n",
       "      <td>23178</td>\n",
       "      <td>9</td>\n",
       "      <td>7</td>\n",
       "      <td>1</td>\n",
       "    </tr>\n",
       "    <tr>\n",
       "      <th>4</th>\n",
       "      <td>23088</td>\n",
       "      <td>9</td>\n",
       "      <td>7</td>\n",
       "      <td>2</td>\n",
       "    </tr>\n",
       "    <tr>\n",
       "      <th>...</th>\n",
       "      <td>...</td>\n",
       "      <td>...</td>\n",
       "      <td>...</td>\n",
       "      <td>...</td>\n",
       "    </tr>\n",
       "    <tr>\n",
       "      <th>4089</th>\n",
       "      <td>16716</td>\n",
       "      <td>2</td>\n",
       "      <td>24</td>\n",
       "      <td>7</td>\n",
       "    </tr>\n",
       "    <tr>\n",
       "      <th>4090</th>\n",
       "      <td>16596</td>\n",
       "      <td>2</td>\n",
       "      <td>24</td>\n",
       "      <td>8</td>\n",
       "    </tr>\n",
       "    <tr>\n",
       "      <th>4091</th>\n",
       "      <td>15750</td>\n",
       "      <td>2</td>\n",
       "      <td>24</td>\n",
       "      <td>9</td>\n",
       "    </tr>\n",
       "    <tr>\n",
       "      <th>4092</th>\n",
       "      <td>15702</td>\n",
       "      <td>2</td>\n",
       "      <td>24</td>\n",
       "      <td>10</td>\n",
       "    </tr>\n",
       "    <tr>\n",
       "      <th>4093</th>\n",
       "      <td>15834</td>\n",
       "      <td>2</td>\n",
       "      <td>24</td>\n",
       "      <td>11</td>\n",
       "    </tr>\n",
       "  </tbody>\n",
       "</table>\n",
       "<p>4094 rows × 4 columns</p>\n",
       "</div>"
      ],
      "text/plain": [
       "      Active power  Месяц  День  Час\n",
       "0            23052      9     6   22\n",
       "1            23064      9     6   23\n",
       "2            23070      9     6   24\n",
       "3            23178      9     7    1\n",
       "4            23088      9     7    2\n",
       "...            ...    ...   ...  ...\n",
       "4089         16716      2    24    7\n",
       "4090         16596      2    24    8\n",
       "4091         15750      2    24    9\n",
       "4092         15702      2    24   10\n",
       "4093         15834      2    24   11\n",
       "\n",
       "[4094 rows x 4 columns]"
      ]
     },
     "execution_count": 26,
     "metadata": {},
     "output_type": "execute_result"
    }
   ],
   "source": [
    "df"
   ]
  },
  {
   "cell_type": "code",
   "execution_count": 23,
   "metadata": {},
   "outputs": [
    {
     "data": {
      "text/html": [
       "<div>\n",
       "<style scoped>\n",
       "    .dataframe tbody tr th:only-of-type {\n",
       "        vertical-align: middle;\n",
       "    }\n",
       "\n",
       "    .dataframe tbody tr th {\n",
       "        vertical-align: top;\n",
       "    }\n",
       "\n",
       "    .dataframe thead th {\n",
       "        text-align: right;\n",
       "    }\n",
       "</style>\n",
       "<table border=\"1\" class=\"dataframe\">\n",
       "  <thead>\n",
       "    <tr style=\"text-align: right;\">\n",
       "      <th></th>\n",
       "      <th>Дата</th>\n",
       "      <th>Время</th>\n",
       "      <th>Active power</th>\n",
       "      <th>Месяц</th>\n",
       "      <th>День</th>\n",
       "    </tr>\n",
       "  </thead>\n",
       "  <tbody>\n",
       "    <tr>\n",
       "      <th>0</th>\n",
       "      <td>2021-09-06</td>\n",
       "      <td>21:00-22:00</td>\n",
       "      <td>23052</td>\n",
       "      <td>9</td>\n",
       "      <td>6</td>\n",
       "    </tr>\n",
       "    <tr>\n",
       "      <th>1</th>\n",
       "      <td>2021-09-06</td>\n",
       "      <td>22:00-23:00</td>\n",
       "      <td>23064</td>\n",
       "      <td>9</td>\n",
       "      <td>6</td>\n",
       "    </tr>\n",
       "    <tr>\n",
       "      <th>2</th>\n",
       "      <td>2021-09-06</td>\n",
       "      <td>23:00-24:00</td>\n",
       "      <td>23070</td>\n",
       "      <td>9</td>\n",
       "      <td>6</td>\n",
       "    </tr>\n",
       "  </tbody>\n",
       "</table>\n",
       "</div>"
      ],
      "text/plain": [
       "        Дата        Время  Active power  Месяц  День\n",
       "0 2021-09-06  21:00-22:00         23052      9     6\n",
       "1 2021-09-06  22:00-23:00         23064      9     6\n",
       "2 2021-09-06  23:00-24:00         23070      9     6"
      ]
     },
     "execution_count": 23,
     "metadata": {},
     "output_type": "execute_result"
    }
   ],
   "source": [
    "# Выделение из даты: месяца, дня.\n",
    "df['Месяц'] = df['Дата'].dt.month\n",
    "df['День'] = df['Дата'].dt.day\n",
    "df.head(3)"
   ]
  },
  {
   "cell_type": "code",
   "execution_count": 24,
   "metadata": {},
   "outputs": [],
   "source": [
    "# Преобразование столбца время в указание часа\n",
    "def take_hour(time_df):\n",
    "    if time_df == '21:00-22:00':\n",
    "        return 22\n",
    "    elif time_df == '22:00-23:00':\n",
    "        return 23\n",
    "    elif time_df == '23:00-24:00':\n",
    "        return 24\n",
    "    elif time_df == '00:00-01:00':\n",
    "        return 1\n",
    "    elif time_df == '01:00-02:00':\n",
    "        return 2\n",
    "    elif time_df == '02:00-03:00':\n",
    "        return 3\n",
    "    elif time_df == '03:00-04:00':\n",
    "        return 4\n",
    "    elif time_df == '04:00-05:00':\n",
    "        return 5\n",
    "    elif time_df == '05:00-06:00':\n",
    "        return 6\n",
    "    elif time_df == '06:00-07:00':\n",
    "        return 7\n",
    "    elif time_df == '07:00-08:00':\n",
    "        return 8\n",
    "    elif time_df == '08:00-09:00':\n",
    "        return 9\n",
    "    elif time_df == '09:00-10:00':\n",
    "        return 10\n",
    "    elif time_df == '10:00-11:00':\n",
    "        return 11\n",
    "    elif time_df == '11:00-12:00':\n",
    "        return 12\n",
    "    elif time_df == '12:00-13:00':\n",
    "        return 13\n",
    "    elif time_df == '13:00-14:00':\n",
    "        return 14\n",
    "    elif time_df == '14:00-15:00':\n",
    "        return 15\n",
    "    elif time_df == '15:00-16:00':\n",
    "        return 16\n",
    "    elif time_df == '16:00-17:00':\n",
    "        return 17\n",
    "    elif time_df == '17:00-18:00':\n",
    "        return 18\n",
    "    elif time_df == '18:00-19:00':\n",
    "        return 19\n",
    "    elif time_df == '19:00-20:00':\n",
    "        return 20\n",
    "    elif time_df == '20:00-21:00':\n",
    "        return 21\n",
    "    else: return 0     \n",
    "\n",
    "df['Час'] = df['Время'].apply(take_hour)     \n",
    "\n",
    "# Удаляем не нужные столбцы\n",
    "df.drop(['Дата', 'Время'], axis=1, inplace=True) "
   ]
  },
  {
   "cell_type": "code",
   "execution_count": 37,
   "metadata": {},
   "outputs": [
    {
     "data": {
      "text/html": [
       "<div>\n",
       "<style scoped>\n",
       "    .dataframe tbody tr th:only-of-type {\n",
       "        vertical-align: middle;\n",
       "    }\n",
       "\n",
       "    .dataframe tbody tr th {\n",
       "        vertical-align: top;\n",
       "    }\n",
       "\n",
       "    .dataframe thead th {\n",
       "        text-align: right;\n",
       "    }\n",
       "</style>\n",
       "<table border=\"1\" class=\"dataframe\">\n",
       "  <thead>\n",
       "    <tr style=\"text-align: right;\">\n",
       "      <th></th>\n",
       "      <th>Active power</th>\n",
       "      <th>Месяц</th>\n",
       "      <th>День</th>\n",
       "      <th>Час</th>\n",
       "    </tr>\n",
       "  </thead>\n",
       "  <tbody>\n",
       "    <tr>\n",
       "      <th>0</th>\n",
       "      <td>23052</td>\n",
       "      <td>9</td>\n",
       "      <td>6</td>\n",
       "      <td>22</td>\n",
       "    </tr>\n",
       "    <tr>\n",
       "      <th>1</th>\n",
       "      <td>23064</td>\n",
       "      <td>9</td>\n",
       "      <td>6</td>\n",
       "      <td>23</td>\n",
       "    </tr>\n",
       "  </tbody>\n",
       "</table>\n",
       "</div>"
      ],
      "text/plain": [
       "   Active power  Месяц  День  Час\n",
       "0         23052      9     6   22\n",
       "1         23064      9     6   23"
      ]
     },
     "execution_count": 37,
     "metadata": {},
     "output_type": "execute_result"
    }
   ],
   "source": [
    "df.head(2)"
   ]
  },
  {
   "cell_type": "code",
   "execution_count": 38,
   "metadata": {},
   "outputs": [],
   "source": [
    "# Добавляем столбцы с ЭГПА 1-3\n",
    "df_1 = pd.concat([df, egpa1['A+, кВт']], axis = 1)\n",
    "df_1.rename(columns={'A+, кВт': 'EGPA1'}, inplace = True)\n",
    "df_1 = pd.concat([df_1, egpa2['A+, кВт']], axis = 1)\n",
    "df_1.rename(columns={'A+, кВт': 'EGPA2'}, inplace = True)\n",
    "df_1 = pd.concat([df_1, egpa3['A+, кВт']], axis = 1)\n",
    "df_1.rename(columns={'A+, кВт': 'EGPA3'}, inplace = True)"
   ]
  },
  {
   "cell_type": "code",
   "execution_count": 39,
   "metadata": {},
   "outputs": [],
   "source": [
    "# Указываем включен ли ЭГПА -1 либо отключен -0\n",
    "df_1['EGPA1'] = df_1['EGPA1'].apply(lambda x: 1 if x != 0 else 0)\n",
    "df_1['EGPA2'] = df_1['EGPA2'].apply(lambda x: 1 if x != 0 else 0)\n",
    "df_1['EGPA3'] = df_1['EGPA3'].apply(lambda x: 1 if x != 0 else 0)"
   ]
  },
  {
   "cell_type": "code",
   "execution_count": null,
   "metadata": {},
   "outputs": [],
   "source": [
    "# Добавляем признак - расход газа\n",
    "energy_gas = pd.concat([df_1, Gas_sep_march['Расход газа, м3']], axis = 1)\n",
    "energy_gas.head()"
   ]
  },
  {
   "cell_type": "markdown",
   "metadata": {},
   "source": [
    "### Корреляция признаков с целевым признаком Active power"
   ]
  },
  {
   "cell_type": "code",
   "execution_count": 46,
   "metadata": {},
   "outputs": [
    {
     "data": {
      "text/plain": [
       "<AxesSubplot:>"
      ]
     },
     "execution_count": 46,
     "metadata": {},
     "output_type": "execute_result"
    },
    {
     "data": {
      "image/png": "[encoded data removed]",
      "text/plain": [
       "<Figure size 432x288 with 2 Axes>"
      ]
     },
     "metadata": {
      "needs_background": "light"
     },
     "output_type": "display_data"
    }
   ],
   "source": [
    "# Тепловая карта корреляции\n",
    "sns.heatmap(energy_gas.corr())"
   ]
  },
  {
   "cell_type": "code",
   "execution_count": 61,
   "metadata": {},
   "outputs": [
    {
     "data": {
      "image/png": "[encoded data removed]",
      "text/plain": [
       "<Figure size 720x360 with 1 Axes>"
      ]
     },
     "metadata": {},
     "output_type": "display_data"
    }
   ],
   "source": [
    "corr_with_target = energy_gas.corr()['Active power'].abs().sort_values()\n",
    "#Удаляем корреляцию целевой переменной с самой собой\n",
    "corr_with_target = corr_with_target.drop('Active power')\n",
    "#Строим столбчатую диаграмму корреляций\n",
    "fig, ax = plt.subplots(figsize=(10, 5)) #фигура+координатная плоскость\n",
    "ax.bar(corr_with_target.index, corr_with_target.values) #столбчатая диаграмма\n",
    "ax.set_title('Correlations with target') #название графика\n",
    "ax.set_xlabel('Feature') #название оси x\n",
    "ax.set_ylabel('Сorrelation coefficient'); #название оси y"
   ]
  },
  {
   "cell_type": "markdown",
   "metadata": {},
   "source": [
    "### Обучение модели на признаках без расхода газа"
   ]
  },
  {
   "cell_type": "code",
   "execution_count": 47,
   "metadata": {},
   "outputs": [
    {
     "name": "stdout",
     "output_type": "stream",
     "text": [
      "Train: (2865, 6) (2865,)\n",
      "Test: (1229, 6) (1229,)\n"
     ]
    }
   ],
   "source": [
    "# Итак, давайте разделим нашу выборку на тренировочную и тестовую в соотношении 70/30:\n",
    "from sklearn.model_selection import train_test_split\n",
    "y = df_1['Active power']\n",
    "X = df_1.drop(columns=['Active power'], axis=1)\n",
    "#Разделяем выборку на тренировочную и тестовую в соотношении 70/30\n",
    "#Устанавливаем random_state для воспроизводимости результатов \n",
    "X_train, X_test, y_train, y_test = train_test_split(X, y, test_size=0.3, random_state=42)\n",
    "#Выводим результирующие размеры таблиц\n",
    "print('Train:', X_train.shape, y_train.shape)\n",
    "print('Test:', X_test.shape, y_test.shape)"
   ]
  },
  {
   "cell_type": "code",
   "execution_count": 48,
   "metadata": {},
   "outputs": [],
   "source": [
    "# Затем обучим линейную регрессию (с помощью МНК) на тренировочных данных и рассчитаем R**2 для тренировочных и тестовых данных:\n",
    "#Создаём объект класса LinearRegression\n",
    "from sklearn import metrics\n",
    "from sklearn import linear_model\n",
    "\n",
    "lr_model = linear_model.LinearRegression()\n",
    "#Обучаем модель по МНК\n",
    "lr_model.fit(X_train, y_train)\n",
    " \n",
    "#Делаем предсказание для тренировочной выборки\n",
    "y_train_predict = lr_model.predict(X_train)\n",
    "#Делаем предсказание для тестовой выборки\n",
    "y_test_predict = lr_model.predict(X_test)"
   ]
  },
  {
   "cell_type": "code",
   "execution_count": 49,
   "metadata": {},
   "outputs": [
    {
     "name": "stdout",
     "output_type": "stream",
     "text": [
      "Train R^2: 0.778\n",
      "Train MAE: 1581.000\n",
      "Train MAPE: 44.000\n",
      "\n",
      "\n",
      "Test R^2: 0.801\n",
      "Test MAE: 1474.000\n",
      "Train MAPE: 41.000\n"
     ]
    }
   ],
   "source": [
    "def print_metrics(y_train, y_train_predict, y_test, y_test_predict):\n",
    "    print('Train R^2: {:.3f}'.format(metrics.r2_score(y_train, y_train_predict)))\n",
    "    print('Train MAE: {:.3f}'.format(round(metrics.mean_absolute_error(y_train, y_train_predict))))\n",
    "    print('Train MAPE: {:.3f}'.format(round(metrics.mean_absolute_percentage_error(y_train, y_train_predict)*100)))\n",
    "    print('\\n')\n",
    "    print('Test R^2: {:.3f}'.format(metrics.r2_score(y_test, y_test_predict)))\n",
    "    print('Test MAE: {:.3f}'.format(round(metrics.mean_absolute_error(y_test, y_test_predict))))\n",
    "    print('Train MAPE: {:.3f}'.format(round(metrics.mean_absolute_percentage_error(y_test, y_test_predict)*100)))\n",
    "    \n",
    "print_metrics(y_train, y_train_predict, y_test, y_test_predict)\n",
    "\n",
    "# показатели довольно близки друг к другу (низкий разброс ответов модели для разных выборок). Это одно из свидетельств отсутствия переобучения. "
   ]
  },
  {
   "cell_type": "markdown",
   "metadata": {},
   "source": [
    "### Обучение модели на признаках с расходом газа"
   ]
  },
  {
   "cell_type": "code",
   "execution_count": 68,
   "metadata": {},
   "outputs": [],
   "source": [
    "from sklearn.model_selection import train_test_split\n",
    "y = energy_gas['Active power']\n",
    "X = energy_gas.drop(columns=['Active power'], axis=1)\n",
    "\n",
    "X_train, X_test, y_train, y_test = train_test_split(X, y, test_size=0.3, random_state=42)"
   ]
  },
  {
   "cell_type": "code",
   "execution_count": 51,
   "metadata": {},
   "outputs": [],
   "source": [
    "from sklearn import metrics\n",
    "from sklearn import linear_model\n",
    "\n",
    "lr_model = linear_model.LinearRegression()\n",
    "#Обучаем модель по МНК\n",
    "lr_model.fit(X_train, y_train)\n",
    " \n",
    "y_train_predict = lr_model.predict(X_train)\n",
    "y_test_predict = lr_model.predict(X_test)"
   ]
  },
  {
   "cell_type": "code",
   "execution_count": 52,
   "metadata": {},
   "outputs": [
    {
     "name": "stdout",
     "output_type": "stream",
     "text": [
      "Train R^2: 0.909\n",
      "Train MAE: 1031.000\n",
      "Train MAPE: 15.000\n",
      "\n",
      "\n",
      "Test R^2: 0.886\n",
      "Test MAE: 1062.000\n",
      "Train MAPE: 19.000\n"
     ]
    }
   ],
   "source": [
    "def print_metrics(y_train, y_train_predict, y_test, y_test_predict):\n",
    "    print('Train R^2: {:.3f}'.format(metrics.r2_score(y_train, y_train_predict)))\n",
    "    print('Train MAE: {:.3f}'.format(round(metrics.mean_absolute_error(y_train, y_train_predict))))\n",
    "    print('Train MAPE: {:.3f}'.format(round(metrics.mean_absolute_percentage_error(y_train, y_train_predict)*100)))\n",
    "    print('\\n')\n",
    "    print('Test R^2: {:.3f}'.format(metrics.r2_score(y_test, y_test_predict)))\n",
    "    print('Test MAE: {:.3f}'.format(round(metrics.mean_absolute_error(y_test, y_test_predict))))\n",
    "    print('Train MAPE: {:.3f}'.format(round(metrics.mean_absolute_percentage_error(y_test, y_test_predict)*100)))\n",
    "    \n",
    "print_metrics(y_train, y_train_predict, y_test, y_test_predict)"
   ]
  },
  {
   "cell_type": "markdown",
   "metadata": {},
   "source": [
    "### Добавим полиномиальные признаки"
   ]
  },
  {
   "cell_type": "code",
   "execution_count": 69,
   "metadata": {},
   "outputs": [
    {
     "name": "stdout",
     "output_type": "stream",
     "text": [
      "(2865, 35)\n",
      "(1229, 35)\n"
     ]
    }
   ],
   "source": [
    "from sklearn import preprocessing\n",
    "\n",
    "#Создаём генератор полиномиальных признаков\n",
    "poly = preprocessing.PolynomialFeatures(degree=2, include_bias=False)\n",
    "poly.fit(X_train)\n",
    "#Генерируем полиномиальные признаки для тренировочной выборки\n",
    "X_train_poly = poly.transform(X_train)\n",
    "#Генерируем полиномиальные признаки для тестовой выборки\n",
    "X_test_poly = poly.transform(X_test)\n",
    "#Выводим результирующие размерности таблиц\n",
    "print(X_train_poly.shape)\n",
    "print(X_test_poly.shape)"
   ]
  },
  {
   "cell_type": "code",
   "execution_count": 70,
   "metadata": {},
   "outputs": [
    {
     "name": "stdout",
     "output_type": "stream",
     "text": [
      "Train R^2: 0.961\n",
      "Train MAE: 605.000\n",
      "Train MAPE: 5.000\n",
      "\n",
      "\n",
      "Test R^2: 0.945\n",
      "Test MAE: 665.000\n",
      "Train MAPE: 6.000\n"
     ]
    }
   ],
   "source": [
    "lr_model_poly = linear_model.LinearRegression()\n",
    "#Обучаем модель по МНК\n",
    "lr_model_poly.fit(X_train_poly, y_train)\n",
    "#Делаем предсказание для тренировочной выборки\n",
    "y_train_predict_poly = lr_model_poly.predict(X_train_poly)\n",
    "#Делаем предсказание для тестовой выборки\n",
    "y_test_predict_poly = lr_model_poly.predict(X_test_poly)\n",
    "\n",
    "print_metrics(y_train, y_train_predict_poly, y_test, y_test_predict_poly)"
   ]
  },
  {
   "cell_type": "markdown",
   "metadata": {},
   "source": [
    "### Регуляризация"
   ]
  }
 ],
 "metadata": {
  "interpreter": {
   "hash": "e7b67c4c70b37abe9a13cdef6d156c2045a2cb7d6c971e7027ad705fb56218cc"
  },
  "kernelspec": {
   "display_name": "Python 3.8.8 64-bit ('base': conda)",
   "language": "python",
   "name": "python3"
  },
  "language_info": {
   "codemirror_mode": {
    "name": "ipython",
    "version": 3
   },
   "file_extension": ".py",
   "mimetype": "text/x-python",
   "name": "python",
   "nbconvert_exporter": "python",
   "pygments_lexer": "ipython3",
   "version": "3.8.8"
  },
  "orig_nbformat": 4
 },
 "nbformat": 4,
 "nbformat_minor": 2
}
